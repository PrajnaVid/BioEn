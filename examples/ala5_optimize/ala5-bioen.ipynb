{
 "cells": [
  {
   "cell_type": "markdown",
   "metadata": {
    "toc": true
   },
   "source": [
    "<h1>Table of Contents<span class=\"tocSkip\"></span></h1>\n",
    "<div class=\"toc\"><ul class=\"toc-item\"><li><span><a href=\"#Ala5-BioEn-optimize-API-example\" data-toc-modified-id=\"Ala5-BioEn-optimize-API-example-1\"><span class=\"toc-item-num\">1&nbsp;&nbsp;</span>Ala5 BioEn-optimize API example</a></span></li><li><span><a href=\"#Read-$\\phi$-and-$\\psi$-dihedral-angles\" data-toc-modified-id=\"Read-$\\phi$-and-$\\psi$-dihedral-angles-2\"><span class=\"toc-item-num\">2&nbsp;&nbsp;</span>Read $\\phi$ and $\\psi$ dihedral angles</a></span></li><li><span><a href=\"#example-calculation-for-J-couplings\" data-toc-modified-id=\"example-calculation-for-J-couplings-3\"><span class=\"toc-item-num\">3&nbsp;&nbsp;</span>example calculation for J-couplings</a></span></li><li><span><a href=\"#Read-J-couplings\" data-toc-modified-id=\"Read-J-couplings-4\"><span class=\"toc-item-num\">4&nbsp;&nbsp;</span>Read J-couplings</a></span></li><li><span><a href=\"#Prepare-BioEn-optimization\" data-toc-modified-id=\"Prepare-BioEn-optimization-5\"><span class=\"toc-item-num\">5&nbsp;&nbsp;</span>Prepare BioEn optimization</a></span><ul class=\"toc-item\"><li><span><a href=\"#Function-to-run-series-of-BioEn-optimizations\" data-toc-modified-id=\"Function-to-run-series-of-BioEn-optimizations-5.1\"><span class=\"toc-item-num\">5.1&nbsp;&nbsp;</span>Function to run series of BioEn optimizations</a></span></li><li><span><a href=\"#Handling-output\" data-toc-modified-id=\"Handling-output-5.2\"><span class=\"toc-item-num\">5.2&nbsp;&nbsp;</span>Handling output</a></span></li></ul></li><li><span><a href=\"#Analysis\" data-toc-modified-id=\"Analysis-6\"><span class=\"toc-item-num\">6&nbsp;&nbsp;</span>Analysis</a></span><ul class=\"toc-item\"><li><span><a href=\"#Setup\" data-toc-modified-id=\"Setup-6.1\"><span class=\"toc-item-num\">6.1&nbsp;&nbsp;</span>Setup</a></span></li><li><span><a href=\"#Elbow-plots\" data-toc-modified-id=\"Elbow-plots-6.2\"><span class=\"toc-item-num\">6.2&nbsp;&nbsp;</span>Elbow plots</a></span></li><li><span><a href=\"#Ramachandran-plots\" data-toc-modified-id=\"Ramachandran-plots-6.3\"><span class=\"toc-item-num\">6.3&nbsp;&nbsp;</span>Ramachandran plots</a></span><ul class=\"toc-item\"><li><span><a href=\"#MD-results\" data-toc-modified-id=\"MD-results-6.3.1\"><span class=\"toc-item-num\">6.3.1&nbsp;&nbsp;</span>MD results</a></span></li><li><span><a href=\"#Optimal-BioEn-ensemble\" data-toc-modified-id=\"Optimal-BioEn-ensemble-6.3.2\"><span class=\"toc-item-num\">6.3.2&nbsp;&nbsp;</span>Optimal BioEn ensemble</a></span></li></ul></li><li><span><a href=\"#PDB-statistics\" data-toc-modified-id=\"PDB-statistics-6.4\"><span class=\"toc-item-num\">6.4&nbsp;&nbsp;</span>PDB statistics</a></span></li><li><span><a href=\"#Plot\" data-toc-modified-id=\"Plot-6.5\"><span class=\"toc-item-num\">6.5&nbsp;&nbsp;</span>Plot</a></span></li></ul></li></ul></div>"
   ]
  },
  {
   "cell_type": "code",
   "execution_count": 282,
   "metadata": {},
   "outputs": [
    {
     "data": {
      "text/plain": [
       "'3.7.3 | packaged by conda-forge | (default, Mar 27 2019, 23:01:00) \\n[GCC 7.3.0]'"
      ]
     },
     "execution_count": 282,
     "metadata": {},
     "output_type": "execute_result"
    }
   ],
   "source": [
    "import sys\n",
    "sys.version"
   ]
  },
  {
   "cell_type": "markdown",
   "metadata": {},
   "source": [
    "### Ala5 BioEn-optimize API example"
   ]
  },
  {
   "cell_type": "markdown",
   "metadata": {},
   "source": [
    "Some code to generate the BioEn inputs to use BioEn optimize via its Python API."
   ]
  },
  {
   "cell_type": "code",
   "execution_count": 283,
   "metadata": {},
   "outputs": [],
   "source": [
    "import numpy as np\n",
    "import os\n",
    "import pandas as pd\n",
    "import matplotlib.pyplot as plt\n",
    "%matplotlib inline\n",
    "\n",
    "def loop_data_files_ala5(jkeys, sim_fn, r_tup=(2,6)):\n",
    "    sim_fn_l = []\n",
    "    c = 0\n",
    "    for i, k in enumerate(jkeys):\n",
    "        for r in range(r_tup[0], r_tup[1]):  \n",
    "            fn = sim_fn.format(r,k)\n",
    "            if os.path.exists(fn):\n",
    "                c += 1\n",
    "                sim_fn_l.append(fn)\n",
    "    return c, sim_fn_l\n",
    "\n",
    "\n",
    "def ala5_jcouplings_bioen_input(jkeys, J,\n",
    "    sim_fn=\"../../jcoupling_sk10/dft2/r{}_J{}_dft2_deg_err_bl5\", skip=1,\n",
    "    return_exp_details=False, err_column_name=\"sigma\"):\n",
    "    \n",
    "    # definition of the output arrays\n",
    "    n_exp, sim_fn_l = loop_data_files_ala5(jkeys, sim_fn)\n",
    "    n_stru = len(np.genfromtxt(sim_fn_l[0])[::skip])\n",
    "    \n",
    "    y_tilde = np.zeros((n_exp, n_stru))\n",
    "    yTilde = np.zeros((n_exp, n_stru))\n",
    "    Y_Tilde = np.zeros(n_exp)\n",
    "    \n",
    "    # experiment unscale and experimental error\n",
    "    exp_unscaled = np.zeros(n_exp)\n",
    "    exp_sigma = np.zeros(n_exp)\n",
    "    \n",
    "    res_jcp_l = []\n",
    "    c = 0\n",
    "    for i, k in enumerate(jkeys):\n",
    "        for r in range(2,6):  \n",
    "        #fn = \"../../orig/r{}_J{}_orig_deg_err_bl10\".format(r,k)\n",
    "            fn = sim_fn.format(r,k)\n",
    "            if os.path.exists(fn):\n",
    "                sim_ar = np.genfromtxt(fn)[::skip]\n",
    "                y_tilde[c,:] = sim_ar\n",
    "                print(c, r, k)\n",
    "                exp = J[(J['Jtype']==k) & (J['res']==r)]\n",
    "                \n",
    "                # error \n",
    "                obsv_err = exp[err_column_name].values\n",
    "                yTilde[c,:] = np.copy(sim_ar) / obsv_err [:,None]\n",
    "                Y_Tilde[c] =  exp.Jexpt.values /  obsv_err \n",
    "                \n",
    "                exp_unscaled[c] = exp.Jexpt.values\n",
    "                exp_sigma[c] = obsv_err \n",
    "                \n",
    "                res_jcp_l.append(\"r{} {}\".format(r,k))            \n",
    "                c +=1\n",
    "            else:\n",
    "                print(\"missing\")\n",
    "    \n",
    "    if return_exp_details:\n",
    "        return res_jcp_l, y_tilde, yTilde, Y_Tilde.T, np.column_stack((exp_unscaled, \n",
    "                                                                exp_sigma))\n",
    "    else:\n",
    "        return res_jcp_l, y_tilde, yTilde, Y_Tilde.T"
   ]
  },
  {
   "cell_type": "code",
   "execution_count": null,
   "metadata": {},
   "outputs": [],
   "source": []
  },
  {
   "cell_type": "markdown",
   "metadata": {},
   "source": [
    "### Read $\\phi$ and $\\psi$ dihedral angles"
   ]
  },
  {
   "cell_type": "code",
   "execution_count": 284,
   "metadata": {},
   "outputs": [
    {
     "name": "stdout",
     "output_type": "stream",
     "text": [
      "/usr/bin/sh: module: line 1: syntax error: unexpected end of file\n",
      "/usr/bin/sh: error importing function definition for `BASH_FUNC_module'\n",
      "dft2.tar.bz2\n",
      "phi_psi_deg.tar.gz\n",
      "ala_phi_psi.txt\n"
     ]
    }
   ],
   "source": [
    "! tar xfv ala5-release-1.tar.gz"
   ]
  },
  {
   "cell_type": "code",
   "execution_count": 285,
   "metadata": {},
   "outputs": [
    {
     "name": "stdout",
     "output_type": "stream",
     "text": [
      "/usr/bin/sh: module: line 1: syntax error: unexpected end of file\n",
      "/usr/bin/sh: error importing function definition for `BASH_FUNC_module'\n",
      "c_phi_psi_deg_4\n",
      "c_phi_psi_deg_3\n",
      "c_phi_psi_deg_2\n",
      "c_phi_psi_deg_6\n",
      "c_phi_psi_deg_5\n"
     ]
    }
   ],
   "source": [
    "! tar xfv phi_psi_deg.tar.gz"
   ]
  },
  {
   "cell_type": "markdown",
   "metadata": {},
   "source": [
    "### example calculation for J-couplings\n",
    "\n",
    "c.f., calculation as in Best and co-workers 2008."
   ]
  },
  {
   "cell_type": "code",
   "execution_count": 286,
   "metadata": {},
   "outputs": [],
   "source": [
    "def karplus_eq(theta, A, B, C, delta):\n",
    "    return A*np.cos(theta+delta)**2 + B*np.cos(theta+delta) + C\n",
    "\n",
    "def calc_j3_hn_ha(phi, A=9.14, B=-2.28, C=-0.29, delta=np.deg2rad(-64.51)):\n",
    "    return karplus_eq(phi, A, B, C, delta)"
   ]
  },
  {
   "cell_type": "code",
   "execution_count": 287,
   "metadata": {},
   "outputs": [],
   "source": [
    "deg_l = []\n",
    "for i in range(2,7):\n",
    "    deg_l.append(np.loadtxt(\"./c_phi_psi_deg_{}\".format(i)))"
   ]
  },
  {
   "cell_type": "code",
   "execution_count": 288,
   "metadata": {},
   "outputs": [],
   "source": [
    "j3_hnha = calc_j3_hn_ha(np.deg2rad(deg_l[1])[:,0], delta=np.deg2rad(-64.51))"
   ]
  },
  {
   "cell_type": "code",
   "execution_count": 289,
   "metadata": {},
   "outputs": [
    {
     "data": {
      "text/plain": [
       "(100001,)"
      ]
     },
     "execution_count": 289,
     "metadata": {},
     "output_type": "execute_result"
    }
   ],
   "source": [
    "j3_hnha.shape"
   ]
  },
  {
   "cell_type": "code",
   "execution_count": 290,
   "metadata": {},
   "outputs": [
    {
     "name": "stdout",
     "output_type": "stream",
     "text": [
      "/usr/bin/sh: module: line 1: syntax error: unexpected end of file\n",
      "/usr/bin/sh: error importing function definition for `BASH_FUNC_module'\n",
      "dft2/\n",
      "dft2/r4_J3JHNC_dft2_deg_err_bl5\n",
      "dft2/r5_J1JNCA_dft2_deg_err_bl5\n",
      "dft2/r3_J3JHAC_dft2_deg_err_bl5\n",
      "dft2/r2_J3JHNCA_dft2_deg_err_bl5\n",
      "dft2/r4_J1JNCA_dft2_deg_err_bl5\n",
      "dft2/r5_J2JNCA_dft2_deg_err_bl5\n",
      "dft2/r4_J3JHNCB_dft2_deg_err_bl5\n",
      "dft2/r5_J3JHNHA_dft2_deg_err_bl5\n",
      "dft2/r2_J3JHNC_dft2_deg_err_bl5\n",
      "dft2/r2_J3JHAC_dft2_deg_err_bl5\n",
      "dft2/r3_J3JHNCB_dft2_deg_err_bl5\n",
      "dft2/r4_J2JNCA_dft2_deg_err_bl5\n",
      "dft2/r5_J3JHNCA_dft2_deg_err_bl5\n",
      "dft2/r2_J3JHNHA_dft2_deg_err_bl5\n",
      "dft2/r2_J1JNCA_dft2_deg_err_bl5\n",
      "dft2/r5_J3JHNCB_dft2_deg_err_bl5\n",
      "dft2/r3_J1JNCA_dft2_deg_err_bl5\n",
      "dft2/r3_J3JHNCA_dft2_deg_err_bl5\n",
      "dft2/r4_J3JHAC_dft2_deg_err_bl5\n",
      "dft2/r2_J3JCC_dft2_deg_err_bl5\n",
      "dft2/r5_J3JHAC_dft2_deg_err_bl5\n",
      "dft2/r3_J3JHNHA_dft2_deg_err_bl5\n",
      "dft2/r4_J3JHNHA_dft2_deg_err_bl5\n",
      "dft2/r2_J3JHNCB_dft2_deg_err_bl5\n",
      "dft2/r4_J3JHNCA_dft2_deg_err_bl5\n",
      "dft2/r5_J3JHNC_dft2_deg_err_bl5\n",
      "dft2/r3_J2JNCA_dft2_deg_err_bl5\n",
      "dft2/dft2_deg_err_bl5_j.dat\n",
      "dft2/r2_J2JNCA_dft2_deg_err_bl5\n"
     ]
    }
   ],
   "source": [
    "! tar xfv dft2.tar.bz2"
   ]
  },
  {
   "cell_type": "code",
   "execution_count": 291,
   "metadata": {},
   "outputs": [],
   "source": [
    "ref_j3_hnha = np.genfromtxt(\"dft2/r2_J3JHNHA_dft2_deg_err_bl5\")"
   ]
  },
  {
   "cell_type": "markdown",
   "metadata": {},
   "source": [
    "Zoom in onto initial part of trajectory."
   ]
  },
  {
   "cell_type": "code",
   "execution_count": 292,
   "metadata": {},
   "outputs": [
    {
     "data": {
      "text/plain": [
       "Text(0.5, 0, 'Time [ps]')"
      ]
     },
     "execution_count": 292,
     "metadata": {},
     "output_type": "execute_result"
    },
    {
     "data": {
      "image/png": "[encoded data removed]",
      "text/plain": [
       "<Figure size 1080x216 with 1 Axes>"
      ]
     },
     "metadata": {
      "needs_background": "light"
     },
     "output_type": "display_data"
    }
   ],
   "source": [
    "fig, ax = plt.subplots(figsize=(15,3))\n",
    "plt.plot(ref_j3_hnha, \"o\", alpha=0.4)\n",
    "plt.plot(j3_hnha, \"-\", alpha=0.4)\n",
    "plt.xlim(0,1000)\n",
    "plt.ylabel(\"$^3J_{HNHA}$ [Hz]\")\n",
    "plt.xlabel(\"Time [ps]\")"
   ]
  },
  {
   "cell_type": "markdown",
   "metadata": {},
   "source": [
    "Note that diverse J-couplings are calculated for the trajectory."
   ]
  },
  {
   "cell_type": "markdown",
   "metadata": {},
   "source": [
    "### Read J-couplings"
   ]
  },
  {
   "cell_type": "code",
   "execution_count": 293,
   "metadata": {},
   "outputs": [],
   "source": [
    "jkeys = [\"3JHNHA\",\"3JHNC\",\"3JHAC\",\"3JCC\",\"3JHNCB\",\"1JNCA\",\"2JNCA\",\"3JHNCA\"]"
   ]
  },
  {
   "cell_type": "code",
   "execution_count": 294,
   "metadata": {},
   "outputs": [
    {
     "data": {
      "text/plain": [
       "(28, 50001)"
      ]
     },
     "execution_count": 294,
     "metadata": {},
     "output_type": "execute_result"
    }
   ],
   "source": [
    "skip = 20 # 20-> 50k\n",
    "j_ar = np.zeros((28,  1000001))[:,::skip]\n",
    "j_ar.shape"
   ]
  },
  {
   "cell_type": "code",
   "execution_count": 295,
   "metadata": {},
   "outputs": [
    {
     "name": "stdout",
     "output_type": "stream",
     "text": [
      "/usr/bin/sh: module: line 1: syntax error: unexpected end of file\r\n",
      "/usr/bin/sh: error importing function definition for `BASH_FUNC_module'\r\n",
      "dft2_deg_err_bl5_j.dat\t     r4_J1JNCA_dft2_deg_err_bl5\r\n",
      "r2_J1JNCA_dft2_deg_err_bl5   r4_J2JNCA_dft2_deg_err_bl5\r\n",
      "r2_J2JNCA_dft2_deg_err_bl5   r4_J3JHAC_dft2_deg_err_bl5\r\n",
      "r2_J3JCC_dft2_deg_err_bl5    r4_J3JHNCA_dft2_deg_err_bl5\r\n",
      "r2_J3JHAC_dft2_deg_err_bl5   r4_J3JHNCB_dft2_deg_err_bl5\r\n",
      "r2_J3JHNCA_dft2_deg_err_bl5  r4_J3JHNC_dft2_deg_err_bl5\r\n",
      "r2_J3JHNCB_dft2_deg_err_bl5  r4_J3JHNHA_dft2_deg_err_bl5\r\n",
      "r2_J3JHNC_dft2_deg_err_bl5   r5_J1JNCA_dft2_deg_err_bl5\r\n",
      "r2_J3JHNHA_dft2_deg_err_bl5  r5_J2JNCA_dft2_deg_err_bl5\r\n",
      "r3_J1JNCA_dft2_deg_err_bl5   r5_J3JHAC_dft2_deg_err_bl5\r\n",
      "r3_J2JNCA_dft2_deg_err_bl5   r5_J3JHNCA_dft2_deg_err_bl5\r\n",
      "r3_J3JHAC_dft2_deg_err_bl5   r5_J3JHNCB_dft2_deg_err_bl5\r\n",
      "r3_J3JHNCA_dft2_deg_err_bl5  r5_J3JHNC_dft2_deg_err_bl5\r\n",
      "r3_J3JHNCB_dft2_deg_err_bl5  r5_J3JHNHA_dft2_deg_err_bl5\r\n",
      "r3_J3JHNHA_dft2_deg_err_bl5\r\n"
     ]
    }
   ],
   "source": [
    "! ls dft2"
   ]
  },
  {
   "cell_type": "code",
   "execution_count": 296,
   "metadata": {},
   "outputs": [
    {
     "name": "stderr",
     "output_type": "stream",
     "text": [
      "/home/tb/lustelzl/anaconda2/envs/bioen-3.7/lib/python3.7/site-packages/ipykernel_launcher.py:2: FutureWarning: read_table is deprecated, use read_csv instead, passing sep='\\t'.\n",
      "  \n"
     ]
    }
   ],
   "source": [
    "J_dft2 = pd.read_table(\"dft2/dft2_deg_err_bl5_j.dat\", \n",
    "                  delim_whitespace=True, skipfooter=1, engine='python')"
   ]
  },
  {
   "cell_type": "code",
   "execution_count": 297,
   "metadata": {},
   "outputs": [
    {
     "name": "stdout",
     "output_type": "stream",
     "text": [
      "dft2\n",
      "0 2 3JHNHA\n",
      "1 3 3JHNHA\n",
      "2 4 3JHNHA\n",
      "3 5 3JHNHA\n",
      "4 2 3JHNC\n",
      "missing\n",
      "5 4 3JHNC\n",
      "6 5 3JHNC\n",
      "7 2 3JHAC\n",
      "8 3 3JHAC\n",
      "9 4 3JHAC\n",
      "10 5 3JHAC\n",
      "11 2 3JCC\n",
      "missing\n",
      "missing\n",
      "missing\n",
      "12 2 3JHNCB\n",
      "13 3 3JHNCB\n",
      "14 4 3JHNCB\n",
      "15 5 3JHNCB\n",
      "16 2 1JNCA\n",
      "17 3 1JNCA\n",
      "18 4 1JNCA\n",
      "19 5 1JNCA\n",
      "20 2 2JNCA\n",
      "21 3 2JNCA\n",
      "22 4 2JNCA\n",
      "23 5 2JNCA\n",
      "24 2 3JHNCA\n",
      "25 3 3JHNCA\n",
      "26 4 3JHNCA\n",
      "27 5 3JHNCA\n"
     ]
    }
   ],
   "source": [
    "#tabel_l = [J_dft1, J_dft2, J_orig]\n",
    "#set_names_l = [\"dft1\", \"dft2\", \"orig\"]\n",
    "\n",
    "tabel_l = [ J_dft2]\n",
    "set_names_l = [ \"dft2\"]\n",
    "\n",
    "#dft1_fn = \"/r{}_J{}_dft1_deg_err_bl5\"\n",
    "dft2_fn = \"/r{}_J{}_dft2_deg_err_bl5\"\n",
    "#orig_fn = \"/r{}_J{}_orig_deg_err_bl5\"\n",
    "\n",
    "fn_l = [dft2_fn]\n",
    "\n",
    "raw_l = []\n",
    "j_path=\"./\"\n",
    "\n",
    "for set_i, karplus_set in enumerate(set_names_l):\n",
    "    \n",
    "    print(karplus_set)\n",
    "    \n",
    "    sim_fn = j_path + karplus_set     \n",
    "    #! ls $sim_fn\n",
    "    sim_fn += fn_l[set_i]\n",
    "    \n",
    "    o = ala5_jcouplings_bioen_input(jkeys, tabel_l[set_i], skip=2,\n",
    "                                    return_exp_details=True,\n",
    "                                    err_column_name=\"sigma\",\n",
    "                                    sim_fn=sim_fn)\n",
    "    \n",
    "    raw_l.append(o)"
   ]
  },
  {
   "cell_type": "code",
   "execution_count": 298,
   "metadata": {},
   "outputs": [
    {
     "name": "stdout",
     "output_type": "stream",
     "text": [
      "/usr/bin/sh: module: line 1: syntax error: unexpected end of file\r\n",
      "/usr/bin/sh: error importing function definition for `BASH_FUNC_module'\r\n"
     ]
    }
   ],
   "source": [
    "for set_i, karplus_set in enumerate(set_names_l):\n",
    "    \n",
    "    \n",
    "    res_jcp_l, y_tilde, yTilde, Y_Tilde, exp_obs_err = raw_l[set_i]\n",
    "    \n",
    "    N = y_tilde.shape[1]\n",
    "    w0 = (np.matrix(np.ones(N)/(N))).T\n",
    "    \n",
    "    opt_dir = karplus_set+\"_for_opt\"\n",
    "    #! mkdir -p $karplus_set\n",
    "    ! mkdir -p $opt_dir\n",
    "    #np.savetxt(\"for_opt/G.txt\", G)\n",
    "    np.savetxt(opt_dir+\"/w0.txt\", w0)\n",
    "    np.savetxt(opt_dir+\"/y.txt\", y_tilde)\n",
    "    np.savetxt(opt_dir+\"/yTilde.txt\", yTilde)\n",
    "    np.savetxt(opt_dir+\"/Y_Tilde.txt\", Y_Tilde)"
   ]
  },
  {
   "cell_type": "code",
   "execution_count": null,
   "metadata": {},
   "outputs": [],
   "source": []
  },
  {
   "cell_type": "code",
   "execution_count": 299,
   "metadata": {},
   "outputs": [
    {
     "name": "stdout",
     "output_type": "stream",
     "text": [
      "/usr/bin/sh: module: line 1: syntax error: unexpected end of file\r\n",
      "/usr/bin/sh: error importing function definition for `BASH_FUNC_module'\r\n",
      "dft2_deg_err_bl5_j.dat\t     r4_J1JNCA_dft2_deg_err_bl5\r\n",
      "r2_J1JNCA_dft2_deg_err_bl5   r4_J2JNCA_dft2_deg_err_bl5\r\n",
      "r2_J2JNCA_dft2_deg_err_bl5   r4_J3JHAC_dft2_deg_err_bl5\r\n",
      "r2_J3JCC_dft2_deg_err_bl5    r4_J3JHNCA_dft2_deg_err_bl5\r\n",
      "r2_J3JHAC_dft2_deg_err_bl5   r4_J3JHNCB_dft2_deg_err_bl5\r\n",
      "r2_J3JHNCA_dft2_deg_err_bl5  r4_J3JHNC_dft2_deg_err_bl5\r\n",
      "r2_J3JHNCB_dft2_deg_err_bl5  r4_J3JHNHA_dft2_deg_err_bl5\r\n",
      "r2_J3JHNC_dft2_deg_err_bl5   r5_J1JNCA_dft2_deg_err_bl5\r\n",
      "r2_J3JHNHA_dft2_deg_err_bl5  r5_J2JNCA_dft2_deg_err_bl5\r\n",
      "r3_J1JNCA_dft2_deg_err_bl5   r5_J3JHAC_dft2_deg_err_bl5\r\n",
      "r3_J2JNCA_dft2_deg_err_bl5   r5_J3JHNCA_dft2_deg_err_bl5\r\n",
      "r3_J3JHAC_dft2_deg_err_bl5   r5_J3JHNCB_dft2_deg_err_bl5\r\n",
      "r3_J3JHNCA_dft2_deg_err_bl5  r5_J3JHNC_dft2_deg_err_bl5\r\n",
      "r3_J3JHNCB_dft2_deg_err_bl5  r5_J3JHNHA_dft2_deg_err_bl5\r\n",
      "r3_J3JHNHA_dft2_deg_err_bl5\r\n"
     ]
    }
   ],
   "source": [
    "! ls dft2"
   ]
  },
  {
   "cell_type": "markdown",
   "metadata": {},
   "source": [
    "### Prepare BioEn optimization"
   ]
  },
  {
   "cell_type": "markdown",
   "metadata": {},
   "source": [
    "#### Function to run series of BioEn optimizations"
   ]
  },
  {
   "cell_type": "code",
   "execution_count": 300,
   "metadata": {},
   "outputs": [],
   "source": [
    "from collections import defaultdict\n",
    "from bioen.analyze import utils"
   ]
  },
  {
   "cell_type": "code",
   "execution_count": 301,
   "metadata": {},
   "outputs": [],
   "source": [
    "def run_theta_series(w0, y, yTilde, Y_Tilde, opt_method=\"forces\", verbose=True,\n",
    "                     theta_l=[100000, 10000, 1000, 200, 10, 1, 0.2, 0.1, 0],\n",
    "                     cfg=None):\n",
    "    wopt_d = {}\n",
    "    yopt_d = {}\n",
    "    time_d = {}\n",
    "    S_d = {}\n",
    "    chi2_d = {}\n",
    "    L_d = {}\n",
    "    \n",
    "    N = len(w0.flat)\n",
    "    M = yTilde.shape[0]\n",
    "        \n",
    "    #w0 = w0.reshape((N,1))\n",
    "        \n",
    "    G = optimize.log_weights.getGs(w0.reshape((N,1)))\n",
    "    GInit = optimize.log_weights.getGs(w0.reshape((N,1)))\n",
    "    #G = G.reshape(N)\n",
    "    #GInit = GInit.reshape(N)\n",
    "    #print(G.shape)\n",
    "    \n",
    "    forces_init = optimize.forces.init_forces(M)\n",
    "    \n",
    "    if np.all(cfg) is None:\n",
    "        # using defaults\n",
    "        cfg = optimize.minimize.Parameters()\n",
    "    \n",
    "    for i, theta in enumerate(theta_l):\n",
    "        if verbose:\n",
    "            print(theta)\n",
    "        \n",
    "        if opt_method == \"log-weights\":\n",
    "            start=time.time()\n",
    "            \n",
    "            \n",
    "            \n",
    "            o = optimize.log_weights.find_optimum(GInit, G, \n",
    "                                            y, yTilde, Y_Tilde, theta, cfg)\n",
    "            end=time.time()\n",
    "            dt=end-start\n",
    "            wopt, yopt, gopt, f_initial, f_final = o \n",
    "            \n",
    "            # calculate S and chi2\n",
    "            S = utils.get_entropy(w0, wopt)*-1 # to get KL \n",
    "            chi2 = optimize.common.chiSqrTerm(wopt, yTilde, Y_Tilde)\n",
    "            \n",
    "            \n",
    "            #Ginit = optimize.log_weights.getGs(wopt)\n",
    "            GInit = gopt\n",
    "           \n",
    "        if opt_method == 'forces':\n",
    "            start=time.time()\n",
    "\n",
    "            o = optimize.forces.find_optimum(forces_init, w0,\n",
    "                                             y, yTilde,\n",
    "                                             Y_Tilde, theta, cfg)\n",
    "            end=time.time()\n",
    "            dt=end-start\n",
    "\n",
    "            # outputs from minimization\n",
    "            wopt, yopt, forces_opt, f_initial, f_final, chi2, S = o\n",
    "            \n",
    "            # Get forces for next optimization\n",
    "            forces_init = forces_opt.reshape((M,1))\n",
    "           \n",
    "       \n",
    "        if verbose:\n",
    "           # Needs fixing here\n",
    "           if i > 0:\n",
    "                print(\"start F {}, final F {}\".format(L_d[theta_l[i-1]], f_final))\n",
    " \n",
    "       \n",
    "        wopt_d[theta] = wopt\n",
    "        yopt_d[theta] = yopt\n",
    "        time_d[theta] = dt\n",
    "        S_d[theta] = S\n",
    "        chi2_d[theta] = chi2 \n",
    "        L_d[theta] = f_final\n",
    "     \n",
    "    return wopt_d, yopt_d, L_d, chi2_d, S_d"
   ]
  },
  {
   "cell_type": "markdown",
   "metadata": {},
   "source": [
    "#### Handling output"
   ]
  },
  {
   "cell_type": "code",
   "execution_count": 302,
   "metadata": {},
   "outputs": [],
   "source": [
    "def overview_table(theta_l, L_d, chi2_d, S_d, out_path=\"out\"):\n",
    "    data = []\n",
    "    for i, theta in enumerate(theta_l):\n",
    "        data.append([theta, S_d[theta], chi2_d[theta], L_d[theta]])\n",
    "    np.savetxt(out_path+\"/opt_data.dat\", data, header=\"theta, S, chiSqr, F, offset\") \n",
    "    \n",
    "    \n",
    "def bioen_save_out_array(ar_theta_dict, output_name=\"theta{}_dat.txt\"):\n",
    "    for key, value in ar_theta_dict.items():\n",
    "        np.savetxt(output_name.format(key), value)    \n",
    "    "
   ]
  },
  {
   "cell_type": "code",
   "execution_count": 303,
   "metadata": {},
   "outputs": [],
   "source": [
    "from bioen import optimize\n",
    "import os, sys, time"
   ]
  },
  {
   "cell_type": "code",
   "execution_count": 304,
   "metadata": {},
   "outputs": [],
   "source": [
    "#! cp ~/bio/BioEn/ala5/ala5_ph2/ala5_ph2_2/nb_dft1/run1/thetas2.dat . \n",
    "#! cp /home/tb/lustelzl/DATA/Projects/BioEn/rna-example/lbfgs_2.yaml . "
   ]
  },
  {
   "cell_type": "code",
   "execution_count": 305,
   "metadata": {},
   "outputs": [],
   "source": [
    "cfg = optimize.util.load_template_config_yaml(\n",
    "    \"lbfgs_2.yaml\", \"lbfgs\")\n",
    "\n",
    "#cfg = optimize.minimize.Parameters('gsl')\n",
    "cfg[\"verbose\"] = True"
   ]
  },
  {
   "cell_type": "code",
   "execution_count": 306,
   "metadata": {},
   "outputs": [
    {
     "data": {
      "text/plain": [
       "{'minimizer': 'lbfgs',\n",
       " 'debug': True,\n",
       " 'verbose': True,\n",
       " 'params': {'linesearch': 2,\n",
       "  'max_iterations': 20000,\n",
       "  'delta': 1e-06,\n",
       "  'epsilon': 1e-05,\n",
       "  'ftol': 0.0001,\n",
       "  'gtol': 0.9,\n",
       "  'past': 10,\n",
       "  'max_linesearch': 100,\n",
       "  'wolfe': 0.9},\n",
       " 'n_threads': -1,\n",
       " 'cache_ytilde_transposed': 'auto',\n",
       " 'algorithm': '',\n",
       " 'use_c_functions': True}"
      ]
     },
     "execution_count": 306,
     "metadata": {},
     "output_type": "execute_result"
    }
   ],
   "source": [
    "cfg"
   ]
  },
  {
   "cell_type": "code",
   "execution_count": 307,
   "metadata": {},
   "outputs": [],
   "source": [
    "theta_ar = np.genfromtxt(\"thetas2.dat\")"
   ]
  },
  {
   "cell_type": "code",
   "execution_count": 308,
   "metadata": {},
   "outputs": [
    {
     "data": {
      "text/plain": [
       "(50001, 1)"
      ]
     },
     "execution_count": 308,
     "metadata": {},
     "output_type": "execute_result"
    }
   ],
   "source": [
    "w0.shape\n"
   ]
  },
  {
   "cell_type": "code",
   "execution_count": 309,
   "metadata": {},
   "outputs": [
    {
     "data": {
      "text/plain": [
       "matrix([[0.],\n",
       "        [0.],\n",
       "        [0.],\n",
       "        ...,\n",
       "        [0.],\n",
       "        [0.],\n",
       "        [0.]])"
      ]
     },
     "execution_count": 309,
     "metadata": {},
     "output_type": "execute_result"
    }
   ],
   "source": [
    "optimize.log_weights.getGs(w0.reshape(50001,1))"
   ]
  },
  {
   "cell_type": "code",
   "execution_count": 310,
   "metadata": {},
   "outputs": [],
   "source": [
    " #optimize.log_weights.find_optimum?"
   ]
  },
  {
   "cell_type": "code",
   "execution_count": 311,
   "metadata": {
    "scrolled": true
   },
   "outputs": [
    {
     "name": "stdout",
     "output_type": "stream",
     "text": [
      "dft2\n",
      "dft2_for_opt/\n",
      "/usr/bin/sh: module: line 1: syntax error: unexpected end of file\n",
      "/usr/bin/sh: error importing function definition for `BASH_FUNC_module'\n",
      "out/forces/dft2/for_opt\n",
      "100000.0\n",
      "fmin_initial 26.667980199148303\n",
      "--------------------------\n",
      "FORCES -- Library L-BFGS/C\n",
      "--------------------------\n",
      "time elapsed  0.11296558380126953\n",
      "========================\n",
      "fmin_initial           = 26.667980199148303\n",
      "fmin_final             = 26.6617282051306\n",
      "========================\n",
      "83955.78619995104\n",
      "fmin_initial 26.660724312947707\n",
      "--------------------------\n",
      "FORCES -- Library L-BFGS/C\n",
      "--------------------------\n",
      "time elapsed  0.1337141990661621\n",
      "========================\n",
      "fmin_initial           = 26.660724312947707\n",
      "fmin_final             = 26.66053321811696\n",
      "========================\n",
      "start F 26.6617282051306, final F 26.66053321811696\n",
      "70485.74036451904\n",
      "fmin_initial 26.659334022081204\n",
      "--------------------------\n",
      "FORCES -- Library L-BFGS/C\n",
      "--------------------------\n",
      "time elapsed  0.10654902458190918\n",
      "========================\n",
      "fmin_initial           = 26.659334022081204\n",
      "fmin_final             = 26.65911065646816\n",
      "========================\n",
      "start F 26.66053321811696, final F 26.65911065646816\n",
      "59176.85748188818\n",
      "fmin_initial 26.65768825675197\n",
      "--------------------------\n",
      "FORCES -- Library L-BFGS/C\n",
      "--------------------------\n",
      "time elapsed  0.10625958442687988\n",
      "========================\n",
      "fmin_initial           = 26.65768825675197\n",
      "fmin_final             = 26.65741701234559\n",
      "========================\n",
      "start F 26.65911065646816, final F 26.65741701234559\n",
      "49682.39594734387\n",
      "fmin_initial 26.6557275291885\n",
      "--------------------------\n",
      "FORCES -- Library L-BFGS/C\n",
      "--------------------------\n",
      "time elapsed  0.12303280830383301\n",
      "========================\n",
      "fmin_initial           = 26.6557275291885\n",
      "fmin_final             = 26.65540020068063\n",
      "========================\n",
      "start F 26.65741701234559, final F 26.65540020068063\n",
      "41711.24612056516\n",
      "fmin_initial 26.653382165892236\n",
      "--------------------------\n",
      "FORCES -- Library L-BFGS/C\n",
      "--------------------------\n",
      "time elapsed  0.12709832191467285\n",
      "========================\n",
      "fmin_initial           = 26.653382165892236\n",
      "fmin_final             = 26.65299870102193\n",
      "========================\n",
      "start F 26.65540020068063, final F 26.65299870102193\n",
      "35019.00461431713\n",
      "fmin_initial 26.650597707601815\n",
      "--------------------------\n",
      "FORCES -- Library L-BFGS/C\n",
      "--------------------------\n",
      "time elapsed  0.1242225170135498\n",
      "========================\n",
      "fmin_initial           = 26.650597707601815\n",
      "fmin_final             = 26.65013946907409\n",
      "========================\n",
      "start F 26.65299870102193, final F 26.65013946907409\n",
      "29400.480643347077\n",
      "fmin_initial 26.647280257751405\n",
      "--------------------------\n",
      "FORCES -- Library L-BFGS/C\n",
      "--------------------------\n",
      "time elapsed  0.10433816909790039\n",
      "========================\n",
      "fmin_initial           = 26.647280257751405\n",
      "fmin_final             = 26.64673554139148\n",
      "========================\n",
      "start F 26.65013946907409, final F 26.64673554139148\n",
      "24683.404670686512\n",
      "fmin_initial 26.643332889361673\n",
      "--------------------------\n",
      "FORCES -- Library L-BFGS/C\n",
      "--------------------------\n",
      "time elapsed  0.11563968658447266\n",
      "========================\n",
      "fmin_initial           = 26.643332889361673\n",
      "fmin_final             = 26.642683421916843\n",
      "========================\n",
      "start F 26.64673554139148, final F 26.642683421916843\n",
      "20723.146452190296\n",
      "fmin_initial 26.638629456497682\n",
      "--------------------------\n",
      "FORCES -- Library L-BFGS/C\n",
      "--------------------------\n",
      "time elapsed  0.09985017776489258\n",
      "========================\n",
      "fmin_initial           = 26.638629456497682\n",
      "fmin_final             = 26.63785977484804\n",
      "========================\n",
      "start F 26.642683421916843, final F 26.63785977484804\n",
      "17398.28052930362\n",
      "fmin_initial 26.63305235364694\n",
      "--------------------------\n",
      "FORCES -- Library L-BFGS/C\n",
      "--------------------------\n",
      "time elapsed  0.09750247001647949\n",
      "========================\n",
      "fmin_initial           = 26.63305235364694\n",
      "fmin_final             = 26.632118867983618\n",
      "========================\n",
      "start F 26.63785977484804, final F 26.632118867983618\n",
      "14606.86320364989\n",
      "fmin_initial 26.626381040353877\n",
      "--------------------------\n",
      "FORCES -- Library L-BFGS/C\n",
      "--------------------------\n",
      "time elapsed  0.09130215644836426\n",
      "========================\n",
      "fmin_initial           = 26.626381040353877\n",
      "fmin_final             = 26.625287878682464\n",
      "========================\n",
      "start F 26.632118867983618, final F 26.625287878682464\n",
      "12263.306841775644\n",
      "fmin_initial 26.61845327947463\n",
      "--------------------------\n",
      "FORCES -- Library L-BFGS/C\n",
      "--------------------------\n",
      "time elapsed  0.0990452766418457\n",
      "========================\n",
      "fmin_initial           = 26.61845327947463\n",
      "fmin_final             = 26.61716040851997\n",
      "========================\n",
      "start F 26.625287878682464, final F 26.61716040851997\n",
      "10295.755673125128\n",
      "fmin_initial 26.609046170504996\n",
      "--------------------------\n",
      "FORCES -- Library L-BFGS/C\n",
      "--------------------------\n",
      "time elapsed  0.09759712219238281\n",
      "========================\n",
      "fmin_initial           = 26.609046170504996\n",
      "fmin_final             = 26.607492288336886\n",
      "========================\n",
      "start F 26.61716040851997, final F 26.607492288336886\n",
      "8643.882620598262\n",
      "fmin_initial 26.59783704974015\n",
      "--------------------------\n",
      "FORCES -- Library L-BFGS/C\n",
      "--------------------------\n",
      "time elapsed  0.12219977378845215\n",
      "========================\n",
      "fmin_initial           = 26.59783704974015\n",
      "fmin_final             = 26.5959952162306\n",
      "========================\n",
      "start F 26.607492288336886, final F 26.5959952162306\n",
      "7257.039612324216\n",
      "fmin_initial 26.584472068831683\n",
      "--------------------------\n",
      "FORCES -- Library L-BFGS/C\n",
      "--------------------------\n",
      "time elapsed  0.12408137321472168\n",
      "========================\n",
      "fmin_initial           = 26.584472068831683\n",
      "fmin_final             = 26.582327753384114\n",
      "========================\n",
      "start F 26.5959952162306, final F 26.582327753384114\n",
      "6092.704661368674\n",
      "fmin_initial 26.56865926877791\n",
      "--------------------------\n",
      "FORCES -- Library L-BFGS/C\n",
      "--------------------------\n",
      "time elapsed  0.10855460166931152\n",
      "========================\n",
      "fmin_initial           = 26.56865926877791\n",
      "fmin_final             = 26.56608519346656\n",
      "========================\n",
      "start F 26.582327753384114, final F 26.56608519346656\n",
      "5115.178099293145\n",
      "fmin_initial 26.549881003414356\n",
      "--------------------------\n",
      "FORCES -- Library L-BFGS/C\n",
      "--------------------------\n",
      "time elapsed  0.24305081367492676\n",
      "========================\n",
      "fmin_initial           = 26.549881003414356\n",
      "fmin_final             = 26.54678977995292\n",
      "========================\n",
      "start F 26.56608519346656, final F 26.54678977995292\n",
      "4294.487988789272\n",
      "fmin_initial 26.52753009285991\n",
      "--------------------------\n",
      "FORCES -- Library L-BFGS/C\n",
      "--------------------------\n",
      "time elapsed  0.3361029624938965\n",
      "========================\n",
      "fmin_initial           = 26.52753009285991\n",
      "fmin_final             = 26.523879925451524\n",
      "========================\n",
      "start F 26.54678977995292, final F 26.523879925451524\n",
      "3605.4711542505024\n",
      "fmin_initial 26.500934595429598\n",
      "--------------------------\n",
      "FORCES -- Library L-BFGS/C\n",
      "--------------------------\n",
      "time elapsed  0.28900694847106934\n",
      "========================\n",
      "fmin_initial           = 26.500934595429598\n",
      "fmin_final             = 26.49669601615382\n",
      "========================\n",
      "start F 26.523879925451524, final F 26.49669601615382\n",
      "3027.0016537634615\n",
      "fmin_initial 26.469544591144643\n",
      "--------------------------\n",
      "FORCES -- Library L-BFGS/C\n",
      "--------------------------\n",
      "time elapsed  0.2219221591949463\n",
      "========================\n",
      "fmin_initial           = 26.469544591144643\n",
      "fmin_final             = 26.464463595567498\n",
      "========================\n",
      "start F 26.49669601615382, final F 26.464463595567498\n",
      "2541.3430367026367\n",
      "fmin_initial 26.432317189795857\n",
      "--------------------------\n",
      "FORCES -- Library L-BFGS/C\n",
      "--------------------------\n",
      "time elapsed  0.10054540634155273\n",
      "========================\n",
      "fmin_initial           = 26.432317189795857\n",
      "fmin_final             = 26.426276199375426\n",
      "========================\n",
      "start F 26.464463595567498, final F 26.426276199375426\n",
      "2133.604526501411\n",
      "fmin_initial 26.388197178825948\n",
      "--------------------------\n",
      "FORCES -- Library L-BFGS/C\n",
      "--------------------------\n",
      "time elapsed  0.12417912483215332\n",
      "========================\n",
      "fmin_initial           = 26.388197178825948\n",
      "fmin_final             = 26.38107830471831\n",
      "========================\n",
      "start F 26.426276199375426, final F 26.38107830471831\n",
      "1791.284454622004\n",
      "fmin_initial 26.336051654651396\n",
      "--------------------------\n",
      "FORCES -- Library L-BFGS/C\n",
      "--------------------------\n",
      "time elapsed  0.10475754737854004\n"
     ]
    },
    {
     "name": "stdout",
     "output_type": "stream",
     "text": [
      "========================\n",
      "fmin_initial           = 26.336051654651396\n",
      "fmin_final             = 26.32764628120266\n",
      "========================\n",
      "start F 26.38107830471831, final F 26.32764628120266\n",
      "1503.8869469554102\n",
      "fmin_initial 26.274457405669782\n",
      "--------------------------\n",
      "FORCES -- Library L-BFGS/C\n",
      "--------------------------\n",
      "time elapsed  0.13027286529541016\n",
      "========================\n",
      "fmin_initial           = 26.274457405669782\n",
      "fmin_final             = 26.264570611204313\n",
      "========================\n",
      "start F 26.32764628120266, final F 26.264570611204313\n",
      "1262.6001098748552\n",
      "fmin_initial 26.20181162945409\n",
      "--------------------------\n",
      "FORCES -- Library L-BFGS/C\n",
      "--------------------------\n",
      "time elapsed  0.11013507843017578\n",
      "========================\n",
      "fmin_initial           = 26.20181162945409\n",
      "fmin_final             = 26.190225716269772\n",
      "========================\n",
      "start F 26.264570611204313, final F 26.190225716269772\n",
      "1060.0258488068823\n",
      "fmin_initial 26.11631617759401\n",
      "--------------------------\n",
      "FORCES -- Library L-BFGS/C\n",
      "--------------------------\n",
      "time elapsed  0.10743236541748047\n",
      "========================\n",
      "fmin_initial           = 26.11631617759401\n",
      "fmin_final             = 26.102768115780922\n",
      "========================\n",
      "start F 26.190225716269772, final F 26.102768115780922\n",
      "889.9530352885224\n",
      "fmin_initial 26.0157688788954\n",
      "--------------------------\n",
      "FORCES -- Library L-BFGS/C\n",
      "--------------------------\n",
      "time elapsed  0.12561798095703125\n",
      "========================\n",
      "fmin_initial           = 26.0157688788954\n",
      "fmin_final             = 26.000117335124266\n",
      "========================\n",
      "start F 26.102768115780922, final F 26.000117335124266\n",
      "747.1670675868074\n",
      "fmin_initial 25.898176854197203\n",
      "--------------------------\n",
      "FORCES -- Library L-BFGS/C\n",
      "--------------------------\n",
      "time elapsed  0.11225199699401855\n",
      "========================\n",
      "fmin_initial           = 25.898176854197203\n",
      "fmin_final             = 25.87994694574587\n",
      "========================\n",
      "start F 26.000117335124266, final F 25.87994694574587\n",
      "627.2899858196243\n",
      "fmin_initial 25.76083269894752\n",
      "--------------------------\n",
      "FORCES -- Library L-BFGS/C\n",
      "--------------------------\n",
      "time elapsed  0.11691975593566895\n",
      "========================\n",
      "fmin_initial           = 25.76083269894752\n",
      "fmin_final             = 25.73968555859312\n",
      "========================\n",
      "start F 25.87994694574587, final F 25.73968555859312\n",
      "526.6462393484276\n",
      "fmin_initial 25.60092298072501\n",
      "--------------------------\n",
      "FORCES -- Library L-BFGS/C\n",
      "--------------------------\n",
      "time elapsed  0.1270287036895752\n",
      "========================\n",
      "fmin_initial           = 25.60092298072501\n",
      "fmin_final             = 25.576546066526383\n",
      "========================\n",
      "start F 25.73968555859312, final F 25.576546066526383\n",
      "442.14999073744866\n",
      "fmin_initial 25.415450767256843\n",
      "--------------------------\n",
      "FORCES -- Library L-BFGS/C\n",
      "--------------------------\n",
      "time elapsed  0.15727996826171875\n",
      "========================\n",
      "fmin_initial           = 25.415450767256843\n",
      "fmin_final             = 25.387556514827306\n",
      "========================\n",
      "start F 25.576546066526383, final F 25.387556514827306\n",
      "371.21050090663607\n",
      "fmin_initial 25.201262238887267\n",
      "--------------------------\n",
      "FORCES -- Library L-BFGS/C\n",
      "--------------------------\n",
      "time elapsed  0.12709474563598633\n",
      "========================\n",
      "fmin_initial           = 25.201262238887267\n",
      "fmin_final             = 25.169609693761174\n",
      "========================\n",
      "start F 25.387556514827306, final F 25.169609693761174\n",
      "311.652694492943\n",
      "fmin_initial 24.955435875085204\n",
      "--------------------------\n",
      "FORCES -- Library L-BFGS/C\n",
      "--------------------------\n",
      "time elapsed  0.10767769813537598\n",
      "========================\n",
      "fmin_initial           = 24.955435875085204\n",
      "fmin_final             = 24.919608893541795\n",
      "========================\n",
      "start F 25.169609693761174, final F 24.919608893541795\n",
      "261.6504698748821\n",
      "fmin_initial 24.674548238487358\n",
      "--------------------------\n",
      "FORCES -- Library L-BFGS/C\n",
      "--------------------------\n",
      "time elapsed  0.20419740676879883\n",
      "========================\n",
      "fmin_initial           = 24.674548238487358\n",
      "fmin_final             = 24.63447536790599\n",
      "========================\n",
      "start F 24.919608893541795, final F 24.63447536790599\n",
      "219.67070907932353\n",
      "fmin_initial 24.35587104427426\n",
      "--------------------------\n",
      "FORCES -- Library L-BFGS/C\n",
      "--------------------------\n",
      "time elapsed  0.11472201347351074\n",
      "========================\n",
      "fmin_initial           = 24.35587104427426\n",
      "fmin_final             = 24.31141636536009\n",
      "========================\n",
      "start F 24.63447536790599, final F 24.31141636536009\n",
      "184.42627085855347\n",
      "fmin_initial 23.99690963761324\n",
      "--------------------------\n",
      "FORCES -- Library L-BFGS/C\n",
      "--------------------------\n",
      "time elapsed  0.12015891075134277\n",
      "========================\n",
      "fmin_initial           = 23.99690963761324\n",
      "fmin_final             = 23.948039745587756\n",
      "========================\n",
      "start F 24.31141636536009, final F 23.948039745587756\n",
      "154.8365256585499\n",
      "fmin_initial 23.5957912554289\n",
      "--------------------------\n",
      "FORCES -- Library L-BFGS/C\n",
      "--------------------------\n",
      "time elapsed  0.14327716827392578\n",
      "========================\n",
      "fmin_initial           = 23.5957912554289\n",
      "fmin_final             = 23.542496252704364\n",
      "========================\n",
      "start F 23.948039745587756, final F 23.542496252704364\n",
      "129.9942224413245\n",
      "fmin_initial 23.150600905651245\n",
      "--------------------------\n",
      "FORCES -- Library L-BFGS/C\n",
      "--------------------------\n",
      "time elapsed  0.27716970443725586\n",
      "========================\n",
      "fmin_initial           = 23.150600905651245\n",
      "fmin_final             = 23.093809443541026\n",
      "========================\n",
      "start F 23.542496252704364, final F 23.093809443541026\n",
      "109.13767146512727\n",
      "fmin_initial 22.662251618120838\n",
      "--------------------------\n",
      "FORCES -- Library L-BFGS/C\n",
      "--------------------------\n",
      "time elapsed  0.37891578674316406\n",
      "========================\n",
      "fmin_initial           = 22.662251618120838\n",
      "fmin_final             = 22.60191134040915\n",
      "========================\n",
      "start F 23.093809443541026, final F 22.60191134040915\n",
      "91.62739011886731\n",
      "fmin_initial 22.131112831934985\n",
      "--------------------------\n",
      "FORCES -- Library L-BFGS/C\n",
      "--------------------------\n",
      "time elapsed  0.3207545280456543\n",
      "========================\n",
      "fmin_initial           = 22.131112831934985\n",
      "fmin_final             = 22.067842622412066\n",
      "========================\n",
      "start F 22.60191134040915, final F 22.067842622412066\n",
      "76.92649574879138\n",
      "fmin_initial 21.559120934182072\n",
      "--------------------------\n",
      "FORCES -- Library L-BFGS/C\n",
      "--------------------------\n",
      "time elapsed  0.16309046745300293\n",
      "========================\n",
      "fmin_initial           = 21.559120934182072\n",
      "fmin_final             = 21.493824295745213\n",
      "========================\n",
      "start F 22.067842622412066, final F 21.493824295745213\n",
      "64.58424430196978\n",
      "fmin_initial 20.94971780174217\n",
      "--------------------------\n",
      "FORCES -- Library L-BFGS/C\n",
      "--------------------------\n",
      "time elapsed  0.1705472469329834\n",
      "========================\n",
      "fmin_initial           = 20.94971780174217\n",
      "fmin_final             = 20.883227123289362\n",
      "========================\n",
      "start F 21.493824295745213, final F 20.883227123289362\n",
      "54.222210065015865\n",
      "fmin_initial 20.307472844248537\n",
      "--------------------------\n",
      "FORCES -- Library L-BFGS/C\n",
      "--------------------------\n",
      "time elapsed  0.18133258819580078\n",
      "========================\n",
      "fmin_initial           = 20.307472844248537\n",
      "fmin_final             = 20.240522570052413\n",
      "========================\n",
      "start F 20.883227123289362, final F 20.240522570052413\n",
      "45.5226827550731\n",
      "fmin_initial 19.637771893807432\n",
      "--------------------------\n",
      "FORCES -- Library L-BFGS/C\n",
      "--------------------------\n",
      "time elapsed  0.19372344017028809\n",
      "========================\n",
      "fmin_initial           = 19.637771893807432\n",
      "fmin_final             = 19.571081344987903\n",
      "========================\n",
      "start F 20.240522570052413, final F 19.571081344987903\n",
      "38.21892620633119\n",
      "fmin_initial 18.946350703241745\n",
      "--------------------------\n",
      "FORCES -- Library L-BFGS/C\n",
      "--------------------------\n",
      "time elapsed  0.1994476318359375\n",
      "========================\n",
      "fmin_initial           = 18.946350703241745\n",
      "fmin_final             = 18.880954316604146\n",
      "========================\n",
      "start F 19.571081344987903, final F 18.880954316604146\n",
      "32.0869999737045\n",
      "fmin_initial 18.24023593953868\n",
      "--------------------------\n",
      "FORCES -- Library L-BFGS/C\n",
      "--------------------------\n",
      "time elapsed  0.19230031967163086\n",
      "========================\n",
      "fmin_initial           = 18.24023593953868\n",
      "fmin_final             = 18.176591811703133\n",
      "========================\n",
      "start F 18.880954316604146, final F 18.176591811703133\n",
      "26.938893095901726\n",
      "fmin_initial 17.525866215477546\n",
      "--------------------------\n",
      "FORCES -- Library L-BFGS/C\n",
      "--------------------------\n"
     ]
    },
    {
     "name": "stdout",
     "output_type": "stream",
     "text": [
      "time elapsed  0.17848539352416992\n",
      "========================\n",
      "fmin_initial           = 17.525866215477546\n",
      "fmin_final             = 17.464549142427444\n",
      "========================\n",
      "start F 18.176591811703133, final F 17.464549142427444\n",
      "22.616759492228645\n",
      "fmin_initial 16.809766992138123\n",
      "--------------------------\n",
      "FORCES -- Library L-BFGS/C\n",
      "--------------------------\n",
      "time elapsed  0.18634939193725586\n",
      "========================\n",
      "fmin_initial           = 16.809766992138123\n",
      "fmin_final             = 16.751194189819692\n",
      "========================\n",
      "start F 17.464549142427444, final F 16.751194189819692\n",
      "18.988078244652613\n",
      "fmin_initial 16.09778763268263\n",
      "--------------------------\n",
      "FORCES -- Library L-BFGS/C\n",
      "--------------------------\n",
      "time elapsed  0.19797563552856445\n",
      "========================\n",
      "fmin_initial           = 16.09778763268263\n",
      "fmin_final             = 16.042488700112095\n",
      "========================\n",
      "start F 16.751194189819692, final F 16.042488700112095\n",
      "15.94159037455998\n",
      "fmin_initial 15.395923721449758\n",
      "--------------------------\n",
      "FORCES -- Library L-BFGS/C\n",
      "--------------------------\n",
      "time elapsed  0.23350906372070312\n",
      "========================\n",
      "fmin_initial           = 15.395923721449758\n",
      "fmin_final             = 15.343726349554709\n",
      "========================\n",
      "start F 16.042488700112095, final F 15.343726349554709\n",
      "13.383887531737564\n",
      "fmin_initial 14.708728715333825\n",
      "--------------------------\n",
      "FORCES -- Library L-BFGS/C\n",
      "--------------------------\n",
      "time elapsed  0.24384856224060059\n",
      "========================\n",
      "fmin_initial           = 14.708728715333825\n",
      "fmin_final             = 14.659511490272816\n",
      "========================\n",
      "start F 15.343726349554709, final F 14.659511490272816\n",
      "11.236548001387504\n",
      "fmin_initial 14.039620803027029\n",
      "--------------------------\n",
      "FORCES -- Library L-BFGS/C\n",
      "--------------------------\n",
      "time elapsed  0.24567556381225586\n",
      "========================\n",
      "fmin_initial           = 14.039620803027029\n",
      "fmin_final             = 13.993573544926528\n",
      "========================\n",
      "start F 14.659511490272816, final F 13.993573544926528\n",
      "9.433732216299774\n",
      "fmin_initial 13.391890874913276\n",
      "--------------------------\n",
      "FORCES -- Library L-BFGS/C\n",
      "--------------------------\n",
      "time elapsed  0.2560293674468994\n",
      "========================\n",
      "fmin_initial           = 13.391890874913276\n",
      "fmin_final             = 13.348880344300074\n",
      "========================\n",
      "start F 13.993573544926528, final F 13.348880344300074\n",
      "7.9201640501925406\n",
      "fmin_initial 12.767867090382937\n",
      "--------------------------\n",
      "FORCES -- Library L-BFGS/C\n",
      "--------------------------\n",
      "time elapsed  0.27872633934020996\n",
      "========================\n",
      "fmin_initial           = 12.767867090382937\n",
      "fmin_final             = 12.727753331490192\n",
      "========================\n",
      "start F 13.348880344300074, final F 12.727753331490192\n",
      "6.649435996665045\n",
      "fmin_initial 12.16949426472545\n",
      "--------------------------\n",
      "FORCES -- Library L-BFGS/C\n",
      "--------------------------\n",
      "time elapsed  0.2732272148132324\n",
      "========================\n",
      "fmin_initial           = 12.16949426472545\n",
      "fmin_final             = 12.132058341108152\n",
      "========================\n",
      "start F 12.727753331490192, final F 12.132058341108152\n",
      "5.582586268862689\n",
      "fmin_initial 11.597561549793863\n",
      "--------------------------\n",
      "FORCES -- Library L-BFGS/C\n",
      "--------------------------\n",
      "time elapsed  0.31669139862060547\n",
      "========================\n",
      "fmin_initial           = 11.597561549793863\n",
      "fmin_final             = 11.563448341729716\n",
      "========================\n",
      "start F 12.132058341108152, final F 11.563448341729716\n",
      "4.686904192314192\n",
      "fmin_initial 11.054741566662713\n",
      "--------------------------\n",
      "FORCES -- Library L-BFGS/C\n",
      "--------------------------\n",
      "time elapsed  0.353607177734375\n",
      "========================\n",
      "fmin_initial           = 11.054741566662713\n",
      "fmin_final             = 11.023558867132408\n",
      "========================\n",
      "start F 11.563448341729716, final F 11.023558867132408\n",
      "3.934927263095845\n",
      "fmin_initial 10.541991092944622\n",
      "--------------------------\n",
      "FORCES -- Library L-BFGS/C\n",
      "--------------------------\n",
      "time elapsed  0.36458921432495117\n",
      "========================\n",
      "fmin_initial           = 10.541991092944622\n",
      "fmin_final             = 10.513939283375477\n",
      "========================\n",
      "start F 11.023558867132408, final F 10.513939283375477\n",
      "3.3035991201283395\n",
      "fmin_initial 10.060850656619303\n",
      "--------------------------\n",
      "FORCES -- Library L-BFGS/C\n",
      "--------------------------\n",
      "time elapsed  0.357865571975708\n",
      "========================\n",
      "fmin_initial           = 10.060850656619303\n",
      "fmin_final             = 10.036024929261615\n",
      "========================\n",
      "start F 10.513939283375477, final F 10.036024929261615\n",
      "2.773562614198412\n",
      "fmin_initial 9.612317825974477\n",
      "--------------------------\n",
      "FORCES -- Library L-BFGS/C\n",
      "--------------------------\n",
      "time elapsed  0.3567230701446533\n",
      "========================\n",
      "fmin_initial           = 9.612317825974477\n",
      "fmin_final             = 9.590865101299446\n",
      "========================\n",
      "start F 10.036024929261615, final F 9.590865101299446\n",
      "2.3285662984981963\n",
      "fmin_initial 9.197370973945967\n",
      "--------------------------\n",
      "FORCES -- Library L-BFGS/C\n",
      "--------------------------\n",
      "time elapsed  0.45691514015197754\n",
      "========================\n",
      "fmin_initial           = 9.197370973945967\n",
      "fmin_final             = 9.178945502415985\n",
      "========================\n",
      "start F 9.590865101299446, final F 9.178945502415985\n",
      "1.9549661430912595\n",
      "fmin_initial 8.81599892119918\n",
      "--------------------------\n",
      "FORCES -- Library L-BFGS/C\n",
      "--------------------------\n",
      "time elapsed  0.41472387313842773\n",
      "========================\n",
      "fmin_initial           = 8.81599892119918\n",
      "fmin_final             = 8.800233311284558\n",
      "========================\n",
      "start F 9.178945502415985, final F 8.800233311284558\n",
      "1.64130719537513\n",
      "fmin_initial 8.46795323831278\n",
      "--------------------------\n",
      "FORCES -- Library L-BFGS/C\n",
      "--------------------------\n",
      "time elapsed  0.4716310501098633\n",
      "========================\n",
      "fmin_initial           = 8.46795323831278\n",
      "fmin_final             = 8.454002020827222\n",
      "========================\n",
      "start F 8.800233311284558, final F 8.454002020827222\n",
      "1.3779723598335567\n",
      "fmin_initial 8.151497120816801\n",
      "--------------------------\n",
      "FORCES -- Library L-BFGS/C\n",
      "--------------------------\n",
      "time elapsed  0.45021605491638184\n",
      "========================\n",
      "fmin_initial           = 8.151497120816801\n",
      "fmin_final             = 8.138991403265837\n",
      "========================\n",
      "start F 8.454002020827222, final F 8.138991403265837\n",
      "1.156887528316281\n",
      "fmin_initial 7.864596728899044\n",
      "--------------------------\n",
      "FORCES -- Library L-BFGS/C\n",
      "--------------------------\n",
      "time elapsed  0.5887341499328613\n",
      "========================\n",
      "fmin_initial           = 7.864596728899044\n",
      "fmin_final             = 7.853321486549408\n",
      "========================\n",
      "start F 8.138991403265837, final F 7.853321486549408\n",
      "0.9712740198471168\n",
      "fmin_initial 7.604964661393201\n",
      "--------------------------\n",
      "FORCES -- Library L-BFGS/C\n",
      "--------------------------\n",
      "time elapsed  0.5866212844848633\n",
      "========================\n",
      "fmin_initial           = 7.604964661393201\n",
      "fmin_final             = 7.595041923832265\n",
      "========================\n",
      "start F 7.853321486549408, final F 7.595041923832265\n",
      "0.8154407395185154\n",
      "fmin_initial 7.37005972187669\n",
      "--------------------------\n",
      "FORCES -- Library L-BFGS/C\n",
      "--------------------------\n",
      "time elapsed  0.6494438648223877\n",
      "========================\n",
      "fmin_initial           = 7.37005972187669\n",
      "fmin_final             = 7.361960756801271\n",
      "========================\n",
      "start F 7.595041923832265, final F 7.361960756801271\n",
      "0.6846096838574658\n",
      "fmin_initial 7.159053996021131\n",
      "--------------------------\n",
      "FORCES -- Library L-BFGS/C\n",
      "--------------------------\n",
      "time elapsed  0.807741641998291\n",
      "========================\n",
      "fmin_initial           = 7.159053996021131\n",
      "fmin_final             = 7.151667967548859\n",
      "========================\n",
      "start F 7.361960756801271, final F 7.151667967548859\n",
      "0.5747694424835347\n",
      "fmin_initial 6.968432255724068\n",
      "--------------------------\n",
      "FORCES -- Library L-BFGS/C\n",
      "--------------------------\n",
      "time elapsed  0.796558141708374\n",
      "========================\n",
      "fmin_initial           = 6.968432255724068\n",
      "fmin_final             = 6.962182175853152\n",
      "========================\n",
      "start F 7.151667967548859, final F 6.962182175853152\n",
      "0.48255220427412787\n",
      "fmin_initial 6.797751423643404\n",
      "--------------------------\n",
      "FORCES -- Library L-BFGS/C\n",
      "--------------------------\n",
      "time elapsed  0.7453536987304688\n",
      "========================\n",
      "fmin_initial           = 6.797751423643404\n",
      "fmin_final             = 6.791518032657317\n",
      "========================\n",
      "start F 6.962182175853152, final F 6.791518032657317\n",
      "0.4051304969235378\n",
      "fmin_initial 6.643810627476025\n",
      "--------------------------\n",
      "FORCES -- Library L-BFGS/C\n",
      "--------------------------\n"
     ]
    },
    {
     "name": "stdout",
     "output_type": "stream",
     "text": [
      "time elapsed  1.4985311031341553\n",
      "========================\n",
      "fmin_initial           = 6.643810627476025\n",
      "fmin_final             = 6.636994353212924\n",
      "========================\n",
      "start F 6.791518032657317, final F 6.636994353212924\n",
      "0.3401304938279253\n",
      "fmin_initial 6.503883138927846\n",
      "--------------------------\n",
      "FORCES -- Library L-BFGS/C\n",
      "--------------------------\n",
      "time elapsed  1.0632004737854004\n",
      "========================\n",
      "fmin_initial           = 6.503883138927846\n",
      "fmin_final             = 6.497891707807231\n",
      "========================\n",
      "start F 6.636994353212924, final F 6.497891707807231\n",
      "0.28555923019901064\n",
      "fmin_initial 6.376102592760756\n",
      "--------------------------\n",
      "FORCES -- Library L-BFGS/C\n",
      "--------------------------\n",
      "time elapsed  1.0952670574188232\n",
      "========================\n",
      "fmin_initial           = 6.376102592760756\n",
      "fmin_final             = 6.372481439292238\n",
      "========================\n",
      "start F 6.497891707807231, final F 6.372481439292238\n",
      "0.23974349678010784\n",
      "fmin_initial 6.264725745272014\n",
      "--------------------------\n",
      "FORCES -- Library L-BFGS/C\n",
      "--------------------------\n",
      "time elapsed  1.6554183959960938\n",
      "========================\n",
      "fmin_initial           = 6.264725745272014\n",
      "fmin_final             = 6.258767076778113\n",
      "========================\n",
      "start F 6.372481439292238, final F 6.258767076778113\n",
      "0.20127853758499384\n",
      "fmin_initial 6.15967878428142\n",
      "--------------------------\n",
      "FORCES -- Library L-BFGS/C\n",
      "--------------------------\n",
      "time elapsed  1.3487038612365723\n",
      "========================\n",
      "fmin_initial           = 6.15967878428142\n",
      "fmin_final             = 6.156323153560721\n",
      "========================\n",
      "start F 6.258767076778113, final F 6.156323153560721\n",
      "0.1689849786812455\n",
      "fmin_initial 6.06785090799488\n",
      "--------------------------\n",
      "FORCES -- Library L-BFGS/C\n",
      "--------------------------\n",
      "time elapsed  1.4719860553741455\n",
      "========================\n",
      "fmin_initial           = 6.06785090799488\n",
      "fmin_final             = 6.063928984105784\n",
      "========================\n",
      "start F 6.156323153560721, final F 6.063928984105784\n",
      "0.1418726674116596\n",
      "fmin_initial 5.984211887114025\n",
      "--------------------------\n",
      "FORCES -- Library L-BFGS/C\n",
      "--------------------------\n",
      "time elapsed  0.6462388038635254\n",
      "========================\n",
      "fmin_initial           = 5.984211887114025\n",
      "fmin_final             = 5.983156347262823\n",
      "========================\n",
      "start F 6.063928984105784, final F 5.983156347262823\n",
      "0.11911031332830055\n",
      "fmin_initial 5.9147327485916845\n",
      "--------------------------\n",
      "FORCES -- Library L-BFGS/C\n",
      "--------------------------\n",
      "time elapsed  1.5565032958984375\n",
      "========================\n",
      "fmin_initial           = 5.9147327485916845\n",
      "fmin_final             = 5.9059648084661935\n",
      "========================\n",
      "start F 5.983156347262823, final F 5.9059648084661935\n",
      "0.1\n",
      "fmin_initial 5.840642289767729\n",
      "--------------------------\n",
      "FORCES -- Library L-BFGS/C\n",
      "--------------------------\n",
      "time elapsed  1.7840185165405273\n",
      "========================\n",
      "fmin_initial           = 5.840642289767729\n",
      "fmin_final             = 5.835811927517063\n",
      "========================\n",
      "start F 5.9059648084661935, final F 5.835811927517063\n",
      "/usr/bin/sh: module: line 1: syntax error: unexpected end of file\n",
      "/usr/bin/sh: error importing function definition for `BASH_FUNC_module'\n",
      "/usr/bin/sh: module: line 1: syntax error: unexpected end of file\n",
      "/usr/bin/sh: error importing function definition for `BASH_FUNC_module'\n",
      "/usr/bin/sh: module: line 1: syntax error: unexpected end of file\n",
      "/usr/bin/sh: error importing function definition for `BASH_FUNC_module'\n",
      "/usr/bin/sh: module: line 1: syntax error: unexpected end of file\n",
      "/usr/bin/sh: error importing function definition for `BASH_FUNC_module'\n"
     ]
    }
   ],
   "source": [
    "recalc = True\n",
    "\n",
    "output_d = defaultdict(dict)\n",
    "\n",
    "for method in ['log-weights', 'forces']:\n",
    "     \n",
    "    output_d[method] = defaultdict(dict)\n",
    "\n",
    "\n",
    "for method in [  'forces']:\n",
    "\n",
    "    for set_i, karplus_set in enumerate(set_names_l):\n",
    "        print(karplus_set)\n",
    "        \n",
    "        out_path = \"out/\"+method+\"/\"+karplus_set\n",
    "        \n",
    "        if os.path.exists(out_path+\"/opt_data.dat\") and not recalc:\n",
    "            print(\"already calculated\")\n",
    "            \n",
    "            # need to load previous calculations\n",
    "            \n",
    "        else:\n",
    "            # Start timer\n",
    "            start_th_series = time.time()\n",
    "            \n",
    "            opt_pth=karplus_set+\"_for_opt/\"\n",
    "            print(opt_pth)\n",
    "    \n",
    "            #initial weights\n",
    "            w0 = np.genfromtxt(opt_pth+\"/w0.txt\")\n",
    "            # copy to output directory\n",
    "            ! mkdir -p $out_path\"/for_opt\"\n",
    "            #! echo $out_path+\"for_opt\"\n",
    "            print(out_path+\"/for_opt\")\n",
    "            np.savetxt(out_path+\"/for_opt/w0.txt\", w0)\n",
    "\n",
    "        \n",
    "            #N = 50001\n",
    "            w0= w0.reshape(50001,1)\n",
    "    \n",
    "            # Observables for each structure scaled by the inverse of the experimental error\n",
    "            yTilde  = np.genfromtxt(opt_pth+\"/yTilde.txt\")\n",
    "    \n",
    "            # Experimental observables divided by the experimental uncertainty\n",
    "            Y_Tilde = np.genfromtxt(opt_pth+\"/Y_Tilde.txt\")\n",
    "            Y_Tilde = Y_Tilde.reshape(1, Y_Tilde.shape[0])\n",
    "    \n",
    "            # Experimental observables\n",
    "            y = np.genfromtxt(opt_pth+\"/y.txt\")\n",
    "    \n",
    "            # BioEn optimization\n",
    "            wopt_d, yopt_d, L_d, chi2_d, S_d = run_theta_series(\n",
    "                w0, y, yTilde, Y_Tilde,\n",
    "                theta_l=theta_ar, cfg=cfg, verbose=True,\n",
    "                opt_method=method)\n",
    "    \n",
    "            # End timer\n",
    "            end_th_series = time.time()\n",
    "            dt_th_series = end_th_series - start_th_series\n",
    "        \n",
    "            # Outputs\n",
    "            \n",
    "            # copy inital observables to output dir\n",
    "            np.savetxt(out_path+\"/for_opt/y.txt\", y)\n",
    "            \n",
    "            output_d[method][karplus_set] = [wopt_d, yopt_d, L_d, chi2_d, S_d, dt_th_series]\n",
    "        \n",
    "            ! mkdir -p out/\n",
    "            ! mkdir -p \"out/\"$method\n",
    "        \n",
    "            ! mkdir -p $out_path\n",
    "            ! mkdir -p $out_path\"/wopt\"; mkdir -p $out_path\"/yopt\"\n",
    "        \n",
    "    \n",
    "            np.savetxt(out_path+\"/time.txt\", np.vstack((start_th_series,\n",
    "                                                       end_th_series,\n",
    "                                                       dt_th_series)))\n",
    "    \n",
    "            overview_table(\n",
    "                theta_ar, L_d, chi2_d, S_d, out_path=out_path) \n",
    "            bioen_save_out_array(\n",
    "                wopt_d, output_name=out_path+\"/wopt/w_theta{}_dat.txt\")\n",
    "            bioen_save_out_array(\n",
    "                yopt_d, output_name=out_path+\"/yopt/y_theta{}_dat.txt\")"
   ]
  },
  {
   "cell_type": "code",
   "execution_count": 312,
   "metadata": {},
   "outputs": [
    {
     "data": {
      "text/plain": [
       "((50001, 1), (28, 50001), (28, 50001), (1, 28))"
      ]
     },
     "execution_count": 312,
     "metadata": {},
     "output_type": "execute_result"
    }
   ],
   "source": [
    "w0.shape, y.shape, yTilde.shape, Y_Tilde.shape"
   ]
  },
  {
   "cell_type": "code",
   "execution_count": null,
   "metadata": {},
   "outputs": [],
   "source": []
  },
  {
   "cell_type": "markdown",
   "metadata": {},
   "source": [
    "### Analysis\n",
    "\n",
    "Focus on results of calculation with generalized forces.\n",
    "\n",
    "#### Setup"
   ]
  },
  {
   "cell_type": "code",
   "execution_count": 313,
   "metadata": {},
   "outputs": [],
   "source": [
    "def optimal_theta_entropy_change(theta_l, s_ar, deltaS=0.5, verbose=False):\n",
    "    \"\"\"\n",
    "    Find theta that gives desired entropy change\n",
    "    \"\"\" \n",
    "    s_index = np.argmin(np.absolute(s_ar - deltaS))\n",
    "    theta = theta_l[s_index]\n",
    "    if verbose:\n",
    "       print(s_index, theta_l[s_index], s_ar[s_index])\n",
    "    return theta, s_index\n",
    "\n",
    "\n",
    "def format_ala5_chi_s_plot(fig, ax, xlabel=r\"$\\mathregular{\\chi^2}$\", ylabel=r\"$\\mathregular{S_{KL}}$\",\n",
    "                      xlim=[-0.1, 3.8]):\n",
    "    ax.set_xlim(xlim[0], xlim[1])\n",
    "    ax.set_ylabel(xlabel)\n",
    "    ax.set_xlabel(ylabel)\n",
    "    ax.set_xticks([0, 1,2,3])\n",
    "    ax.set_xticks([0.5, 1.5, 2.5], minor=True)\n",
    "    fig.tight_layout()\n",
    "    return fig, ax"
   ]
  },
  {
   "cell_type": "code",
   "execution_count": 314,
   "metadata": {},
   "outputs": [
    {
     "name": "stdout",
     "output_type": "stream",
     "text": [
      "/usr/bin/sh: module: line 1: syntax error: unexpected end of file\r\n",
      "/usr/bin/sh: error importing function definition for `BASH_FUNC_module'\r\n",
      "for_opt  opt_data.dat  time.txt  wopt  yopt\r\n"
     ]
    }
   ],
   "source": [
    "! ls out/forces/dft2"
   ]
  },
  {
   "cell_type": "code",
   "execution_count": 315,
   "metadata": {},
   "outputs": [],
   "source": [
    "para_set = \"dft2\"\n",
    "pth_out = \"out/forces/\"+para_set"
   ]
  },
  {
   "cell_type": "code",
   "execution_count": 316,
   "metadata": {},
   "outputs": [],
   "source": [
    "opt_out = np.genfromtxt(pth_out+\"/opt_data.dat\")"
   ]
  },
  {
   "cell_type": "code",
   "execution_count": null,
   "metadata": {},
   "outputs": [],
   "source": []
  },
  {
   "cell_type": "code",
   "execution_count": 317,
   "metadata": {},
   "outputs": [],
   "source": [
    "theta_ar = opt_out[:,0]"
   ]
  },
  {
   "cell_type": "code",
   "execution_count": 318,
   "metadata": {},
   "outputs": [
    {
     "data": {
      "text/plain": [
       "55"
      ]
     },
     "execution_count": 318,
     "metadata": {},
     "output_type": "execute_result"
    }
   ],
   "source": [
    "np.argmin(np.absolute(opt_out[:,1] - 0.5))"
   ]
  },
  {
   "cell_type": "code",
   "execution_count": 319,
   "metadata": {},
   "outputs": [
    {
     "name": "stdout",
     "output_type": "stream",
     "text": [
      "55 6.649435996665045 0.5010047595131707\n"
     ]
    }
   ],
   "source": [
    "th_all, th_all_index = optimal_theta_entropy_change(\n",
    "theta_ar, opt_out[:,1], deltaS=0.5, verbose=True)"
   ]
  },
  {
   "cell_type": "code",
   "execution_count": 320,
   "metadata": {},
   "outputs": [
    {
     "data": {
      "text/plain": [
       "(6.649435996665045, 55)"
      ]
     },
     "execution_count": 320,
     "metadata": {},
     "output_type": "execute_result"
    }
   ],
   "source": [
    "th_all, th_all_index"
   ]
  },
  {
   "cell_type": "code",
   "execution_count": 321,
   "metadata": {},
   "outputs": [
    {
     "data": {
      "text/plain": [
       "array([ 6.649436  ,  0.50100476,  8.80065926, 12.13205834])"
      ]
     },
     "execution_count": 321,
     "metadata": {},
     "output_type": "execute_result"
    }
   ],
   "source": [
    "opt_out[th_all_index]"
   ]
  },
  {
   "cell_type": "code",
   "execution_count": 322,
   "metadata": {},
   "outputs": [],
   "source": [
    "w_s05 = np.genfromtxt(pth_out+\"/wopt/w_theta{}_dat.txt\".format(th_all))"
   ]
  },
  {
   "cell_type": "code",
   "execution_count": 323,
   "metadata": {},
   "outputs": [],
   "source": [
    "w0 = np.genfromtxt(pth_out+\"/for_opt/w0.txt\")"
   ]
  },
  {
   "cell_type": "markdown",
   "metadata": {},
   "source": [
    "#### Elbow plots"
   ]
  },
  {
   "cell_type": "code",
   "execution_count": 324,
   "metadata": {},
   "outputs": [],
   "source": [
    "#cl = sns.color_palette()"
   ]
  },
  {
   "cell_type": "code",
   "execution_count": 325,
   "metadata": {},
   "outputs": [],
   "source": [
    "cl = [(0.29803921568627451, 0.44705882352941179, 0.69019607843137254),\n",
    " (0.33333333333333331, 0.6588235294117647, 0.40784313725490196),\n",
    " (0.7686274509803922, 0.30588235294117649, 0.32156862745098042),\n",
    " (0.50588235294117645, 0.44705882352941179, 0.69803921568627447),\n",
    " (0.80000000000000004, 0.72549019607843135, 0.45490196078431372),\n",
    " (0.39215686274509803, 0.70980392156862748, 0.80392156862745101)]"
   ]
  },
  {
   "cell_type": "code",
   "execution_count": null,
   "metadata": {},
   "outputs": [],
   "source": []
  },
  {
   "cell_type": "code",
   "execution_count": 326,
   "metadata": {},
   "outputs": [
    {
     "name": "stdout",
     "output_type": "stream",
     "text": [
      "/usr/bin/sh: module: line 1: syntax error: unexpected end of file\r\n",
      "/usr/bin/sh: error importing function definition for `BASH_FUNC_module'\r\n"
     ]
    },
    {
     "data": {
      "image/png": "[encoded data removed]",
      "text/plain": [
       "<Figure size 216x216 with 1 Axes>"
      ]
     },
     "metadata": {
      "needs_background": "light"
     },
     "output_type": "display_data"
    }
   ],
   "source": [
    "fig, ax = plt.subplots(figsize=(3,3))\n",
    "#sns.set_style('ticks')\n",
    "ax.plot(opt_out[:,1], opt_out[:,2], \"o\", ms=4)\n",
    "ax.plot(opt_out[:,1][th_all_index], opt_out[:,2][th_all_index], \"s\", mfc=\"None\",\n",
    "        mec=\"black\", mew=1,label=r\"$\\mathregular{\\theta}=$\"+\"{:.2f}\".format(\n",
    "th_all))\n",
    "fig, ax = format_ala5_chi_s_plot(fig, ax, xlim=[-0.1,3.8])\n",
    "fig.tight_layout()\n",
    "! mkdir -p plots/opt_overview\n",
    "fig.savefig(\"plots/opt_overview/ala5_L-curve_{}.pdf\".format(para_set))"
   ]
  },
  {
   "cell_type": "code",
   "execution_count": 327,
   "metadata": {},
   "outputs": [
    {
     "name": "stdout",
     "output_type": "stream",
     "text": [
      "8.800659258700401 0.31430925923930003\n"
     ]
    }
   ],
   "source": [
    "print(opt_out[:,2][th_all_index], opt_out[:,2][th_all_index] / 28)"
   ]
  },
  {
   "cell_type": "code",
   "execution_count": 328,
   "metadata": {},
   "outputs": [
    {
     "name": "stdout",
     "output_type": "stream",
     "text": [
      "/usr/bin/sh: module: line 1: syntax error: unexpected end of file\r\n",
      "/usr/bin/sh: error importing function definition for `BASH_FUNC_module'\r\n"
     ]
    },
    {
     "data": {
      "image/png": "[encoded data removed]",
      "text/plain": [
       "<Figure size 468x216 with 2 Axes>"
      ]
     },
     "metadata": {
      "needs_background": "light"
     },
     "output_type": "display_data"
    }
   ],
   "source": [
    "fig, ax = plt.subplots(1,2, figsize=(6.5,3))\n",
    "#sns.set_style('ticks')\n",
    "ax[0].plot(opt_out[:,1], opt_out[:,2], \"o\", ms=4)\n",
    "ax[0].plot(opt_out[:,1][th_all_index], opt_out[:,2][th_all_index], \"s\", mfc=\"None\",\n",
    "mec=\"black\", mew=1,label=r\"$\\mathregular{S_{KL}=0.5}$\")\n",
    "fig, ax[0] = format_ala5_chi_s_plot(fig, ax[0], xlim=[-0.1,3.8])\n",
    "ax[1].plot(np.cumsum(np.sort(w0)[::-1]), c=cl[2], label=\"reference\")\n",
    "ax[1].plot(np.cumsum(np.sort(w_s05)[::-1]), c=cl[0], label=r\"$\\mathregular{S_{KL}=0.5}$\")\n",
    "ax[1].set_ylim(0,1)\n",
    "ax[1].set_xlabel(\"Weight index\", fontsize=14)\n",
    "ax[1].set_ylabel(\"Cumulative weights\", fontsize=14)\n",
    "ax[0].text(-0.15,0.99, \"A\", fontsize=19, transform=ax[0].transAxes)\n",
    "ax[1].text(-0.3,0.99, \"B\", fontsize=19, transform=ax[1].transAxes)\n",
    "\n",
    "for ai, a in enumerate(['A', 'B']):\n",
    "    ax[ai].legend(fontsize=13, handletextpad=0.2)\n",
    "    #ax[ai].text(-0.3,1.01, a , fontsize=18, transform=ax[ai].transAxes)\n",
    "    ax[ai].tick_params(axis='both', which='major', labelsize=13)\n",
    "    fig.tight_layout()\n",
    "\n",
    "! mkdir -p plots/opt_overview\n",
    "fig.savefig(\"plots/opt_overview/ala_chi2_S_{}.pdf\".format(para_set))"
   ]
  },
  {
   "cell_type": "code",
   "execution_count": 329,
   "metadata": {},
   "outputs": [],
   "source": [
    "# save for replotting L-curves\n",
    "np.savetxt(\"plots/opt_overview/s_chi2_{:.2f}\".format(th_all),\n",
    "np.column_stack((opt_out[:,1], opt_out[:,2])))"
   ]
  },
  {
   "cell_type": "code",
   "execution_count": 330,
   "metadata": {},
   "outputs": [
    {
     "data": {
      "text/plain": [
       "array([ 6.649436  ,  0.50100476,  8.80065926, 12.13205834])"
      ]
     },
     "execution_count": 330,
     "metadata": {},
     "output_type": "execute_result"
    }
   ],
   "source": [
    "opt_out[th_all_index]"
   ]
  },
  {
   "cell_type": "code",
   "execution_count": 331,
   "metadata": {},
   "outputs": [
    {
     "name": "stdout",
     "output_type": "stream",
     "text": [
      "6.649435996665045\n"
     ]
    }
   ],
   "source": [
    "print(th_all)"
   ]
  },
  {
   "cell_type": "markdown",
   "metadata": {},
   "source": [
    "#### Ramachandran plots"
   ]
  },
  {
   "cell_type": "code",
   "execution_count": 332,
   "metadata": {},
   "outputs": [],
   "source": [
    "import matplotlib.colors as colors\n",
    "\n",
    "def phi_psi_pmf(phi_psi, nbins=100, return_edges=False, weights=None, missing_counts_g=15):\n",
    "    c, ex, ey = phi_psi_hist(phi_psi, nbins=nbins, weights=weights)\n",
    "    lnp = ln_p_hist_counts(c, missing_counts_g=missing_counts_g)\n",
    "    \n",
    "    if return_edges:\n",
    "       return lnp, ex, ey\n",
    "    else:\n",
    "         return lnp\n",
    "        \n",
    "\n",
    "def ln_p_hist_counts(c, missing_counts_g=15):\n",
    "    ln_counts = -np.log(c / float(c.sum()))\n",
    "    ln_counts[np.isinf(ln_counts)] = missing_counts_g\n",
    "    return ln_counts\n",
    "\n",
    "def phi_psi_hist(phi_psi, nbins=100, weights=None):\n",
    "    c, xe, ye = np.histogram2d(phi_psi[:,0], phi_psi[:,1], bins=nbins,\n",
    "                                range=[[-180,180],[-180,180]],\n",
    "                                weights=weights)\n",
    "    return c, xe, ye  \n",
    "\n",
    "\n",
    "def plot_rama_delta_g(free_energy_2d, fig_ax=None, vmin=-3, vmax=3, label=\"MD-PDB\", cmap='bwr'):\n",
    "    \n",
    "    if np.all(fig_ax) is None:\n",
    "       fig, ax = plt.subplots(figsize=(4.5,4.5))\n",
    "    else:\n",
    "         fig, ax = fig_ax\n",
    "    \n",
    "    im = ax.imshow(free_energy_2d, origin=\"low\",\n",
    "                   extent=[-180,180, -180,180], label=label, cmap=cmap,  vmin=vmin, vmax=vmax)\n",
    "\n",
    "    cb = plt.colorbar(im, ax=ax, fraction=0.046, pad=0.04, norm=colors.Normalize(vmin=vmin, vmax=vmax))\n",
    "    \n",
    "    ax.set_xticks(np.arange(-180, 180+90, step=90));\n",
    "    ax.set_yticks(np.arange(-180, 180+90, step=90));\n",
    "    \n",
    "    ax.set_xlabel(\"$\\mathregular{\\phi \\; [^{\\circ}]}$\", fontsize=13)\n",
    "    ax.set_ylabel(\"$\\mathregular{\\psi \\; [^{\\circ}]}$\", fontsize=13)\n",
    "    \n",
    "    return fig, ax, cb"
   ]
  },
  {
   "cell_type": "markdown",
   "metadata": {},
   "source": [
    "\n",
    "\n",
    "##### MD results"
   ]
  },
  {
   "cell_type": "code",
   "execution_count": null,
   "metadata": {},
   "outputs": [],
   "source": []
  },
  {
   "cell_type": "code",
   "execution_count": 333,
   "metadata": {},
   "outputs": [
    {
     "name": "stdout",
     "output_type": "stream",
     "text": [
      "/usr/bin/sh: module: line 1: syntax error: unexpected end of file\r\n",
      "/usr/bin/sh: error importing function definition for `BASH_FUNC_module'\r\n",
      "c_phi_psi_deg_2  c_phi_psi_deg_4  c_phi_psi_deg_6\r\n",
      "c_phi_psi_deg_3  c_phi_psi_deg_5\r\n"
     ]
    }
   ],
   "source": [
    "! ls c_phi_psi*"
   ]
  },
  {
   "cell_type": "code",
   "execution_count": 334,
   "metadata": {},
   "outputs": [],
   "source": [
    "p=\".\"\n",
    "fn = p+\"/c_phi_psi_deg_{}\"\n",
    "step = 2\n",
    "res_phi_psi_ar_l = [np.genfromtxt(fn.format(i))[::step] for i in range(3,6)]"
   ]
  },
  {
   "cell_type": "code",
   "execution_count": 335,
   "metadata": {},
   "outputs": [],
   "source": [
    "md_phi_psi = np.vstack(res_phi_psi_ar_l)"
   ]
  },
  {
   "cell_type": "code",
   "execution_count": 336,
   "metadata": {},
   "outputs": [
    {
     "data": {
      "text/plain": [
       "(150003, 2)"
      ]
     },
     "execution_count": 336,
     "metadata": {},
     "output_type": "execute_result"
    }
   ],
   "source": [
    "md_phi_psi.shape"
   ]
  },
  {
   "cell_type": "markdown",
   "metadata": {},
   "source": [
    "##### Optimal BioEn ensemble "
   ]
  },
  {
   "cell_type": "code",
   "execution_count": 337,
   "metadata": {},
   "outputs": [],
   "source": [
    "md_w_all = np.hstack(([w_s05]*3))"
   ]
  },
  {
   "cell_type": "code",
   "execution_count": 338,
   "metadata": {},
   "outputs": [],
   "source": [
    "nbins = 65\n",
    "missing_pmf = 16"
   ]
  },
  {
   "cell_type": "code",
   "execution_count": 339,
   "metadata": {},
   "outputs": [
    {
     "name": "stderr",
     "output_type": "stream",
     "text": [
      "/home/tb/lustelzl/anaconda2/envs/bioen-3.7/lib/python3.7/site-packages/ipykernel_launcher.py:14: RuntimeWarning: divide by zero encountered in log\n",
      "  \n"
     ]
    }
   ],
   "source": [
    "lnp_all = phi_psi_pmf(md_phi_psi, weights=md_w_all,\n",
    "                      nbins=nbins, missing_counts_g=missing_pmf)\n"
   ]
  },
  {
   "cell_type": "code",
   "execution_count": 340,
   "metadata": {},
   "outputs": [
    {
     "name": "stderr",
     "output_type": "stream",
     "text": [
      "/home/tb/lustelzl/anaconda2/envs/bioen-3.7/lib/python3.7/site-packages/ipykernel_launcher.py:14: RuntimeWarning: divide by zero encountered in log\n",
      "  \n"
     ]
    }
   ],
   "source": [
    "lnp_md = phi_psi_pmf(md_phi_psi, nbins=nbins, return_edges=False, missing_counts_g=missing_pmf)"
   ]
  },
  {
   "cell_type": "markdown",
   "metadata": {},
   "source": [
    "#### PDB statistics"
   ]
  },
  {
   "cell_type": "code",
   "execution_count": 341,
   "metadata": {},
   "outputs": [],
   "source": [
    "#! cp /home/tb/lustelzl/DATA/Projects/BioEn/5ala/coil-ala/ala_phi_psi.txt ."
   ]
  },
  {
   "cell_type": "code",
   "execution_count": 342,
   "metadata": {},
   "outputs": [],
   "source": [
    "pdb_phi_psi = np.genfromtxt(\"ala_phi_psi.txt\")"
   ]
  },
  {
   "cell_type": "code",
   "execution_count": 343,
   "metadata": {},
   "outputs": [
    {
     "name": "stderr",
     "output_type": "stream",
     "text": [
      "/home/tb/lustelzl/anaconda2/envs/bioen-3.7/lib/python3.7/site-packages/ipykernel_launcher.py:14: RuntimeWarning: divide by zero encountered in log\n",
      "  \n"
     ]
    }
   ],
   "source": [
    "lnp_pdb = phi_psi_pmf(pdb_phi_psi, nbins=nbins, return_edges=False, missing_counts_g=missing_pmf)"
   ]
  },
  {
   "cell_type": "markdown",
   "metadata": {},
   "source": [
    "#### Plot"
   ]
  },
  {
   "cell_type": "code",
   "execution_count": 344,
   "metadata": {},
   "outputs": [
    {
     "name": "stdout",
     "output_type": "stream",
     "text": [
      "/usr/bin/sh: module: line 1: syntax error: unexpected end of file\n",
      "/usr/bin/sh: error importing function definition for `BASH_FUNC_module'\n",
      "/home/tb/lustelzl/DATA/Projects/BioEn/release-bioen/mpcdf-fio/bioen-fio/bioen-internal/examples/ala5_optimize\n",
      "/usr/bin/sh: module: line 1: syntax error: unexpected end of file\n",
      "/usr/bin/sh: error importing function definition for `BASH_FUNC_module'\n",
      "/usr/bin/sh: module: line 1: syntax error: unexpected end of file\n",
      "/usr/bin/sh: error importing function definition for `BASH_FUNC_module'\n"
     ]
    },
    {
     "data": {
      "image/png": "[encoded data removed]",
      "text/plain": [
       "<Figure size 504x432 with 8 Axes>"
      ]
     },
     "metadata": {
      "needs_background": "light"
     },
     "output_type": "display_data"
    }
   ],
   "source": [
    "! pwd\n",
    "! mkdir -p plots\n",
    "! mkdir -p plots/phi_psi_lnp\n",
    "\n",
    "fig, ax = plt.subplots(2,2, figsize=(7.,6))\n",
    "\n",
    "fig, ax[0,0], cb0 = plot_rama_delta_g(lnp_md.T, vmin=1, vmax=16, fig_ax=[fig, ax[0,0]], cmap=\"terrain\")\n",
    "fig, ax[0,1], cb1 = plot_rama_delta_g(lnp_pdb.T, vmin=1, vmax=16, fig_ax=[fig, ax[0,1]], cmap=\"terrain\")\n",
    "\n",
    "fig, ax[1,0], cb2 = plot_rama_delta_g(lnp_all.T, vmin=1, vmax=16, fig_ax=[fig, ax[1,0]], cmap='terrain')\n",
    "fig, ax[1,1], cb3 = plot_rama_delta_g(lnp_all.T - lnp_md.T, vmin=-3, vmax=3, fig_ax=[fig, ax[1,1]])\n",
    "\n",
    "cb3.set_ticks([-3, -2, -1, 0, 1, 2, 3])\n",
    "cb3.set_ticklabels(['-3', '-2', '-1', '0', '1', '2', '3'])\n",
    "\n",
    "for cb in [cb0, cb1, cb2]:\n",
    "    cb.set_ticks([2,4, 6,8,10,12,14, 16])\n",
    "    cb.set_ticklabels(['2', '4', '6', '8', '10', '12', '14', '$\\mathregular{\\geq 16}$'])\n",
    "\n",
    "cb0.set_label(r\"$\\mathregular{- \\ln p_{MD}   \\; \\left[k_BT \\right]}$\",\n",
    "            fontsize=13)\n",
    "cb1.set_label(r\"$\\mathregular{- \\ln p_{PDB}   \\; \\left[k_BT \\right]}$\",\n",
    "            fontsize=13)\n",
    "\n",
    "cb2.set_label(r\"$\\mathregular{- \\ln p_{BioEn}   \\; \\left[k_BT \\right]}$\",\n",
    "            fontsize=13)\n",
    "cb3.set_label(r\"$\\mathregular{\\Delta G_{BioEn-MD}   \\; \\left[k_BT \\right]}$\",\n",
    "            fontsize=13)\n",
    "\n",
    "\n",
    "for ai, a in enumerate(['A', 'B', 'C', 'D']):\n",
    "    ax.flat[ai].text(-320, 160, a, fontsize=18)\n",
    "\n",
    "\n",
    "fig.tight_layout()\n",
    "fig.savefig(\"plots/phi_psi_lnp/{}_lnp_phi_psi_all.pdf\".format(para_set))"
   ]
  },
  {
   "cell_type": "markdown",
   "metadata": {},
   "source": [
    "## Fit to experiment at optimal $\\theta$"
   ]
  },
  {
   "cell_type": "code",
   "execution_count": 345,
   "metadata": {},
   "outputs": [
    {
     "data": {
      "text/plain": [
       "array([[ 5.59,  0.91],\n",
       "       [ 5.74,  0.91],\n",
       "       [ 5.98,  0.91],\n",
       "       [ 6.54,  0.91],\n",
       "       [ 1.13,  0.59],\n",
       "       [ 1.15,  0.59],\n",
       "       [ 1.16,  0.59],\n",
       "       [ 1.85,  0.38],\n",
       "       [ 1.86,  0.38],\n",
       "       [ 1.89,  0.38],\n",
       "       [ 2.19,  0.38],\n",
       "       [ 0.19,  0.22],\n",
       "       [ 2.3 ,  0.39],\n",
       "       [ 2.24,  0.39],\n",
       "       [ 2.14,  0.39],\n",
       "       [ 1.96,  0.39],\n",
       "       [11.36,  0.59],\n",
       "       [11.26,  0.59],\n",
       "       [11.25,  0.59],\n",
       "       [11.49,  0.59],\n",
       "       [ 9.2 ,  0.5 ],\n",
       "       [ 8.55,  0.5 ],\n",
       "       [ 8.4 ,  0.5 ],\n",
       "       [ 8.27,  0.5 ],\n",
       "       [ 0.67,  0.1 ],\n",
       "       [ 0.68,  0.1 ],\n",
       "       [ 0.69,  0.1 ],\n",
       "       [ 0.73,  0.1 ]])"
      ]
     },
     "execution_count": 345,
     "metadata": {},
     "output_type": "execute_result"
    }
   ],
   "source": [
    "exp_obs_err"
   ]
  },
  {
   "cell_type": "code",
   "execution_count": 346,
   "metadata": {},
   "outputs": [],
   "source": [
    "uniq_jkeys  = np.array(['3JHNHA', '3JHNC', '3JHAC', '3JCC', '3JHNCB', '1JNCA', '2JNCA', '3JHNCA'])"
   ]
  },
  {
   "cell_type": "code",
   "execution_count": 347,
   "metadata": {},
   "outputs": [
    {
     "data": {
      "text/plain": [
       "['3JHNHA', '3JHNC', '3JHAC', '3JCC', '3JHNCB', '1JNCA', '2JNCA', '3JHNCA']"
      ]
     },
     "execution_count": 347,
     "metadata": {},
     "output_type": "execute_result"
    }
   ],
   "source": [
    "jkeys"
   ]
  },
  {
   "cell_type": "code",
   "execution_count": 348,
   "metadata": {},
   "outputs": [],
   "source": [
    "#jkeys_all = np.genfromtxt(\"dft2/dft2_deg_err_bl5_j.dat\", dtype=str, skip_header=1, skip_footer=1,\n",
    "#                         usecols=[0,1])"
   ]
  },
  {
   "cell_type": "code",
   "execution_count": 349,
   "metadata": {},
   "outputs": [
    {
     "data": {
      "text/plain": [
       "['r2 3JHNHA',\n",
       " 'r3 3JHNHA',\n",
       " 'r4 3JHNHA',\n",
       " 'r5 3JHNHA',\n",
       " 'r2 3JHNC',\n",
       " 'r4 3JHNC',\n",
       " 'r5 3JHNC',\n",
       " 'r2 3JHAC',\n",
       " 'r3 3JHAC',\n",
       " 'r4 3JHAC',\n",
       " 'r5 3JHAC',\n",
       " 'r2 3JCC',\n",
       " 'r2 3JHNCB',\n",
       " 'r3 3JHNCB',\n",
       " 'r4 3JHNCB',\n",
       " 'r5 3JHNCB',\n",
       " 'r2 1JNCA',\n",
       " 'r3 1JNCA',\n",
       " 'r4 1JNCA',\n",
       " 'r5 1JNCA',\n",
       " 'r2 2JNCA',\n",
       " 'r3 2JNCA',\n",
       " 'r4 2JNCA',\n",
       " 'r5 2JNCA',\n",
       " 'r2 3JHNCA',\n",
       " 'r3 3JHNCA',\n",
       " 'r4 3JHNCA',\n",
       " 'r5 3JHNCA']"
      ]
     },
     "execution_count": 349,
     "metadata": {},
     "output_type": "execute_result"
    }
   ],
   "source": [
    "res_jcp_l"
   ]
  },
  {
   "cell_type": "code",
   "execution_count": 350,
   "metadata": {},
   "outputs": [],
   "source": [
    "#y = np.genfromtxt(pth_out+\"/for_opt/y.txt\")\n",
    "y_w0 = np.mean(y, axis=1)\n",
    "\n",
    "\n",
    "\n"
   ]
  },
  {
   "cell_type": "code",
   "execution_count": 351,
   "metadata": {},
   "outputs": [],
   "source": [
    "y_th_opt = np.genfromtxt(pth_out+\"/yopt/y_theta{}_dat.txt\".format(th_all))"
   ]
  },
  {
   "cell_type": "code",
   "execution_count": 352,
   "metadata": {},
   "outputs": [
    {
     "data": {
      "text/plain": [
       "(28, 50001)"
      ]
     },
     "execution_count": 352,
     "metadata": {},
     "output_type": "execute_result"
    }
   ],
   "source": [
    "y.shape"
   ]
  },
  {
   "cell_type": "code",
   "execution_count": null,
   "metadata": {},
   "outputs": [],
   "source": [
    "\n"
   ]
  },
  {
   "cell_type": "code",
   "execution_count": 354,
   "metadata": {},
   "outputs": [
    {
     "name": "stdout",
     "output_type": "stream",
     "text": [
      "/usr/bin/sh: module: line 1: syntax error: unexpected end of file\n",
      "/usr/bin/sh: error importing function definition for `BASH_FUNC_module'\n",
      "['r2', '3JHNHA']\n",
      "['r3', '3JHNHA']\n",
      "['r4', '3JHNHA']\n",
      "['r5', '3JHNHA']\n",
      "['r2', '3JHNC']\n",
      "['r4', '3JHNC']\n",
      "['r5', '3JHNC']\n",
      "['r2', '3JHAC']\n",
      "['r3', '3JHAC']\n",
      "['r4', '3JHAC']\n",
      "['r5', '3JHAC']\n",
      "['r2', '3JCC']\n",
      "['r2', '3JHNCB']\n",
      "['r3', '3JHNCB']\n",
      "['r4', '3JHNCB']\n",
      "['r5', '3JHNCB']\n",
      "['r2', '1JNCA']\n",
      "['r3', '1JNCA']\n",
      "['r4', '1JNCA']\n",
      "['r5', '1JNCA']\n",
      "['r2', '2JNCA']\n",
      "['r3', '2JNCA']\n",
      "['r4', '2JNCA']\n",
      "['r5', '2JNCA']\n",
      "['r2', '3JHNCA']\n",
      "['r3', '3JHNCA']\n",
      "['r4', '3JHNCA']\n",
      "['r5', '3JHNCA']\n"
     ]
    },
    {
     "data": {
      "image/png": "[encoded data removed]",
      "text/plain": [
       "<Figure size 504x612 with 8 Axes>"
      ]
     },
     "metadata": {
      "needs_background": "light"
     },
     "output_type": "display_data"
    }
   ],
   "source": [
    "! mkdir -p plots/j_couplings\n",
    "fig, ax  = plt.subplots(4,2, figsize=(7,8.5)) \n",
    "lettters = ['A', 'B', 'C', 'D', 'E', 'F', 'G', 'H']\n",
    "\n",
    "\n",
    "\n",
    "for ri, _row in enumerate(res_jcp_l):\n",
    "    row = _row.split()\n",
    "    print(row)\n",
    "\n",
    "    uniq_id = np.where(uniq_jkeys == row[1])[0][0]\n",
    "\n",
    "    res = int(row[0][1:])\n",
    "\n",
    "    #Experiment\n",
    "    ax.flat[uniq_id].errorbar(res, exp_obs_err[ri,0], yerr=exp_obs_err[ri,1],\n",
    "\n",
    "                              marker=\"s\", mew=1, mfc=\"None\", c='black', capthick=1,\n",
    "                              elinewidth=1, capsize=2, \n",
    "                              linestyle=\"None\", label='Exp.')\n",
    "\n",
    "    # MD\n",
    "    ax.flat[uniq_id].plot(res, y_w0[ri], \"s\", label=\"w0\", c=cl[2], mfc=\"None\", mew=1.0,\n",
    "                         mec=cl[2])\n",
    "\n",
    "    \n",
    "\n",
    "    #BioEn\n",
    "    ax.flat[uniq_id].plot(res, y_th_opt[ri], \"o\",\n",
    "                         c=cl[0], mfc=\"None\", mew=1.0, mec=cl[0])\n",
    "\n",
    "    \n",
    "\n",
    "    super_script = r\"$\\mathregular{^\"+row[1][0]+\"J_{\"+row[1][2:]+\"}\\, [Hz]}$\"\n",
    "\n",
    "    ax.flat[uniq_id].set_ylabel(super_script, fontsize=13)\n",
    "    ax.flat[uniq_id].set_xlabel(\"Residue\", fontsize=13)\n",
    "    ax.flat[uniq_id].set_xticks([2,3,4,5])\n",
    "    ax.flat[uniq_id].text(-0.2,1, lettters[uniq_id] , fontsize=18,\n",
    "\n",
    "                          transform=ax.flat[uniq_id].transAxes)\n",
    "    \n",
    "fig.tight_layout()"
   ]
  },
  {
   "cell_type": "markdown",
   "metadata": {},
   "source": [
    "## Plot fit for each observable"
   ]
  },
  {
   "cell_type": "code",
   "execution_count": 355,
   "metadata": {},
   "outputs": [],
   "source": [
    "def chi_per_observ_theta(theta_l, y_theta_l, jkeys_all, exp_obs_err_ar):\n",
    "    \"\"\"\n",
    "    Extract chi^2 per observation at each value of theta\n",
    "    \"\"\"\n",
    "    chi_out_l = []\n",
    "    res_out_l = []\n",
    "    \n",
    "    for theta_i, theta in enumerate(theta_l):\n",
    "        exp_type_chi_dict = defaultdict(list)\n",
    "        exp_res_chi_dict = defaultdict(list)\n",
    "    \n",
    "        y_theta = y_theta_l[theta_i]\n",
    "    \n",
    "        for row_number, obs_calc in enumerate(y_theta):\n",
    "            \n",
    "            # read identifiers for observations\n",
    "            res_num = jkeys_all[row_number,0]\n",
    "            exp_type = jkeys_all[row_number,1]\n",
    "            \n",
    "        \n",
    "            # read exp table to get raw exp value and error\n",
    "            exp_obs = exp_obs_err_ar[row_number,0]\n",
    "            exp_err = exp_obs_err_ar[row_number,1]\n",
    "        \n",
    "            chi2 = calc_chi2_from_arrays(obs_calc,  exp_err, exp_obs)\n",
    "            exp_type_chi_dict[exp_type].append(chi2)\n",
    "            exp_res_chi_dict[exp_type].append(res_num)\n",
    "        \n",
    "        chi_out_l.append(exp_type_chi_dict)    \n",
    "        res_out_l.append(exp_res_chi_dict) \n",
    "        \n",
    "    return chi_out_l, res_out_l\n",
    "\n",
    "\n",
    "def get_theta_exp_list(theta_l, y_fn):\n",
    "    y_fn_l = []\n",
    "    for theta in theta_l:\n",
    "        y = np.genfromtxt(y_fn.format(theta))\n",
    "        y_fn_l.append(y)\n",
    "    return y_fn_l\n",
    "\n",
    "\n",
    "def calc_chi2_from_arrays(exp_ar, error_ar, sim_ar):\n",
    "    \"\"\"\n",
    "    Eq. 4 in Hummer&Koefinger, JCP, 2016 + BUT with missing factor 2 included\n",
    "    \n",
    "    Parameters:\n",
    "    -----------\n",
    "    exp_ar: array\n",
    "            Experimental observables\n",
    "    error_ar: array\n",
    "              Sigma, comibined simulation and experimental error\n",
    "    sim_ar: array\n",
    "            Observables calculated from model\n",
    "    \n",
    "    Returns:\n",
    "    --------\n",
    "    chi2_ar: array\n",
    "             Chi2\n",
    "    \n",
    "    \"\"\"\n",
    "    return np.sum((exp_ar - sim_ar)**2 / (2.*error_ar**2))"
   ]
  },
  {
   "cell_type": "code",
   "execution_count": 357,
   "metadata": {},
   "outputs": [],
   "source": [
    "y_all_fn = pth_out+\"/yopt/y_theta{}_dat.txt\""
   ]
  },
  {
   "cell_type": "code",
   "execution_count": 358,
   "metadata": {},
   "outputs": [],
   "source": [
    "theta_l = theta_ar.tolist()"
   ]
  },
  {
   "cell_type": "code",
   "execution_count": 359,
   "metadata": {},
   "outputs": [],
   "source": [
    "y_theta_l = get_theta_exp_list(theta_l, y_all_fn)"
   ]
  },
  {
   "cell_type": "code",
   "execution_count": 360,
   "metadata": {},
   "outputs": [],
   "source": [
    "j_keys_all = np.array([row.split() for row in res_jcp_l])"
   ]
  },
  {
   "cell_type": "code",
   "execution_count": 362,
   "metadata": {},
   "outputs": [
    {
     "data": {
      "text/plain": [
       "array([['r2', '3JHNHA'],\n",
       "       ['r3', '3JHNHA'],\n",
       "       ['r4', '3JHNHA'],\n",
       "       ['r5', '3JHNHA'],\n",
       "       ['r2', '3JHNC'],\n",
       "       ['r4', '3JHNC'],\n",
       "       ['r5', '3JHNC'],\n",
       "       ['r2', '3JHAC'],\n",
       "       ['r3', '3JHAC'],\n",
       "       ['r4', '3JHAC'],\n",
       "       ['r5', '3JHAC'],\n",
       "       ['r2', '3JCC'],\n",
       "       ['r2', '3JHNCB'],\n",
       "       ['r3', '3JHNCB'],\n",
       "       ['r4', '3JHNCB'],\n",
       "       ['r5', '3JHNCB'],\n",
       "       ['r2', '1JNCA'],\n",
       "       ['r3', '1JNCA'],\n",
       "       ['r4', '1JNCA'],\n",
       "       ['r5', '1JNCA'],\n",
       "       ['r2', '2JNCA'],\n",
       "       ['r3', '2JNCA'],\n",
       "       ['r4', '2JNCA'],\n",
       "       ['r5', '2JNCA'],\n",
       "       ['r2', '3JHNCA'],\n",
       "       ['r3', '3JHNCA'],\n",
       "       ['r4', '3JHNCA'],\n",
       "       ['r5', '3JHNCA']], dtype='<U6')"
      ]
     },
     "execution_count": 362,
     "metadata": {},
     "output_type": "execute_result"
    }
   ],
   "source": [
    "j_keys_all"
   ]
  },
  {
   "cell_type": "code",
   "execution_count": 363,
   "metadata": {},
   "outputs": [],
   "source": [
    "chi_obsv_all, reslab_all = chi_per_observ_theta(theta_l,\n",
    "                                                y_theta_l, j_keys_all, exp_obs_err)"
   ]
  },
  {
   "cell_type": "code",
   "execution_count": null,
   "metadata": {},
   "outputs": [],
   "source": []
  },
  {
   "cell_type": "code",
   "execution_count": 365,
   "metadata": {},
   "outputs": [
    {
     "data": {
      "text/plain": [
       "array(['3JHNHA', '3JHNC', '3JHAC', '3JCC', '3JHNCB', '1JNCA', '2JNCA',\n",
       "       '3JHNCA'], dtype='<U6')"
      ]
     },
     "execution_count": 365,
     "metadata": {},
     "output_type": "execute_result"
    }
   ],
   "source": [
    "uniq_jkeys"
   ]
  },
  {
   "cell_type": "code",
   "execution_count": 366,
   "metadata": {},
   "outputs": [
    {
     "name": "stdout",
     "output_type": "stream",
     "text": [
      "/usr/bin/sh: module: line 1: syntax error: unexpected end of file\r\n",
      "/usr/bin/sh: error importing function definition for `BASH_FUNC_module'\r\n"
     ]
    },
    {
     "data": {
      "image/png": "[encoded data removed]",
      "text/plain": [
       "<Figure size 576x720 with 8 Axes>"
      ]
     },
     "metadata": {
      "needs_background": "light"
     },
     "output_type": "display_data"
    }
   ],
   "source": [
    "fig, ax  = plt.subplots(4,2, figsize=(8,10)) \n",
    "\n",
    "\n",
    "letters = ['A', 'B', 'C', 'D', 'E', 'F', 'G', 'H']\n",
    "#chi2_theta_l = []\n",
    "\n",
    "for i_exp, exp_type in enumerate(uniq_jkeys):\n",
    "    \n",
    "    ylabel1 = \"{}\".format(exp_type[0])\n",
    "    ylabel2 = \"{}\".format(exp_type[2:])\n",
    "    chi2_str = r\"$\\mathregular{X^{2} \\;}$\"\n",
    "    ax.flat[i_exp].set_ylabel(chi2_str +r\"$\\mathregular{^\"+ylabel1+\"J_{\"+ylabel2+\"}}$\",\n",
    "                           fontsize=13)    \n",
    "    \n",
    "    for ti, o in enumerate(chi_obsv_all):\n",
    "        \n",
    "        resid_ti = reslab_all[ti]\n",
    "        _resid = resid_ti[exp_type]\n",
    "        \n",
    "        #print ti, exp_type\n",
    "        dev_l = []\n",
    "        _chi2 = o[exp_type]\n",
    "    \n",
    "        dev_l.append(_chi2)\n",
    "        for ci, c in enumerate(_chi2):\n",
    "            \n",
    "            color_index = int(_resid[ci][1:]) -2\n",
    "            \n",
    "            if  ti==0:\n",
    "                ax.flat[i_exp].plot(\n",
    "                    theta_l[ti],  c, \".\", c=\"C{}\".format(color_index),\n",
    "                    label=\"{}\".format(_resid[ci]))\n",
    "                ax.flat[i_exp].legend()\n",
    "                \n",
    "            else:\n",
    "                 ax.flat[i_exp].plot(\n",
    "                    theta_l[ti], c, c=\"C{}\".format(color_index), marker=\".\")\n",
    "\n",
    "    #ax.flat[i_exp].plot(theta_l[ti], np.sum(dev_l, axis=1), \".\", c=\"grey\")              \n",
    "    ax.flat[i_exp].semilogx()       \n",
    "    ax.flat[i_exp].set_xlabel(r\"$\\mathregular{\\theta}$\", fontsize=13)\n",
    "    ax.flat[i_exp].legend(handletextpad=-0.1, borderpad=0.1, labelspacing=0.1)\n",
    "    \n",
    "    \n",
    "    ax.flat[i_exp].axvline(th_all, linestyle=\"--\", c=\"k\")\n",
    "    \n",
    "    ax.flat[i_exp].text(-0.2,1., letters[i_exp] , fontsize=18,\n",
    "                        transform=ax.flat[i_exp].transAxes)\n",
    "    \n",
    "    \n",
    "    \n",
    "fig.tight_layout()\n",
    "! mkdir -p plots//plot_chi2\n",
    "fig.savefig(\"plots/plot_chi2/{}_all_chi2.png\".format(para_set))\n",
    "fig.savefig(\"plots/plot_chi2/{}_all_chi2.pdf\".format(para_set))"
   ]
  },
  {
   "cell_type": "code",
   "execution_count": 367,
   "metadata": {},
   "outputs": [
    {
     "name": "stderr",
     "output_type": "stream",
     "text": [
      "/home/tb/lustelzl/anaconda2/envs/bioen-3.7/lib/python3.7/site-packages/ipykernel_launcher.py:1: FutureWarning: arrays to stack must be passed as a \"sequence\" type such as list or tuple. Support for non-sequence iterables such as generators is deprecated as of NumPy 1.16 and will raise an error in the future.\n",
      "  \"\"\"Entry point for launching an IPython kernel.\n"
     ]
    },
    {
     "data": {
      "text/plain": [
       "8.800659258700403"
      ]
     },
     "execution_count": 367,
     "metadata": {},
     "output_type": "execute_result"
    }
   ],
   "source": [
    "np.hstack(chi_obsv_all[th_all_index].values()).sum() "
   ]
  },
  {
   "cell_type": "code",
   "execution_count": 368,
   "metadata": {},
   "outputs": [
    {
     "data": {
      "text/plain": [
       "array([ 6.649436  ,  0.50100476,  8.80065926, 12.13205834])"
      ]
     },
     "execution_count": 368,
     "metadata": {},
     "output_type": "execute_result"
    }
   ],
   "source": [
    "opt_out[55]"
   ]
  },
  {
   "cell_type": "code",
   "execution_count": null,
   "metadata": {},
   "outputs": [],
   "source": []
  }
 ],
 "metadata": {
  "kernelspec": {
   "display_name": "Python [conda env:bioen-3.7]",
   "language": "python",
   "name": "conda-env-bioen-3.7-py"
  },
  "language_info": {
   "codemirror_mode": {
    "name": "ipython",
    "version": 3
   },
   "file_extension": ".py",
   "mimetype": "text/x-python",
   "name": "python",
   "nbconvert_exporter": "python",
   "pygments_lexer": "ipython3",
   "version": "3.7.3"
  },
  "latex_envs": {
   "LaTeX_envs_menu_present": true,
   "autoclose": false,
   "autocomplete": true,
   "bibliofile": "biblio.bib",
   "cite_by": "apalike",
   "current_citInitial": 1,
   "eqLabelWithNumbers": true,
   "eqNumInitial": 1,
   "hotkeys": {
    "equation": "Ctrl-E",
    "itemize": "Ctrl-I"
   },
   "labels_anchors": false,
   "latex_user_defs": false,
   "report_style_numbering": true,
   "user_envs_cfg": false
  },
  "toc": {
   "nav_menu": {},
   "number_sections": true,
   "sideBar": true,
   "skip_h1_title": false,
   "title_cell": "Table of Contents",
   "title_sidebar": "Contents",
   "toc_cell": true,
   "toc_position": {
    "height": "calc(100% - 180px)",
    "left": "10px",
    "top": "150px",
    "width": "429px"
   },
   "toc_section_display": true,
   "toc_window_display": true
  }
 },
 "nbformat": 4,
 "nbformat_minor": 2
}
