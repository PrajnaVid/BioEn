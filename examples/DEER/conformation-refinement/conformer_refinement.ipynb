{
 "cells": [
  {
   "cell_type": "markdown",
   "metadata": {},
   "source": [
    "# BioEn Enemble Refinement with DEER Data\n",
    "(This Jupyter notebook documents the use of BioEn with an ensemble of conformations. For the use of BioEn spin-label reweighting, please either rotamer_refinement_potra.ipynb orrotamer_refinement.ipynb.)\n",
    "\n",
    "By applying this ipython notebook, we can perform spin-label ensemble refinement with DEER data using BioEn. The steps of the Jupyter notebook are <br> \n",
    "\n",
    "1. Preparation of the input <br> \n",
    "2. BioEn <br> \n",
    "3. Analysis of the BioEn results<br> \n",
    "\n",
    "You can either use the provided test data or define your own protein of interest, use your own rotamer library, and define labeled position of interest.\n",
    "\n",
    "\n",
    "### Theory and methods applied in this Jupyter notebook are available in:\n",
    "\n",
    "K. Reichel, Lukas S. Stelzl, J. Köfinger, G. Hummer, “Precision DEER Distances from Spin-Label Reweighting“, J. Phys. Chem. Lett. (2018).\n",
    "\n",
    "G. Hummer, J. Köfinger, “Bayesian ensemble refinement by replica simulations and reweighting”, J. Chem. Phys. 143, 243150 (2015).\n",
    "\n",
    "### Experimental DEER traces used in this Jupyter notebook are published in:\n",
    "R. Dastvan, E. Brouwer, D. Schuetz, O. Mirus, E. Schleiff, T.F. Prisner, ”Relative orientation of POTRA domains from cyanobacterial Omp85 studied by pulsed EPR spectroscopy”, Biophys. J. 110, 2195--2206} (2016)."
   ]
  },
  {
   "cell_type": "code",
   "execution_count": 4,
   "metadata": {},
   "outputs": [],
   "source": [
    "import numpy as np\n",
    "import pickle\n",
    "import pandas as pd\n",
    "\n",
    "import MDAnalysis as mda\n",
    "import MDAnalysis.analysis.align\n",
    "import MDAnalysis.lib.NeighborSearch as KDNS\n",
    "import MDAnalysis.analysis.distances\n",
    "\n",
    "from scipy.special import fresnel\n",
    "\n",
    "import matplotlib as m\n",
    "import matplotlib.pyplot as plt\n",
    "import matplotlib.mlab as mlab\n",
    "\n",
    "import bioen_rotamer_conformations as brc\n",
    "\n",
    "%matplotlib inline"
   ]
  },
  {
   "cell_type": "markdown",
   "metadata": {},
   "source": [
    "## Define paths to the experimental and simulated data and for the output of preparation, BioEn, and analysis of the BioEn runs"
   ]
  },
  {
   "cell_type": "code",
   "execution_count": 5,
   "metadata": {},
   "outputs": [],
   "source": [
    "%%capture\n",
    "! mkdir files/output_preparation\n",
    "! mkdir files/output_bioen\n",
    "! mkdir files/output_analysis\n",
    "\n",
    "# path to experimental data\n",
    "path_experimental_data = \"files/experimental_data/\"\n",
    "\n",
    "# path to simulated data\n",
    "path_simulated_data = \"files/simulated_data/\"\n",
    "\n",
    "# number of ensemble members/conformations\n",
    "# names of the files are 'conf0-signal-deer.pdb', 'conf1-signal-deer.pdb', ... 'conf9-signal-deer.pdb' \n",
    "# in the directory 'files/conformations/\n",
    "nmodels = 10\n",
    "\n",
    "# define path to the output of the preparation\n",
    "path_output_preparation = \"files/output_preparation\"\n",
    "\n",
    "# define path to the output of BioEn\n",
    "path_output_bioen = \"files/output_bioen\"\n",
    "\n",
    "# define path to the output of the analysis\n",
    "path_output_analysis = \"files/output_analysis\""
   ]
  },
  {
   "cell_type": "markdown",
   "metadata": {},
   "source": [
    "# 1. Preparation"
   ]
  },
  {
   "cell_type": "markdown",
   "metadata": {
    "collapsed": true
   },
   "source": [
    "## Settings and input parameters for preparation"
   ]
  },
  {
   "cell_type": "code",
   "execution_count": 6,
   "metadata": {},
   "outputs": [],
   "source": [
    "# pdb of the label (here: MTSL), trajectory and weights of the rotamer library\n",
    "rotamer_library_pdb = \"files/rotamer_library/rotamer1_R1A_298K_2015.pdb\"\n",
    "rotamer_library_dcd = \"files/rotamer_library/rotamer1_R1A_298K_2015.dcd\"\n",
    "rotamer_library_weights = \"files/rotamer_library/rotamer1_R1A_298K_weights_2015.dat\"\n",
    "\n",
    "# spin label positions to obtain rotamer states\n",
    "spin_labels = [[370, 'C'], [292, 'A']]\n",
    "\n",
    "# spin_label_pairs used for the spin-label reweighting\n",
    "spin_label_pairs = [[[370, 'C'], [292, 'A']]]\n",
    "\n",
    "# define clash_distance between atoms of the spin-spin label and the protein\n",
    "clash_distance = 1.4"
   ]
  },
  {
   "cell_type": "markdown",
   "metadata": {
    "collapsed": true
   },
   "source": [
    "## Obtain for each labeled position a trajectory of spin-label rotamers"
   ]
  },
  {
   "cell_type": "code",
   "execution_count": 7,
   "metadata": {},
   "outputs": [],
   "source": [
    "def get_rotamers(structure):\n",
    "    \"\"\"\n",
    "    Calculates for each spin-label position possible rotameric states\n",
    "    according to the protein structure.\n",
    "       \n",
    "    Returns\n",
    "    -------\n",
    "    rotamer_labels: dict\n",
    "        For each spin-label position an array with boolean entries \n",
    "        for each rotameric state\n",
    "    \"\"\"\n",
    "    xray = mda.Universe(structure)\n",
    "    rotamers = mda.Universe(rotamer_library_pdb, rotamer_library_dcd)\n",
    "\n",
    "    rotamer_labels = dict()\n",
    "    for label in spin_labels:\n",
    "        \n",
    "        resid = label[0]\n",
    "        chainid = label[1]\n",
    "        dcd_fn = '{}/tmp_traj_{}_{}.dcd'.format(path_output_preparation, resid, chainid)\n",
    "        d = dict()\n",
    "        brc.fit_rotamers(rotamers, xray, resid, chainid, dcd_fn)\n",
    "        rotamer_site = mda.Universe(rotamers.filename, dcd_fn)\n",
    "        rotamer_clash = brc.find_clashing_rotamers(clash_distance, rotamer_site, xray, resid, chainid)\n",
    "        d['site'] = rotamer_site\n",
    "        d['clash'] = rotamer_clash\n",
    "\n",
    "        rotamer_nitrogen = rotamer_site.select_atoms(\"name N1\")\n",
    "        rotamer_oxygen = rotamer_site.select_atoms(\"name O1\")\n",
    "        rotamer_positions = dict()\n",
    "        for rotamer in rotamer_site.trajectory:\n",
    "             if not rotamer_clash[rotamer.frame]:\n",
    "                rotamer_electron = (np.array(rotamer_nitrogen.positions[0][0:3]) + np.asarray(rotamer_oxygen.positions[0][0:3]))/2.0\n",
    "                rotamer_positions[rotamer.frame] = [rotamer_electron]\n",
    "        d['positions'] = rotamer_positions\n",
    "        ln = '{}-{}'.format(resid, chainid)\n",
    "        rotamer_labels[ln] = d\n",
    "\n",
    "    return rotamer_labels"
   ]
  },
  {
   "cell_type": "markdown",
   "metadata": {},
   "source": [
    "## Get for each spin-label distance in the rotamer trajectories a single DEER trace"
   ]
  },
  {
   "cell_type": "code",
   "execution_count": 8,
   "metadata": {},
   "outputs": [],
   "source": [
    "def get_preparation_output(rotamer_labels, rotamer_library_weights):\n",
    "    sim_model = dict()\n",
    "    distances_model = dict()\n",
    "    for spin_label_pair in spin_label_pairs:\n",
    "        label_pair_id = [spin_label_pair[0][0], spin_label_pair[1][0]]\n",
    "        ts = brc.get_experimental_timesteps(path_experimental_data, label_pair_id)\n",
    "        spin_label_pair.append(ts)\n",
    "        ln = \"{}-{}\".format(spin_label_pair[0][0], spin_label_pair[1][0])\n",
    "        sim_model[ln], distances_model[ln] = brc.get_deer_from_single_pair_conformations(spin_label_pair, \n",
    "                                                                                         rotamer_labels, \n",
    "                                                                                         rotamer_library_weights,\n",
    "                                                                                         path_output_preparation)    \n",
    "    return sim_model, distances_model"
   ]
  },
  {
   "cell_type": "markdown",
   "metadata": {},
   "source": [
    "## Get all input for BioEn"
   ]
  },
  {
   "cell_type": "code",
   "execution_count": 9,
   "metadata": {},
   "outputs": [],
   "source": [
    "def get_data_ensemble():\n",
    "    \"\"\"\n",
    "    Generates for an ensemble of conformations the DEER traces.\n",
    "    Saves input for BioEn:\n",
    "        data_*.pkl --> DEER traces based on spin-label distances\n",
    "        models_*.dat --> list of the model ids\n",
    "    \"\"\"   \n",
    "\n",
    "    sim_tmp = dict()\n",
    "    distances_tmp = dict()\n",
    "    for nmodel in range(0,10):\n",
    "        structure = \"files/conformations/conf{}-signal-deer.pdb\".format(nmodel)\n",
    "        rotamer_labels = get_rotamers(structure)  \n",
    "        brc.check_rotamer_labels(rotamer_labels, nmodel)      \n",
    "        sim_tmp[nmodel], distances_tmp[nmodel] = get_preparation_output(rotamer_labels, \n",
    "                                                                        rotamer_library_weights)\n",
    "    # save simulated DEER traces in pkl format (input for bioen)\n",
    "    data_pkl = \"{}/data_input_sim.pkl\".format(path_output_preparation)\n",
    "    with open(data_pkl, 'wb') as fp:\n",
    "        pickle.dump([sim_tmp], fp) \n",
    "        \n",
    "    # save simulated distances traces in pkl format (input for bioen)\n",
    "    distances_pkl = \"{}/distances.pkl\".format(path_output_preparation)\n",
    "    with open(distances_pkl, 'wb') as fp:\n",
    "        pickle.dump(distances_tmp, fp) \n",
    "    \n",
    "    np.savetxt(\"{}/models.dat\".format(path_output_preparation), range(0,nmodels))\n",
    "    return"
   ]
  },
  {
   "cell_type": "code",
   "execution_count": 10,
   "metadata": {},
   "outputs": [
    {
     "name": "stderr",
     "output_type": "stream",
     "text": [
      "Step   216/216 [100.0%]\n",
      "Step   216/216 [100.0%]\n",
      "Step   216/216 [100.0%]\n",
      "Step   216/216 [100.0%]\n",
      "Step   216/216 [100.0%]\n",
      "Step   216/216 [100.0%]\n",
      "Step   216/216 [100.0%]\n",
      "Step   216/216 [100.0%]\n",
      "Step   216/216 [100.0%]\n",
      "Step   216/216 [100.0%]\n",
      "Step   216/216 [100.0%]\n",
      "Step   216/216 [100.0%]\n",
      "Step   216/216 [100.0%]\n",
      "Step   216/216 [100.0%]\n",
      "Step   216/216 [100.0%]\n",
      "Step   216/216 [100.0%]\n",
      "Step   216/216 [100.0%]\n",
      "Step   216/216 [100.0%]\n",
      "Step   216/216 [100.0%]\n",
      "Step   216/216 [100.0%]\n"
     ]
    }
   ],
   "source": [
    "nmodels = 10\n",
    "sim_tmp = get_data_ensemble()"
   ]
  },
  {
   "cell_type": "markdown",
   "metadata": {},
   "source": [
    "# BioEn"
   ]
  },
  {
   "cell_type": "markdown",
   "metadata": {
    "collapsed": true
   },
   "source": [
    "## Settings and input parameters for BioEn"
   ]
  },
  {
   "cell_type": "code",
   "execution_count": 11,
   "metadata": {},
   "outputs": [],
   "source": [
    "# define theta series, bioen performs for each theta reweighting\n",
    "theta_series = [10e5, 10e4, 10e3, 10e2, 10e1, 10e0, 10e-1, 0]\n",
    "np.savetxt('theta.dat', np.array(theta_series))"
   ]
  },
  {
   "cell_type": "markdown",
   "metadata": {},
   "source": [
    "## Run BioEn with bash script and use files generated in the preparation"
   ]
  },
  {
   "cell_type": "code",
   "execution_count": 12,
   "metadata": {},
   "outputs": [],
   "source": [
    "def run_bioen_script(label_pair_id, nmodels):\n",
    "    ! bash run_bioen_ipynb_deer.sh $label_pair_id $nmodels \n",
    "    return"
   ]
  },
  {
   "cell_type": "code",
   "execution_count": 13,
   "metadata": {},
   "outputs": [],
   "source": [
    "%%capture c\n",
    "for spin_label_pair in spin_label_pairs:\n",
    "    label_pair_id = '{}-{}'.format(spin_label_pair[0][0], spin_label_pair[1][0])\n",
    "    # start BioEn reweighting for each spin-label pair\n",
    "    run_bioen_script(label_pair_id, nmodels)"
   ]
  },
  {
   "cell_type": "markdown",
   "metadata": {},
   "source": [
    "# Analysis"
   ]
  },
  {
   "cell_type": "markdown",
   "metadata": {
    "collapsed": true
   },
   "source": [
    "## Settings and input parameters for analysis of BioEn outputs"
   ]
  },
  {
   "cell_type": "code",
   "execution_count": 14,
   "metadata": {},
   "outputs": [],
   "source": [
    "def load_bioen_pkl():\n",
    "    \"\"\"\n",
    "    Loads output of BioEn pkl file (contains all information)\n",
    "    \"\"\"\n",
    "    df = pd.read_pickle(\"{}/bioen_results.pkl\".format(path_output_bioen))\n",
    "    return df.to_dict()\n"
   ]
  },
  {
   "cell_type": "code",
   "execution_count": 15,
   "metadata": {},
   "outputs": [],
   "source": [
    "bioen_data = load_bioen_pkl()"
   ]
  },
  {
   "cell_type": "markdown",
   "metadata": {},
   "source": [
    "`bioen_data` contains all needed and useful information to analyse the BioEn calculations. <br>\n",
    "For each previously defined confidence value $\\theta$ (defined in the variable `theta_series`) a list of BioEn output is available:\n",
    "\n",
    "**Experimental information**\n",
    "- **`exp`** <br> \n",
    "--> experimental DEER signals for each label <br>\n",
    "--> in case of DEER data, this variable contains time, DEER signal and polynomial fit of the DEER signal <br>\n",
    "--> time: `data['exp']['370-292'][:,0]` <br>\n",
    "--> DEER trace: `data['exp']['370-292'][:,1]` <br>\n",
    "--> polynomial fit of DEER trace: `data['exp']['370-292'][:,1]` <br>\n",
    "- **`exp_err`** <br>\n",
    "--> error/noise of each experimental data point defined in `exp`\n",
    "- **`labels`** <br> \n",
    "--> list of labels used in the refinement\n",
    "- **`nrestraints`** <br>\n",
    "--> number of data points ($M$)\n",
    "\n",
    "**Simulated data and parameters**\n",
    "- **`sim_init`** <br> \n",
    "--> initial ensemble averaged simulated DEER traces for each label (see above for exp)\n",
    "- **`sim_wopt`** <br>\n",
    "--> optimized ensemble averaged simulated DEER traces for each label and for a given confidence value $\\theta$\n",
    "- **`moddepth`** <br>\n",
    "--> modulation depth of the optimized ensemble averaged simulated DEER traces for each label \n",
    "- **`nmodels_list`** <br>\n",
    "--> list of model ids (extracted e.g. from models_370-292.dat)\n",
    "- **`nmodels`** <br>\n",
    "--> number of models ($N$), which is also the number of ensemble members (relevant in the BioEn context) <br>\n",
    "--> `nmodels` = `nrotamers` <br>\n",
    "--> number of rotamers, which is needed to backcalculate weights of rotamers of a spin-label position (relevant in the analysis contex) <br>\n",
    "\n",
    "**Free energy parameters**\n",
    "- **`theta`** <br>\n",
    "--> confidence parameter $\\theta$\n",
    "- **`chi2_init`** <br>\n",
    "--> deviation from the experimental data with the initial weight distribution <br>\n",
    "--> if you use `chi2_init` of the maximal value of $\\theta$, $\\chi^2$ is calculated with the prior weight distribution `w0`\n",
    "- **`chi2`** <br>\n",
    "--> optimal $\\chi^2$ calculated with optimal weight distribution `wopt`\n",
    "- **`S_init`** <br>\n",
    "--> initial relative entropy\n",
    "--> if you use `S_init` of the maximal value of $\\theta$, $S$ is equal to $0$\n",
    "- **`S`** <br>\n",
    "--> relative entropy of optimized weight distribution\n",
    "- **`w0`** <br>\n",
    "--> reference weight distribution\n",
    "- **`winit`** <br>\n",
    "--> initial weight distribution\n",
    "- **`wopt`** <br>\n",
    "--> optimal weight distribution <br>\n",
    "--> optimized for each $\\theta$\n",
    "\n",
    "**Misc**\n",
    "- **`len_sim`** <br>\n",
    "--> seconds it took for BioEn to optimize for a given value of $\\theta$\n",
    "- **`optimization_method`** <br>\n",
    "--> information about the optimization method: log-weights or forces\n",
    "- **`optimization_minimizer`** <br>\n",
    "--> information about the minimer: scipy, GSL, LBFGS\n",
    "- **`optimization_algorithm`** <br>\n",
    "--> information about the inimizer: <br>\n",
    "--> scipy: bfgs, lbfgs, cg <br>\n",
    "--> GSL: conjugate_fr, conjugate_pr, bfgs, bfgs, steepest_descent<br>\n",
    "--> LBFGS: lbfgs <br>"
   ]
  },
  {
   "cell_type": "markdown",
   "metadata": {
    "collapsed": true
   },
   "source": [
    "### Plot $\\chi^{2} vs. S_{\\mathrm{KL}}$\n",
    "\n",
    "the lower $\\theta$, the closer to experimental data"
   ]
  },
  {
   "cell_type": "code",
   "execution_count": 16,
   "metadata": {},
   "outputs": [],
   "source": [
    "def visualize_chi2_skl(bioen_data, label_pair_id):\n",
    "    fs = 22\n",
    "    fig = plt.figure(figsize=[6,4])\n",
    "    ax = fig.add_subplot(111)\n",
    "    \n",
    "    for theta in theta_series:\n",
    "        chi2 = bioen_data[theta]['chi2'] / bioen_data[theta]['nrestraints']\n",
    "        skl = - bioen_data[theta]['S']\n",
    "        ax.scatter(skl, chi2, marker='^', s=160, label=theta)  \n",
    "    \n",
    "    #ax.set_xticks(range(-1,6,1))   \n",
    "    #ax.set_xticklabels(range(-1,6,1), fontsize=fs)\n",
    "    #ax.set_xlim(-0.4,5.5)\n",
    "    ax.set_xlabel(r'$S_{\\mathrm{KL}}$', fontsize=fs)\n",
    "\n",
    "    #ax.set_yticks(np.arange(0,10,1))   \n",
    "    #ax.set_yticklabels(np.arange(0,10,1), fontsize=fs)\n",
    "    #ax.set_ylim(-0.2, 4)\n",
    "    ax.set_ylabel(r'$\\chi^{2}$', fontsize=fs)    \n",
    "    \n",
    "    plt.grid()\n",
    "    \n",
    "    ax.legend(ncol=2, fontsize=10)\n",
    "    \n",
    "    plt.tight_layout()\n",
    "    plt.savefig(\"{}/bioen_chi2_skl.png\".format(path_output_analysis, label_pair_id), dpi=400)\n",
    "    plt.show()\n",
    "    return"
   ]
  },
  {
   "cell_type": "code",
   "execution_count": 17,
   "metadata": {},
   "outputs": [
    {
     "data": {
      "image/png": "[encoded data removed]",
      "text/plain": [
       "<Figure size 432x288 with 1 Axes>"
      ]
     },
     "metadata": {
      "needs_background": "light"
     },
     "output_type": "display_data"
    }
   ],
   "source": [
    "for spin_label_pair in spin_label_pairs:\n",
    "    label_pair_id = '{}-{}'.format(spin_label_pair[0][0], spin_label_pair[1][0])\n",
    "    visualize_chi2_skl(bioen_data, label_pair_id)"
   ]
  },
  {
   "cell_type": "markdown",
   "metadata": {},
   "source": [
    "## Comparison experimental and weighted ensemble averaged DEER traces"
   ]
  },
  {
   "cell_type": "code",
   "execution_count": 18,
   "metadata": {},
   "outputs": [],
   "source": [
    "def visualize_deer_traces(theta, bioen_data, label_pair_id):\n",
    "    fs = 22\n",
    "    fig = plt.figure(figsize=[6,4])\n",
    "    ax = fig.add_subplot(111)\n",
    "    \n",
    "    theta_max = np.max(list(bioen_data.keys()))\n",
    "    \n",
    "    label = list(bioen_data[theta]['exp']['deer'].keys())[0]\n",
    "\n",
    "    exp = bioen_data[theta]['exp']['deer'][label]\n",
    "    exp_err = bioen_data[theta]['exp_err']['deer'][label]\n",
    "    \n",
    "    sim_init = bioen_data[theta_max]['sim_init']['deer'][label]\n",
    "    sim = bioen_data[theta]['sim_wopt']['deer'][label]\n",
    "    \n",
    "    ax.plot(exp[:,0], exp[:,1], color='black', linewidth=2.5, label='Exp.',zorder=2)\n",
    "    ax.fill_between(exp[:,0], exp[:,2]-exp_err, exp[:,2]+exp_err, color='black', alpha=0.2, label='Error', linewidth=1.0, zorder=1)\n",
    "    ax.plot(exp[:,0], sim_init, color='green', linewidth=3.0, label=r\"X-ray\",zorder=0)\n",
    "    ax.plot(exp[:,0], sim, color='red', linewidth=3.0, label=r\"BioEn\".format(theta),zorder=3)\n",
    "    \n",
    "    ax.set_xticks(np.arange(0,4.0,1.0))\n",
    "    ax.set_xticklabels(np.arange(0,4.0,1.0), fontsize=fs)\n",
    "    ax.set_xlim(0,3.5)\n",
    "    ax.set_xlabel(r't [$\\mu$s]', fontsize=fs+2)\n",
    "\n",
    "    ax.set_yticks(np.arange(-0.6,1.4,0.2))\n",
    "    ax.set_yticklabels(np.arange(-0.6,1.4,0.2), fontsize=fs)\n",
    "    ax.set_ylim(0.35,1.0)\n",
    "    ax.set_ylabel(r'F(t)', fontsize=fs)\n",
    "\n",
    "    ax.legend(loc=1, ncol=2, fontsize=10)\n",
    "    \n",
    "    plt.grid()\n",
    "    \n",
    "    plt.tight_layout()\n",
    "    plt.savefig(\"{}/bioen_deer_{}.png\".format(path_output_analysis,label_pair_id), dpi=400)\n",
    "    plt.show()\n",
    "    return"
   ]
  },
  {
   "cell_type": "code",
   "execution_count": 19,
   "metadata": {},
   "outputs": [
    {
     "data": {
      "image/png": "[encoded data removed]",
      "text/plain": [
       "<Figure size 432x288 with 1 Axes>"
      ]
     },
     "metadata": {
      "needs_background": "light"
     },
     "output_type": "display_data"
    }
   ],
   "source": [
    "theta = 100.0\n",
    "for spin_label_pair in spin_label_pairs:\n",
    "    label_pair_id = '{}-{}'.format(spin_label_pair[0][0], spin_label_pair[1][0])\n",
    "    visualize_deer_traces(theta, bioen_data, label_pair_id)"
   ]
  },
  {
   "cell_type": "markdown",
   "metadata": {},
   "source": [
    "## Cummulative weight"
   ]
  },
  {
   "cell_type": "code",
   "execution_count": 20,
   "metadata": {},
   "outputs": [],
   "source": [
    "def visualize_cum_dist(theta, bioen_data, label_pair_id):\n",
    "    fs = 22\n",
    "    fig = plt.figure(figsize=[6,4])\n",
    "    ax = fig.add_subplot(111)\n",
    "    \n",
    "    nmodels = bioen_data[theta][\"nmodels\"]\n",
    "    a = np.vstack((bioen_data[theta][\"nmodels_list\"], np.array(bioen_data[theta][\"wopt\"]).reshape(1,-1)))\n",
    "    \n",
    "    models = []\n",
    "    for i, id in enumerate(np.argsort(a[1,:])[::-1]):\n",
    "        if i == 0: models.append([a[:,id][0], float(a[:,id][1]), float(a[:,id][1])])\n",
    "        else: models.append([a[:,id][0], float(a[:,id][1]), models[-1][2]+float(a[:,id][1])])\n",
    "\n",
    "    models = np.array(models)\n",
    "    ax.scatter(range(1,nmodels+1), models[:,2], s=20, color='green', zorder=2)\n",
    "    ax.plot(range(1,nmodels+1), models[:,2], color='black', zorder=1)\n",
    "\n",
    "    ax.set_xticks([0.0, 10.0, 100.0, 1000.0, 10000.0])\n",
    "    ax.set_xticklabels([r'$10^{0}$', r'$10^{1}$', r'$10^{2}$', r'$10^{3}$', r'$10^{4}$'], fontsize=fs)\n",
    "    ax.set_xlabel(\"Fraction of configurations\", fontsize=fs)\n",
    "    ax.semilogx()\n",
    "    ax.set_yticklabels(np.arange(0,1.2,0.2), fontsize=fs)\n",
    "    ax.set_ylim(0,1)\n",
    "    ax.set_ylabel(\"Cumulative distribution\", fontsize=fs)\n",
    "    \n",
    "    ax.grid()\n",
    "    \n",
    "    plt.savefig('{}/bioen_cum_weights_{}.png'.format(path_output_analysis, label_pair_id), dpi=600, bbox_inches='tight')\n",
    "    return"
   ]
  },
  {
   "cell_type": "code",
   "execution_count": 21,
   "metadata": {},
   "outputs": [
    {
     "data": {
      "image/png": "[encoded data removed]",
      "text/plain": [
       "<Figure size 432x288 with 1 Axes>"
      ]
     },
     "metadata": {
      "needs_background": "light"
     },
     "output_type": "display_data"
    }
   ],
   "source": [
    "theta = 100.0\n",
    "for spin_label_pair in spin_label_pairs:\n",
    "    label_pair_id = '{}-{}'.format(spin_label_pair[0][0], spin_label_pair[1][0])\n",
    "    visualize_cum_dist(theta, bioen_data, label_pair_id)"
   ]
  },
  {
   "cell_type": "markdown",
   "metadata": {},
   "source": [
    "## Distance distribution"
   ]
  },
  {
   "cell_type": "markdown",
   "metadata": {},
   "source": [
    "### Obtain distances based on the weights from the BioEn calculation and frames*pkl"
   ]
  },
  {
   "cell_type": "code",
   "execution_count": 22,
   "metadata": {},
   "outputs": [],
   "source": [
    "def get_distances():\n",
    "    distances_fn = \"{}/distances.pkl\".format(path_output_preparation)\n",
    "    with open(distances_fn, 'rb') as fp:\n",
    "        distances = pickle.load(fp)\n",
    "    return distances"
   ]
  },
  {
   "cell_type": "code",
   "execution_count": 23,
   "metadata": {},
   "outputs": [],
   "source": [
    "def combine_distances_weights(theta, distances, label_pair_id):\n",
    "    nmodels = bioen_data[theta][\"nmodels\"]\n",
    "    weights = np.array(bioen_data[theta][\"wopt\"])\n",
    "    nmodels_weights = (np.vstack((bioen_data[theta][\"nmodels_list\"], \n",
    "                       np.array(bioen_data[theta][\"wopt\"]).reshape(1,-1)))).T\n",
    "    for model in nmodels_weights:\n",
    "        a = np.array([distances[model[0]][label_pair_id], [model[1]]* len(distances[model[0]][label_pair_id])])\n",
    "        if model[0] == 0: weights_distances = a\n",
    "        else: weights_distances = np.column_stack((weights_distances, a))\n",
    "\n",
    "    return np.array(weights_distances)"
   ]
  },
  {
   "cell_type": "code",
   "execution_count": 24,
   "metadata": {},
   "outputs": [],
   "source": [
    "distances = get_distances()\n",
    "theta = 100.0\n",
    "weights_distances_all = dict()\n",
    "for spin_label_pair in spin_label_pairs:\n",
    "    label_pair_id = '{}-{}'.format(spin_label_pair[0][0], spin_label_pair[1][0])\n",
    "    weights_distances_all[label_pair_id] = combine_distances_weights(theta, distances, label_pair_id)"
   ]
  },
  {
   "cell_type": "markdown",
   "metadata": {},
   "source": [
    "### Visulize distances with prior and optimized weights"
   ]
  },
  {
   "cell_type": "code",
   "execution_count": 25,
   "metadata": {},
   "outputs": [],
   "source": [
    "def visualize_dist_distr(weights_distances):\n",
    "    fs = 22\n",
    "    fig = plt.figure(figsize=[6,4])\n",
    "    ax = fig.add_subplot(111)\n",
    "    \n",
    "    distances = weights_distances[0,:]\n",
    "    weights = weights_distances[1,:]\n",
    "    \n",
    "    ax.axes.hist(distances, bins=100, color='green', label=\"X-ray (w0)\", alpha=0.2, zorder=2, normed=True)\n",
    "    ax.axes.hist(distances, bins=100, color='green', alpha=0.8, zorder=2, normed=True, histtype='step')\n",
    "    ax.axes.hist(distances, weights=weights, bins=100, color='red', label=r\"Shift (wopt, $\\theta=10^3$)\", alpha=0.2, normed=True,)\n",
    "    ax.axes.hist(distances, weights=weights, bins=100, color='red', alpha=0.8, normed=True, histtype='step')\n",
    "    \n",
    "    ax.set_xticks(range(0,80,10))\n",
    "    ax.set_xticklabels(range(0,80,10), fontsize=fs)\n",
    "    ax.set_xlim(15, 60)\n",
    "    ax.set_xlabel(r'r [nm]', fontsize=fs)\n",
    "\n",
    "    ax.set_yticklabels([], fontsize=fs)\n",
    "    ax.set_ylabel(r'P(r)', fontsize=fs)    \n",
    "    \n",
    "    plt.grid(zorder=3)\n",
    "    \n",
    "    plt.savefig('{}/bioen_dist_distributions.png'.format(path_output_analysis), dpi=600, bbox_inches='tight')\n",
    "    \n",
    "    return"
   ]
  },
  {
   "cell_type": "code",
   "execution_count": 26,
   "metadata": {},
   "outputs": [
    {
     "name": "stderr",
     "output_type": "stream",
     "text": [
      "/opt/apps/anaconda/3/2018.12/lib/python3.7/site-packages/matplotlib/axes/_axes.py:6521: MatplotlibDeprecationWarning: \n",
      "The 'normed' kwarg was deprecated in Matplotlib 2.1 and will be removed in 3.1. Use 'density' instead.\n",
      "  alternative=\"'density'\", removal=\"3.1\")\n"
     ]
    },
    {
     "data": {
      "image/png": "[encoded data removed]",
      "text/plain": [
       "<Figure size 432x288 with 1 Axes>"
      ]
     },
     "metadata": {
      "needs_background": "light"
     },
     "output_type": "display_data"
    }
   ],
   "source": [
    "for spin_label_pair in spin_label_pairs:\n",
    "    label_pair_id = '{}-{}'.format(spin_label_pair[0][0], spin_label_pair[1][0])\n",
    "    visualize_dist_distr(weights_distances_all[label_pair_id])"
   ]
  },
  {
   "cell_type": "code",
   "execution_count": null,
   "metadata": {},
   "outputs": [],
   "source": []
  }
 ],
 "metadata": {
  "anaconda-cloud": {},
  "kernelspec": {
   "display_name": "Python 3",
   "language": "python",
   "name": "python3"
  },
  "language_info": {
   "codemirror_mode": {
    "name": "ipython",
    "version": 3
   },
   "file_extension": ".py",
   "mimetype": "text/x-python",
   "name": "python",
   "nbconvert_exporter": "python",
   "pygments_lexer": "ipython3",
   "version": "3.7.1"
  },
  "toc": {
   "colors": {
    "hover_highlight": "#DAA520",
    "navigate_num": "#000000",
    "navigate_text": "#333333",
    "running_highlight": "#FF0000",
    "selected_highlight": "#FFD700",
    "sidebar_border": "#EEEEEE",
    "wrapper_background": "#FFFFFF"
   },
   "moveMenuLeft": true,
   "nav_menu": {
    "height": "68px",
    "width": "252px"
   },
   "navigate_menu": true,
   "number_sections": true,
   "sideBar": true,
   "threshold": 4,
   "toc_cell": false,
   "toc_section_display": "block",
   "toc_window_display": false,
   "widenNotebook": false
  }
 },
 "nbformat": 4,
 "nbformat_minor": 1
}
