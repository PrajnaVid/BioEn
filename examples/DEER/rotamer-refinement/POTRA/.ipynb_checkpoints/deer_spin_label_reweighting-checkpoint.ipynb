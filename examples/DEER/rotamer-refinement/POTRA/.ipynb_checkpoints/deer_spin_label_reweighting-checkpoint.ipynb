{
 "cells": [
  {
   "cell_type": "markdown",
   "metadata": {},
   "source": [
    "# Spin-Label Enemble Refinement with DEER data using BioEn\n",
    "\n",
    "By applying this ipython notebook, you can perform spin-label ensemble refinement with DEER data using BioEn (as done in Reichel et al. JPC Letters (2018)). The steps of the ipython notebook are <br> \n",
    "1. Preparation of the input <br> \n",
    "2. BioEn <br> \n",
    "3. Analysis of the BioEn results<br> \n",
    "\n",
    "(as shown in Reichel et al. PLoS Computational Biology (2018)). You can either use the provided test data or define your own protein of interest, use your own rotamer library, and define labeled position of interest. The part, which can be individualized by the user, is highlighted in green. \n",
    "\n",
    "\n",
    "### Theory and methods applied in this ipython notebook are available in:\n",
    "G. Hummer, J. Köfinger, “Bayesian ensemble refinement by replica simulations and reweighting,” J. Chem. Phys. 143, 243150 (2015). <br>\n",
    "K. Reichel, J. Koefinger, L. S. Stelzl, G. Hummer, “Precision DEER distances from Spin-Label Ensemble Refinement,” J. Phys. Chem. Letters (2018).\n"
   ]
  },
  {
   "cell_type": "code",
   "execution_count": 1,
   "metadata": {},
   "outputs": [],
   "source": [
    "import numpy as np\n",
    "import pickle\n",
    "import pandas as pd\n",
    "\n",
    "import MDAnalysis as mda\n",
    "import MDAnalysis.analysis.align\n",
    "import MDAnalysis.lib.NeighborSearch as KDNS\n",
    "import MDAnalysis.analysis.distances\n",
    "\n",
    "from scipy.special import fresnel\n",
    "\n",
    "import matplotlib as m\n",
    "import matplotlib.pyplot as plt\n",
    "import matplotlib.mlab as mlab\n",
    "\n",
    "import bioen_rotamer as br\n",
    "\n",
    "%matplotlib inline"
   ]
  },
  {
   "cell_type": "markdown",
   "metadata": {},
   "source": [
    "# 1. Preparation"
   ]
  },
  {
   "cell_type": "markdown",
   "metadata": {
    "collapsed": true
   },
   "source": [
    "## Settings and input parameters for preparation"
   ]
  },
  {
   "cell_type": "code",
   "execution_count": 2,
   "metadata": {},
   "outputs": [],
   "source": [
    "# use the protein of interest\n",
    "structure = \"files/structure/3MC8_xray.pdb\"\n",
    "\n",
    "# pdb of the label, trajectory and weights of the rotamer library\n",
    "rotamer_library_pdb = \"files/rotamer_library/rotamer1_R1A_298K_2015.pdb\"\n",
    "rotamer_library_dcd = \"files/rotamer_library/rotamer1_R1A_298K_2015.dcd\"\n",
    "rotamer_library_weights = \"files/rotamer_library/rotamer1_R1A_298K_weights_2015.dat\"\n",
    "\n",
    "# define time steps from experimental measurement [ns]\n",
    "experimental_data_time_steps = np.loadtxt(\"files/experimental_data/exp-370-292-signal-deer.dat\")[:,0]*1000\n",
    "\n",
    "# define single spin label positions\n",
    "spin_labels = [[370, 'A'], [292, 'C']]\n",
    "\n",
    "# define spin_label_pairs used for the spin-label reweighting and include the time steps from the experiments\n",
    "spin_label_pairs = [[[370, 'A'], [292, 'C'], experimental_data_time_steps]]\n",
    "\n",
    "# define path of the output of the preparation\n",
    "path_output_preparation = \"files/output_preparation\"\n",
    "\n",
    "# define clash_distance between atoms of the spin-spin label and the protein\n",
    "clash_distance = 1.4"
   ]
  },
  {
   "cell_type": "markdown",
   "metadata": {
    "collapsed": true
   },
   "source": [
    "## Obtain for each labeled position a trajectory of spin-label rotamers"
   ]
  },
  {
   "cell_type": "code",
   "execution_count": 5,
   "metadata": {},
   "outputs": [],
   "source": [
    "def get_rotamers():\n",
    "    xray = mda.Universe(structure)\n",
    "    rotamers = mda.Universe(rotamer_library_pdb, rotamer_library_dcd)\n",
    "\n",
    "    rotamer_labels = dict()\n",
    "    for label in spin_labels:\n",
    "        resid = label[0]\n",
    "        chainid = label[1]\n",
    "        dcd_fn = '{}/tmp_traj_{}_{}.dcd'.format(path_output_preparation, resid, chainid)\n",
    "        d = dict()\n",
    "        br.fit_rotamers(rotamers, xray, resid, chainid, dcd_fn)\n",
    "        rotamer_site = mda.Universe(rotamers.filename, dcd_fn)\n",
    "        rotamer_clash = br.find_clashing_rotamers(clash_distance, rotamer_site, xray, resid, chainid)\n",
    "        d['site'] = rotamer_site\n",
    "        d['clash'] = rotamer_clash\n",
    "\n",
    "        rotamer_nitrogen = rotamer_site.select_atoms(\"name N1\")\n",
    "        rotamer_oxygen = rotamer_site.select_atoms(\"name O1\")\n",
    "        rotamer_positions = dict()\n",
    "        for rotamer in rotamer_site.trajectory:\n",
    "             if not rotamer_clash[rotamer.frame]:\n",
    "                rotamer_electron = (np.array(rotamer_nitrogen.positions[0][0:3]) + np.asarray(rotamer_oxygen.positions[0][0:3]))/2.0\n",
    "                rotamer_positions[rotamer.frame] = [rotamer_electron]\n",
    "        d['positions'] = rotamer_positions\n",
    "        ln = '{}-{}'.format(resid, chainid)\n",
    "        rotamer_labels[ln] = d\n",
    "    return rotamer_labels"
   ]
  },
  {
   "cell_type": "code",
   "execution_count": 6,
   "metadata": {},
   "outputs": [
    {
     "name": "stderr",
     "output_type": "stream",
     "text": [
      "Step   216/216 [100.0%]\n",
      "Step   216/216 [100.0%]\n"
     ]
    }
   ],
   "source": [
    "rotamer_labels = get_rotamers()"
   ]
  },
  {
   "cell_type": "markdown",
   "metadata": {},
   "source": [
    "## Get for each spin-label distance in the rotamer trajectories a single DEER trace"
   ]
  },
  {
   "cell_type": "markdown",
   "metadata": {},
   "source": [
    "Get for each distance, which is measured between the unpaired electrons of the spin-labels rotamer states, a single DEER trace."
   ]
  },
  {
   "cell_type": "code",
   "execution_count": 7,
   "metadata": {},
   "outputs": [],
   "source": [
    "def get_preparation_output(rotamer_labels, rotamer_library_weights, path_output_preparation):\n",
    "    for slp in spin_label_pairs:\n",
    "        br.get_deer_from_single_pair(slp, rotamer_labels, rotamer_library_weights, path_output_preparation)    \n",
    "    return"
   ]
  },
  {
   "cell_type": "code",
   "execution_count": 8,
   "metadata": {},
   "outputs": [
    {
     "name": "stdout",
     "output_type": "stream",
     "text": [
      "Generated files are saved in files/output_preparation:\n",
      "\tdata_370-A_292-C.pkl --> contains all calculated DEER traces based on spin-label distances\n",
      "\tmodels_370-A_292-C.dat --> list of the model ids\n",
      "\tweights_370-A_292-C.dat --> prior weights (normalized) derived from input weights of single rotamer states\n",
      "\tframes_370-A_292-C.pkl --> spin-label rotamers and spin-label distances for each ensemble member\n",
      "Number of rotamer combinations (number of ensemble members): 5940\n"
     ]
    }
   ],
   "source": [
    "get_preparation_output(rotamer_labels, rotamer_library_weights, path_output_preparation)"
   ]
  },
  {
   "cell_type": "markdown",
   "metadata": {},
   "source": [
    "# BioEn"
   ]
  },
  {
   "cell_type": "markdown",
   "metadata": {
    "collapsed": true
   },
   "source": [
    "## Settings and input parameters for BioEn"
   ]
  },
  {
   "cell_type": "code",
   "execution_count": 9,
   "metadata": {},
   "outputs": [],
   "source": [
    "# define theta series, bioen performs for each theta reweighting\n",
    "theta_series = [10e5, 10e4, 10e3, 10e2, 10e1, 10e0, 10e-1, 0]\n",
    "np.savetxt('theta.dat', np.array(theta_series))\n",
    "\n",
    "# number of rotamers \n",
    "number_of_ensemble_members = '5940'\n",
    "\n",
    "# reweighting is done for a single spin-label pair\n",
    "label_pair = '370-292'\n",
    "\n",
    "# define path for the output of BioEn\n",
    "path_output_bioen = \"files/output_bioen\""
   ]
  },
  {
   "cell_type": "code",
   "execution_count": 10,
   "metadata": {},
   "outputs": [],
   "source": [
    "def run_bioen_script(slp):\n",
    "    spin_label_pair = '{}-{}'.format(slp[0][0], slp[1][0])\n",
    "    file_id = '{}-{}_{}-{}'.format(slp[0][0], slp[0][1], slp[1][0], slp[1][1])\n",
    "    ! bash run_bioen_ipynb_deer.sh $path_output_bioen $number_of_ensemble_members $spin_label_pair $file_id\n",
    "    return"
   ]
  },
  {
   "cell_type": "code",
   "execution_count": null,
   "metadata": {},
   "outputs": [
    {
     "name": "stdout",
     "output_type": "stream",
     "text": [
      "INFO:root:BioEn weight refinement starts with\r\n",
      "INFO:root:    optimization method: log-weights\r\n",
      "INFO:root:    optimization algorithm: bfgs\r\n",
      "INFO:root:    optimization minimizer: scipy\r\n"
     ]
    }
   ],
   "source": [
    "#%%capture c\n",
    "for slp in spin_label_pairs:\n",
    "    run_bioen_script(slp)"
   ]
  },
  {
   "cell_type": "markdown",
   "metadata": {},
   "source": [
    "# Analysis"
   ]
  },
  {
   "cell_type": "markdown",
   "metadata": {
    "collapsed": true
   },
   "source": [
    "## Settings and input parameters for analysis of BioEn outputs"
   ]
  },
  {
   "cell_type": "code",
   "execution_count": 13,
   "metadata": {},
   "outputs": [],
   "source": [
    "# output of BioEn is a pkl file (contains all the necessary information)\n",
    "bioen_pkl = \"test-5940-370-A_292-C.pkl\"\n",
    "df = pd.read_pickle(\"{}/{}\".format(path_output_bioen, bioen_pkl))\n",
    "bioen_data = df.to_dict()"
   ]
  },
  {
   "cell_type": "markdown",
   "metadata": {},
   "source": [
    "`bioen_data` contains all needed and useful information to analyse the BioEn calculations. <br>\n",
    "For each previously defined confidence value $\\theta$ (defined in the variable `theta_series`) a list of variables are available:\n",
    "\n",
    "**Experimental information**\n",
    "- **`exp`** <br> \n",
    "--> experimental DEER signals for each label <br>\n",
    "--> in case of DEER data, this variable contains time, DEER signal and polynomial fit of the DEER signal <br>\n",
    "--> time: `data['exp']['370-292'][:,0]` <br>\n",
    "--> DEER trace: `data['exp']['370-292'][:,1]` <br>\n",
    "--> polynomial fit of DEER trace: `data['exp']['370-292'][:,1]` <br>\n",
    "- **`exp_err`** <br>\n",
    "--> error/noise of each experimental data point defined in `exp`\n",
    "- **`labels`** <br> \n",
    "--> list of labels used in the refinement\n",
    "- **`nrestraints`** <br>\n",
    "--> number of data points ($M$)\n",
    "\n",
    "**Simulated data and parameters**\n",
    "- **`sim_init`** <br> \n",
    "--> initial ensemble averaged simulated DEER traces for each label (see above for exp)\n",
    "- **`sim_wopt`** <br>\n",
    "--> optimized ensemble averaged simulated DEER traces for each label and for a given confidence value $\\theta$\n",
    "- **`moddepth`** <br>\n",
    "--> modulation depth of the optimized ensemble averaged simulated DEER traces for each label \n",
    "- **`nmodels_list`** <br>\n",
    "--> list of model ids (extracted e.g. from models_370-292.dat)\n",
    "- **`nmodels`** <br>\n",
    "--> number of models ($N$), which is also the number of ensemble members (relevant in the BioEn context) <br>\n",
    "--> `nmodels` = `nrotamers` <br>\n",
    "--> number of rotamers, which is needed to backcalculate weights of rotamers of a spin-label position (relevant in the analysis contex) <br>\n",
    "\n",
    "**Free energy parameters**\n",
    "- **`theta`** <br>\n",
    "--> confidence parameter $\\theta$\n",
    "- **`chi2_init`** <br>\n",
    "--> deviation from the experimental data with the initial weight distribution <br>\n",
    "--> if you use `chi2_init` of the maximal value of $\\theta$, $\\chi^2$ is calculated with the prior weight distribution `w0`\n",
    "- **`chi2`** <br>\n",
    "--> optimal $\\chi^2$ calculated with optimal weight distribution `wopt`\n",
    "- **`S_init`** <br>\n",
    "--> initial relative entropy\n",
    "--> if you use `S_init` of the maximal value of $\\theta$, $S$ is equal to $0$\n",
    "- **`S`** <br>\n",
    "--> relative entropy of optimized weight distribution\n",
    "- **`w0`** <br>\n",
    "--> reference weight distribution\n",
    "- **`winit`** <br>\n",
    "--> initial weight distribution\n",
    "- **`wopt`** <br>\n",
    "--> optimal weight distribution <br>\n",
    "--> optimized for each $\\theta$\n",
    "\n",
    "**Misc**\n",
    "- **`len_sim`** <br>\n",
    "--> seconds it took for BioEn to optimize for a given value of $\\theta$\n",
    "- **`optimization_method`** <br>\n",
    "--> information about the optimization method: log-weights or forces\n",
    "- **`optimization_minimizer`** <br>\n",
    "--> information about the minimer: scipy, GSL, LBFGS\n",
    "- **`optimization_algorithm`** <br>\n",
    "--> information about the inimizer: <br>\n",
    "--> scipy: bfgs, lbfgs, cg <br>\n",
    "--> GSL: conjugate_fr, conjugate_pr, bfgs, bfgs, steepest_descent<br>\n",
    "--> LBFGS: lbfgs <br>\n",
    "\n",
    "\n",
    "Several default plots are provided in the following, so that the analysis is as intuitive as the preparation and running BioEn itself.\n"
   ]
  },
  {
   "cell_type": "code",
   "execution_count": 17,
   "metadata": {},
   "outputs": [],
   "source": [
    "# define path for the output of the analysis\n",
    "path_output_analysis = 'files/output_analysis'\n",
    "\n",
    "# load frames pkl file, which was generated in the preparation step (see above)\n",
    "# frames_dict is needed to get the weights of spin-label rotamers of a single labeled position\n",
    "frames_pkl = '{}/frames_370-A_292-C.pkl'.format(path_output_preparation)\n",
    "with open(frames_pkl, 'r') as file:\n",
    "    [frames_dict] = pickle.load(file)"
   ]
  },
  {
   "cell_type": "markdown",
   "metadata": {
    "collapsed": true
   },
   "source": [
    "### $\\chi^{2} vs. S_{\\mathrm{KL}}$\n",
    "\n",
    "the lower $\\theta$, the closer to experimental data"
   ]
  },
  {
   "cell_type": "code",
   "execution_count": 18,
   "metadata": {},
   "outputs": [],
   "source": [
    "def visualize_chi2_skl(bioen_data):\n",
    "    fs = 22\n",
    "    fig = plt.figure(figsize=[6,4])\n",
    "    ax = fig.add_subplot(111)\n",
    "    \n",
    "    for theta in theta_series:\n",
    "        chi2 = bioen_data[theta]['chi2'] / bioen_data[theta]['nrestraints']\n",
    "        skl = - bioen_data[theta]['S']\n",
    "        ax.scatter(skl, chi2, marker='^', s=160, label=theta)  \n",
    "    \n",
    "    ax.set_xticks(range(-1,6,1))   \n",
    "    ax.set_xticklabels(range(-1,6,1), fontsize=fs)\n",
    "    ax.set_xlim(-0.4,5.5)\n",
    "    ax.set_xlabel(r'$S_{\\mathrm{KL}}$', fontsize=fs)\n",
    "\n",
    "    ax.set_yticks(np.arange(0,10,1))   \n",
    "    ax.set_yticklabels(np.arange(0,10,1), fontsize=fs)\n",
    "    ax.set_ylim(-0.2, 4)\n",
    "    ax.set_ylabel(r'$\\chi^{2}$', fontsize=fs)    \n",
    "    \n",
    "    plt.grid()\n",
    "    \n",
    "    ax.legend(ncol=2, fontsize=10)\n",
    "    \n",
    "    plt.tight_layout()\n",
    "    plt.savefig(\"{}/bioen_chi2_skl_370-A_292-C.png\".format(path_output_analysis), dpi=400)\n",
    "    plt.show()\n",
    "    return"
   ]
  },
  {
   "cell_type": "code",
   "execution_count": 19,
   "metadata": {},
   "outputs": [
    {
     "data": {
      "image/png": "[encoded data removed]",
      "text/plain": [
       "<matplotlib.figure.Figure at 0x7fa619684510>"
      ]
     },
     "metadata": {},
     "output_type": "display_data"
    }
   ],
   "source": [
    "visualize_chi2_skl(bioen_data)"
   ]
  },
  {
   "cell_type": "markdown",
   "metadata": {},
   "source": [
    "## Comparison experimental and weighted ensemble averaged DEER traces"
   ]
  },
  {
   "cell_type": "code",
   "execution_count": 20,
   "metadata": {},
   "outputs": [],
   "source": [
    "def visualize_deer_traces(theta, bioen_data):\n",
    "    fs = 22\n",
    "    fig = plt.figure(figsize=[6,4])\n",
    "    ax = fig.add_subplot(111)\n",
    "    \n",
    "    theta_max = np.max(bioen_data.keys())\n",
    "    \n",
    "    label = bioen_data[theta]['exp']['deer'].keys()[0]\n",
    "    exp = bioen_data[theta]['exp']['deer'][label]\n",
    "    exp_err = bioen_data[theta]['exp_err']['deer'][label]\n",
    "    \n",
    "    sim_init = bioen_data[theta_max]['sim_init']['deer'][label]\n",
    "    sim = bioen_data[theta]['sim_wopt']['deer'][label]\n",
    "    \n",
    "    ax.plot(exp[:,0], exp[:,1], color='black', linewidth=2.5, label='Exp.',zorder=2)\n",
    "    ax.fill_between(exp[:,0], exp[:,2]-exp_err, exp[:,2]+exp_err, color='black', alpha=0.2, label='Error', linewidth=1.0, zorder=1)\n",
    "    ax.plot(exp[:,0], sim_init, color='green', linewidth=3.0, label=r\"X-ray\",zorder=0)\n",
    "    ax.plot(exp[:,0], sim, color='red', linewidth=3.0, label=r\"BioEn\".format(theta),zorder=3)\n",
    "    \n",
    "    ax.set_xticks(np.arange(0,4.0,1.0))\n",
    "    ax.set_xticklabels(np.arange(0,4.0,1.0), fontsize=fs)\n",
    "    ax.set_xlim(0,3.5)\n",
    "    ax.set_xlabel(r't [$\\mu$s]', fontsize=fs+2)\n",
    "\n",
    "    ax.set_yticks(np.arange(-0.6,1.4,0.2))\n",
    "    ax.set_yticklabels(np.arange(-0.6,1.4,0.2), fontsize=fs)\n",
    "    ax.set_ylim(0.35,1.0)\n",
    "    ax.set_ylabel(r'F(t)', fontsize=fs)\n",
    "\n",
    "    ax.legend(loc=1, ncol=2, fontsize=10)\n",
    "    \n",
    "    plt.grid()\n",
    "    \n",
    "    plt.tight_layout()\n",
    "    plt.savefig(\"{}/bioen_deer_370-A_292-C.png\".format(path_output_analysis), dpi=400)\n",
    "    plt.show()\n",
    "    return"
   ]
  },
  {
   "cell_type": "code",
   "execution_count": 21,
   "metadata": {},
   "outputs": [
    {
     "data": {
      "image/png": "[encoded data removed]",
      "text/plain": [
       "<matplotlib.figure.Figure at 0x7fa6194bc190>"
      ]
     },
     "metadata": {},
     "output_type": "display_data"
    }
   ],
   "source": [
    "theta = 1.0\n",
    "visualize_deer_traces(theta, bioen_data)"
   ]
  },
  {
   "cell_type": "code",
   "execution_count": 22,
   "metadata": {},
   "outputs": [],
   "source": [
    "def visualize_deer_traces_all_thetas(bioen_data):\n",
    "    fs = 22\n",
    "    fig = plt.figure(figsize=[6,4])\n",
    "    ax = fig.add_subplot(111)\n",
    "    \n",
    "    theta_max = np.max(bioen_data.keys())\n",
    "    \n",
    "    label = bioen_data[theta_max]['exp']['deer'].keys()[0]\n",
    "    exp = bioen_data[theta_max]['exp']['deer'][label]\n",
    "    ax.plot(exp[:,0], exp[:,1], color='black', linewidth=2.5, label='Exp.',zorder=2)\n",
    "    \n",
    "    a = np.linspace(0.1, 0.7, num=len(theta_series))\n",
    "    for i, theta in enumerate(theta_series):\n",
    "        sim = bioen_data[theta]['sim_wopt']['deer'][label]\n",
    "        ax.plot(exp[:,0], sim, color='red', alpha=a[i], linewidth=3.0, label=r\"BioEn ($\\theta={}$)\".format(theta), zorder=3)\n",
    "    \n",
    "    ax.set_xticks(np.arange(0,4.0,1.0))\n",
    "    ax.set_xticklabels(np.arange(0,4.0,1.0), fontsize=fs)\n",
    "    ax.set_xlim(0,3.5)\n",
    "    ax.set_xlabel(r't [$\\mu$s]', fontsize=fs+2)\n",
    "\n",
    "    ax.set_yticks(np.arange(-0.6,1.4,0.2))\n",
    "    ax.set_yticklabels(np.arange(-0.6,1.4,0.2), fontsize=fs)\n",
    "    ax.set_ylim(0.35,1.0)\n",
    "    ax.set_ylabel(r'F(t)', fontsize=fs)\n",
    "\n",
    "    ax.legend(loc=1, ncol=2, fontsize=10)\n",
    "    \n",
    "    plt.grid()\n",
    "    \n",
    "    plt.tight_layout()\n",
    "    plt.savefig(\"{}/bioen_theta_series_370-A_292-C.png\".format(path_output_analysis), dpi=400)\n",
    "    plt.show()\n",
    "    return"
   ]
  },
  {
   "cell_type": "code",
   "execution_count": 23,
   "metadata": {},
   "outputs": [
    {
     "data": {
      "image/png": "[encoded data removed]",
      "text/plain": [
       "<matplotlib.figure.Figure at 0x7fa61964d1d0>"
      ]
     },
     "metadata": {},
     "output_type": "display_data"
    }
   ],
   "source": [
    "visualize_deer_traces_all_thetas(bioen_data)"
   ]
  },
  {
   "cell_type": "markdown",
   "metadata": {},
   "source": [
    "## Cummulative weight"
   ]
  },
  {
   "cell_type": "code",
   "execution_count": 24,
   "metadata": {},
   "outputs": [],
   "source": [
    "def visualize_cum_dist(theta, bioen_data):\n",
    "    fs = 22\n",
    "    fig = plt.figure(figsize=[6,4])\n",
    "    ax = fig.add_subplot(111)\n",
    "    \n",
    "    nmodels = bioen_data[theta][\"nmodels\"]\n",
    "    a = np.vstack((bioen_data[theta][\"nmodels_list\"], np.array(bioen_data[theta][\"wopt\"]).reshape(1,-1)))\n",
    "    \n",
    "    models = []\n",
    "    for i, id in enumerate(np.argsort(a[1,:])[::-1]):\n",
    "        if i == 0: models.append([a[:,id][0], float(a[:,id][1]), float(a[:,id][1])])\n",
    "        else: models.append([a[:,id][0], float(a[:,id][1]), models[-1][2]+float(a[:,id][1])])\n",
    "\n",
    "    models = np.array(models)\n",
    "    ax.scatter(range(1,nmodels+1), models[:,2], s=20, color='green', zorder=2)\n",
    "    ax.plot(range(1,nmodels+1), models[:,2], color='black', zorder=1)\n",
    "\n",
    "    ax.set_xticks([0.0, 10.0, 100.0, 1000.0, 10000.0])\n",
    "    ax.set_xticklabels([r'$10^{0}$', r'$10^{1}$', r'$10^{2}$', r'$10^{3}$', r'$10^{4}$'], fontsize=fs)\n",
    "    ax.set_xlabel(\"Fraction of configurations\", fontsize=fs)\n",
    "    ax.semilogx()\n",
    "    ax.set_yticklabels(np.arange(0,1.2,0.2), fontsize=fs)\n",
    "    ax.set_ylim(0,1)\n",
    "    ax.set_ylabel(\"Cumulative distribution\", fontsize=fs)\n",
    "    \n",
    "    ax.grid()\n",
    "    \n",
    "    plt.savefig('{}/bioen_cum_weights.png'.format(path_output_analysis), dpi=600, bbox_inches='tight')\n",
    "    return"
   ]
  },
  {
   "cell_type": "code",
   "execution_count": 25,
   "metadata": {},
   "outputs": [
    {
     "data": {
      "image/png": "[encoded data removed]",
      "text/plain": [
       "<matplotlib.figure.Figure at 0x7fa619b81f50>"
      ]
     },
     "metadata": {},
     "output_type": "display_data"
    }
   ],
   "source": [
    "theta = 10.0\n",
    "visualize_cum_dist(theta, bioen_data)"
   ]
  },
  {
   "cell_type": "markdown",
   "metadata": {},
   "source": [
    "## Distance distribution"
   ]
  },
  {
   "cell_type": "markdown",
   "metadata": {},
   "source": [
    "### Obtain distances based on the weights from the BioEn calculation and frames*pkl"
   ]
  },
  {
   "cell_type": "code",
   "execution_count": 26,
   "metadata": {},
   "outputs": [],
   "source": [
    "def get_distances(bioen_data, theta):\n",
    "    nmodels = bioen_data[theta][\"nmodels\"]\n",
    "    weights = np.array(bioen_data[theta][\"wopt\"])\n",
    "    nmodels_weights = (np.vstack((bioen_data[theta][\"nmodels_list\"], \n",
    "                       np.array(bioen_data[theta][\"wopt\"]).reshape(1,-1)))).T\n",
    "    weights_distances = []\n",
    "    for model in nmodels_weights:\n",
    "        weights_distances.append([frames_dict[model[0]]['dist'], model[1]])\n",
    "    return np.array(weights_distances)"
   ]
  },
  {
   "cell_type": "code",
   "execution_count": 27,
   "metadata": {},
   "outputs": [],
   "source": [
    "# define the most reliable confidence value\n",
    "theta = 1000.0\n",
    "\n",
    "weights_distances_all = dict()\n",
    "for spin_label_pair in spin_label_pairs:\n",
    "    lp_name = '{}-{}'.format(spin_label_pair[0], spin_label_pair[1])\n",
    "    weights_distances_all[lp_name] = get_distances(bioen_data, theta)"
   ]
  },
  {
   "cell_type": "markdown",
   "metadata": {},
   "source": [
    "### Visulize distances with prior and optimized weights"
   ]
  },
  {
   "cell_type": "code",
   "execution_count": 28,
   "metadata": {},
   "outputs": [],
   "source": [
    "def visualize_dist_distr(weights_distances):\n",
    "    fs = 22\n",
    "    fig = plt.figure(figsize=[6,4])\n",
    "    ax = fig.add_subplot(111)\n",
    "    \n",
    "    distances = weights_distances[:,0]\n",
    "    weights = weights_distances[:,1]\n",
    "    \n",
    "    ax.axes.hist(distances, bins=100, color='green', label=\"X-ray (w0)\", alpha=0.2, zorder=2, normed=True)\n",
    "    ax.axes.hist(distances, bins=100, color='green', alpha=0.8, zorder=2, normed=True, histtype='step')\n",
    "    ax.axes.hist(distances, weights=weights, bins=100, color='red', label=r\"Shift (wopt, $\\theta=10^3$)\", alpha=0.2, normed=True,)\n",
    "    ax.axes.hist(distances, weights=weights, bins=100, color='red', alpha=0.8, normed=True, histtype='step')\n",
    "    \n",
    "    ax.set_xticks(range(0,80,10))\n",
    "    ax.set_xticklabels(range(0,80,10), fontsize=fs)\n",
    "    ax.set_xlim(15, 60)\n",
    "    ax.set_xlabel(r'r [nm]', fontsize=fs)\n",
    "\n",
    "    ax.set_yticklabels([], fontsize=fs)\n",
    "    ax.set_ylabel(r'P(r)', fontsize=fs)    \n",
    "    \n",
    "    plt.grid(zorder=3)\n",
    "    \n",
    "    plt.savefig('{}/bioen_dist_distr_370-A_292-C.png'.format(path_output_analysis), dpi=600, bbox_inches='tight')\n",
    "    \n",
    "    return"
   ]
  },
  {
   "cell_type": "code",
   "execution_count": 29,
   "metadata": {},
   "outputs": [
    {
     "data": {
      "image/png": "[encoded data removed]",
      "text/plain": [
       "<matplotlib.figure.Figure at 0x7fa6194a6590>"
      ]
     },
     "metadata": {},
     "output_type": "display_data"
    }
   ],
   "source": [
    "for spin_label_pair in spin_label_pairs:\n",
    "    lp_name = '{}-{}'.format(spin_label_pair[0], spin_label_pair[1])\n",
    "    visualize_dist_distr(weights_distances_all[lp_name])"
   ]
  },
  {
   "cell_type": "markdown",
   "metadata": {},
   "source": [
    "## Rotamer distribution of spin-label positions"
   ]
  },
  {
   "cell_type": "markdown",
   "metadata": {
    "collapsed": true
   },
   "source": [
    "### Calculate rotamer distribution"
   ]
  },
  {
   "cell_type": "code",
   "execution_count": 39,
   "metadata": {},
   "outputs": [],
   "source": [
    "rotamer_weights_all = dict()\n",
    "for slp in spin_label_pairs:\n",
    "    slp_id = '{}-{}-{}-{}'.format(slp[0][0], slp[0][1], slp[1][0], slp[1][1])\n",
    "    rotamer_weights = dict()\n",
    "    for label in slp[0:2]:\n",
    "        label_id = '{}-{}'.format(label[0], label[1])\n",
    "        rotamer_weights[label_id] = br.get_weighted_rotamer_states(frames_dict, bioen_data, label[0], theta=1000.0)\n",
    "    rotamer_weights_all[slp_id] = rotamer_weights"
   ]
  },
  {
   "cell_type": "markdown",
   "metadata": {},
   "source": [
    "### Write pdbs \n",
    "- with the rotamer states (position of the unpaired electron between the nitroxidide N and O)\n",
    "- the cummulative weight of that rotamer states as the B-factor"
   ]
  },
  {
   "cell_type": "code",
   "execution_count": 44,
   "metadata": {},
   "outputs": [],
   "source": [
    "def write_rotamer_pdb(slp_id, label_id):\n",
    "    rotamer_positions = rotamer_labels[label_id][\"positions\"]\n",
    "    rotamer_pdb = \"{}/weighted_rotamers_{}_{}.pdb\".format(path_output_analysis, slp_id, label_id)\n",
    "    pdb = open(rotamer_pdb, 'w')\n",
    "\n",
    "    w_check = []\n",
    "    for frame, weights in rotamer_weights_all[slp_id][label_id].iteritems():\n",
    "        w_check.append(np.sum(weights))\n",
    "        x = rotamer_positions[frame][0][0]\n",
    "        y = rotamer_positions[frame][0][1]\n",
    "        z = rotamer_positions[frame][0][2]\n",
    "        line =  \"ATOM   {:4d}  O   ALA A{:4d}    {:8.3f}{:8.3f}{:8.3f}     {:6.8f}     \\n\".format(int(frame), \n",
    "                                                                                                  int(frame), \n",
    "                                                                                                  x, y, z, \n",
    "                                                                                                  np.sum(weights))\n",
    "        pdb.write(line)\n",
    "    pdb.close()\n",
    "    \n",
    "    print 'Find the pdb in \\\"{}\\\".'.format(path_output_analysis)\n",
    "    return"
   ]
  },
  {
   "cell_type": "code",
   "execution_count": 45,
   "metadata": {},
   "outputs": [
    {
     "name": "stdout",
     "output_type": "stream",
     "text": [
      "Find the pdb in \"files/output_analysis\".\n",
      "Find the pdb in \"files/output_analysis\".\n"
     ]
    }
   ],
   "source": [
    "for slp in spin_label_pairs:\n",
    "    slp_id = '{}-{}-{}-{}'.format(slp[0][0], slp[0][1], slp[1][0], slp[1][1])\n",
    "    for label in slp[0:2]:\n",
    "        label_id = '{}-{}'.format(label[0], label[1])\n",
    "        write_rotamer_pdb(slp_id, label_id)"
   ]
  }
 ],
 "metadata": {
  "anaconda-cloud": {},
  "kernelspec": {
   "display_name": "Python 2",
   "language": "python",
   "name": "python2"
  },
  "language_info": {
   "codemirror_mode": {
    "name": "ipython",
    "version": 2
   },
   "file_extension": ".py",
   "mimetype": "text/x-python",
   "name": "python",
   "nbconvert_exporter": "python",
   "pygments_lexer": "ipython2",
   "version": "2.7.14"
  },
  "toc": {
   "colors": {
    "hover_highlight": "#DAA520",
    "navigate_num": "#000000",
    "navigate_text": "#333333",
    "running_highlight": "#FF0000",
    "selected_highlight": "#FFD700",
    "sidebar_border": "#EEEEEE",
    "wrapper_background": "#FFFFFF"
   },
   "moveMenuLeft": true,
   "nav_menu": {
    "height": "68px",
    "width": "252px"
   },
   "navigate_menu": true,
   "number_sections": true,
   "sideBar": true,
   "threshold": 4,
   "toc_cell": false,
   "toc_section_display": "block",
   "toc_window_display": false,
   "widenNotebook": false
  }
 },
 "nbformat": 4,
 "nbformat_minor": 1
}
