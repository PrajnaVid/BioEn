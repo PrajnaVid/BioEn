{
 "cells": [
  {
   "cell_type": "markdown",
   "metadata": {
    "toc": true
   },
   "source": [
    "<h1>Table of Contents<span class=\"tocSkip\"></span></h1>\n",
    "<div class=\"toc\"><ul class=\"toc-item\"><li><span><a href=\"#Calculate-DEER-traces-analytically-and-numerically\" data-toc-modified-id=\"Calculate-DEER-traces-analytically-and-numerically-1\"><span class=\"toc-item-num\">1&nbsp;&nbsp;</span>Calculate DEER traces analytically and numerically</a></span></li><li><span><a href=\"#Numerical-calculation\" data-toc-modified-id=\"Numerical-calculation-2\"><span class=\"toc-item-num\">2&nbsp;&nbsp;</span>Numerical calculation</a></span></li><li><span><a href=\"#Comparison\" data-toc-modified-id=\"Comparison-3\"><span class=\"toc-item-num\">3&nbsp;&nbsp;</span>Comparison</a></span></li></ul></div>"
   ]
  },
  {
   "cell_type": "code",
   "execution_count": null,
   "metadata": {},
   "outputs": [],
   "source": [
    "import bioen_rotamer as br\n",
    "import numpy as np\n",
    "import matplotlib.pyplot as plt\n",
    "\n",
    "%matplotlib inline"
   ]
  },
  {
   "cell_type": "markdown",
   "metadata": {},
   "source": [
    "## Calculate DEER traces analytically and numerically\n",
    "\n",
    "In the following we test the analytical calculation of DEER traces via Fresnel integrals by comparison to numerical calculation."
   ]
  },
  {
   "cell_type": "markdown",
   "metadata": {},
   "source": [
    "## Numerical calculation"
   ]
  },
  {
   "cell_type": "code",
   "execution_count": null,
   "metadata": {},
   "outputs": [],
   "source": [
    "def distances2signal(distances, exp_ts, step=0.01):\n",
    "    \"\"\"\n",
    "    Numerically calculate DEER time traces\n",
    "    \n",
    "    Parameters\n",
    "    ----------\n",
    "    d: array \n",
    "       Spin-spin distances [A] for N structures\n",
    "    t: array\n",
    "       Time points [ns], M time points to be calculated\n",
    "    step: float\n",
    "       Integration step\n",
    "    \n",
    "    Returns\n",
    "    -------\n",
    "    vt: array\n",
    "        DEER/PELDOR time trace  \n",
    "    \"\"\"\n",
    "        \n",
    "    dTip = 52.04  # 10^6 s^-1 nm^3                                                                                      \n",
    "    xs   = np.arange(0.0, 1.0+step, step=step)\n",
    "    sim_signal = []\n",
    "    for ts in exp_ts:\n",
    "        signal = []\n",
    "        for r in distances:\n",
    "            y = []\n",
    "            for x in xs:\n",
    "                # c.f. https://www.ncbi.nlm.nih.gov/pmc/articles/PMC3111319/\n",
    "                dip  = np.cos( 2 * np.pi * (1 - 3 * x**2) * dTip * ts / r **3)\n",
    "                y.append(dip)\n",
    "            signal.append(np.mean(y))\n",
    "        sim_signal.append([ts, np.mean(signal)])\n",
    "    return  np.array(sim_signal)"
   ]
  },
  {
   "cell_type": "markdown",
   "metadata": {},
   "source": [
    "## Comparison"
   ]
  },
  {
   "cell_type": "code",
   "execution_count": null,
   "metadata": {},
   "outputs": [],
   "source": [
    "dist_ar = np.array([[4.0]])\n",
    "\n",
    "t_pts = np.arange(0,2000)"
   ]
  },
  {
   "cell_type": "code",
   "execution_count": null,
   "metadata": {},
   "outputs": [],
   "source": [
    "# Note that the function wants distances in Angstrom \n",
    "%time v_num = distances2signal(dist_ar*10., t_pts, step=0.001)"
   ]
  },
  {
   "cell_type": "code",
   "execution_count": null,
   "metadata": {},
   "outputs": [],
   "source": [
    "# Distances in nm\n",
    "%time v_analytical = br.deer_ft(dist_ar, t_pts)"
   ]
  },
  {
   "cell_type": "code",
   "execution_count": null,
   "metadata": {},
   "outputs": [],
   "source": [
    "v_analytical"
   ]
  },
  {
   "cell_type": "code",
   "execution_count": null,
   "metadata": {},
   "outputs": [],
   "source": [
    "fig, ax = plt.subplots(figsize=(12,3))\n",
    "plt.plot(t_pts/ 1000., v_num[:,1], label=\"numerical\")\n",
    "plt.plot(t_pts/ 1000., v_analytical.T, \"--\",\n",
    "         label=\"analytical\")\n",
    "ax.set_xlabel(\"Time [$\\mu s$]\", fontsize=13)\n",
    "ax.set_ylabel(r\"Intensity\", fontsize=13)\n",
    "ax.legend(fontsize=13)"
   ]
  },
  {
   "cell_type": "code",
   "execution_count": null,
   "metadata": {},
   "outputs": [],
   "source": []
  },
  {
   "cell_type": "code",
   "execution_count": null,
   "metadata": {},
   "outputs": [],
   "source": []
  }
 ],
 "metadata": {
  "kernelspec": {
   "display_name": "Python 2",
   "language": "python",
   "name": "python2"
  },
  "language_info": {
   "codemirror_mode": {
    "name": "ipython",
    "version": 2
   },
   "file_extension": ".py",
   "mimetype": "text/x-python",
   "name": "python",
   "nbconvert_exporter": "python",
   "pygments_lexer": "ipython2",
   "version": "2.7.15"
  },
  "latex_envs": {
   "LaTeX_envs_menu_present": true,
   "autoclose": false,
   "autocomplete": true,
   "bibliofile": "biblio.bib",
   "cite_by": "apalike",
   "current_citInitial": 1,
   "eqLabelWithNumbers": true,
   "eqNumInitial": 1,
   "hotkeys": {
    "equation": "Ctrl-E",
    "itemize": "Ctrl-I"
   },
   "labels_anchors": false,
   "latex_user_defs": false,
   "report_style_numbering": true,
   "user_envs_cfg": false
  },
  "toc": {
   "nav_menu": {},
   "number_sections": true,
   "sideBar": true,
   "skip_h1_title": false,
   "title_cell": "Table of Contents",
   "title_sidebar": "Contents",
   "toc_cell": true,
   "toc_position": {},
   "toc_section_display": true,
   "toc_window_display": true
  }
 },
 "nbformat": 4,
 "nbformat_minor": 2
}
