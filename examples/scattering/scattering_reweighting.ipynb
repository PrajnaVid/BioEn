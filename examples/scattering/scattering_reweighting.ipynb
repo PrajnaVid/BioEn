{
 "cells": [
  {
   "cell_type": "markdown",
   "metadata": {},
   "source": [
    "# Enemble Refinement with SAXS data using BioEn\n",
    "\n",
    "By applying this ipython notebook, you can perform ensemble refinement with SAXS data using BioEn. The steps of the ipython notebook are <br>\n",
    "\n",
    "1. Preparation of the input <br> \n",
    "2. BioEn <br> \n",
    "3. Analysis of the BioEn results<br> \n",
    "\n",
    "You can either use the provided test data or define your own protein of interest, use your own rotamer library, and define labeled position of interest. The part, which can be individualized by the user, is highlighted in green. \n",
    "\n",
    "\n",
    "### Theory and methods applied in this ipython notebook are available in:\n",
    "G. Hummer, J. Köfinger, “Bayesian ensemble refinement by replica simulations and reweighting,” J. Chem. Phys. 143, 243150 (2015). \n"
   ]
  },
  {
   "cell_type": "code",
   "execution_count": 1,
   "metadata": {},
   "outputs": [
    {
     "name": "stderr",
     "output_type": "stream",
     "text": [
      "/home/tb/lustelzl/anaconda2/lib/python2.7/site-packages/h5py/__init__.py:34: FutureWarning: Conversion of the second argument of issubdtype from `float` to `np.floating` is deprecated. In future, it will be treated as `np.float64 == np.dtype(float).type`.\n",
      "  from ._conv import register_converters as _register_converters\n"
     ]
    }
   ],
   "source": [
    "import numpy as np\n",
    "from scipy.interpolate import interp1d\n",
    "import pickle\n",
    "import pandas as pd\n",
    "import os, h5py, sys, math\n",
    "\n",
    "import matplotlib as m\n",
    "import matplotlib.pyplot as plt\n",
    "import matplotlib.mlab as mlab\n",
    "import matplotlib.ticker as ticker\n",
    "\n",
    "import bioen_scattering as bs\n",
    "\n",
    "%matplotlib inline"
   ]
  },
  {
   "cell_type": "markdown",
   "metadata": {},
   "source": [
    "# 1. Preparation"
   ]
  },
  {
   "cell_type": "markdown",
   "metadata": {},
   "source": [
    "In this part of the ipython notebook, we prepare our input for BioEn. The standard output from an scattering experiment is: <br>\n",
    "    \n",
    "    #   q                 I(q)        error/noise                                                         \n",
    "    4.138455E-02        5.904029    1.555333E-01\n",
    "    4.371607E-02        5.652469    1.527037E-01 \n",
    "    4.604759E-02        5.533381    1.521723E-01\n",
    "    4.837912E-02        5.547052    1.474577E-01\n",
    "    5.071064E-02        5.296281    1.436712E-01\n",
    "    \n",
    "For a single modeled structure, the most likely simulated SAXS output is: <br>\n",
    "\n",
    "\t#  q               I(q)\n",
    "\t4.138454e-02 \t2.906550e+06\n",
    "\t4.371607e-02 \t2.865970e+06\n",
    "\t4.604758e-02 \t2.823741e+06\n",
    "\t4.837911e-02 \t2.779957e+06\n",
    "\t5.071064e-02 \t2.734716e+06\n",
    "\n",
    "Since these formats are not always available, this ipython notebook edits the simulated data, so that ensemble refinement can easily be performed. Therefore, we consider two possible cases. First, the experimental and simulated data has already the correct format, but the number of data points deviate. However, for the comparison of the experimental and simulated SAXS data, we need the same number of data points in both cases (which might differ using different SAXS data prediction tools). To handle this case of reformating, we interpolate the simulated data for the number of models provided by the user and save the reformated simulated data in a pkl file, which is subsequently the input for BioEn. In the second case, we use HDF5 file format as input. This is a convienent file format, while working with a large number of structures. Here, we convert it to a pkl file, as the input for BioEn."
   ]
  },
  {
   "cell_type": "markdown",
   "metadata": {},
   "source": [
    "### Reformating SAXS data"
   ]
  },
  {
   "cell_type": "code",
   "execution_count": 2,
   "metadata": {},
   "outputs": [],
   "source": [
    "# define path of the output of the preparation\n",
    "path_output_preparation = \"files/output_preparation\"\n",
    "! mkdir -p $path_output_preparation\n",
    "\n",
    "# path to experimental data and file name\n",
    "path_exp = \"files/experimental_data\"\n",
    "fn_exp = \"{}/exp-saxs.dat\".format(path_exp)\n",
    "\n",
    "# path to simulated data\n",
    "path_sim = \"files/simulated_data\"\n",
    "\n",
    "# ids of the models\n",
    "# here: simple range from 0 to 9 \n",
    "model_ids = range(0,100)"
   ]
  },
  {
   "cell_type": "code",
   "execution_count": 3,
   "metadata": {},
   "outputs": [],
   "source": [
    "# get experimental data\n",
    "exp_1 = np.genfromtxt(fn_exp, comments='#')\n",
    "exp_tmp = exp_1[:,0:2]\n",
    "\n",
    "# estimating standard error of the mean \n",
    "error = exp_1.copy()\n",
    "error[:,1] /= error[:,0]\n",
    "error[:,1] = np.sqrt(error[:,1]) \n",
    "exp_err_tmp = exp_1[:,0]"
   ]
  },
  {
   "cell_type": "code",
   "execution_count": 4,
   "metadata": {},
   "outputs": [],
   "source": [
    "# get number of restraints (M)\n",
    "nrestraints = len(exp_tmp)"
   ]
  },
  {
   "cell_type": "code",
   "execution_count": 5,
   "metadata": {},
   "outputs": [],
   "source": [
    "# get simulated data and interpolate (experimental and simulated data have the same number of data points)\n",
    "sim_tmp = dict()\n",
    "for nmodel in model_ids:\n",
    "    fn_sim = \"{}/sim-tau{}-test.dat\".format(path_sim, nmodel)\n",
    "    sim_single = np.genfromtxt(fn_sim, comments='#')\n",
    "    sim_tmp[nmodel] = bs.adapt_q(sim_single, exp_1)[:,1]"
   ]
  },
  {
   "cell_type": "code",
   "execution_count": 6,
   "metadata": {},
   "outputs": [],
   "source": [
    "# let BioEn perform an initial optimization of the coefficient\n",
    "coeff = 'initial-optimization'"
   ]
  },
  {
   "cell_type": "code",
   "execution_count": 7,
   "metadata": {},
   "outputs": [],
   "source": [
    "# write pkl file as input for BioEn\n",
    "fn_out_pkl = '{}/input-bioen-scattering.pkl'.format(path_output_preparation)\n",
    "pickle.dump([coeff, nrestraints, exp_tmp, exp_err_tmp, sim_tmp], open(fn_out_pkl, 'wb'))"
   ]
  },
  {
   "cell_type": "markdown",
   "metadata": {},
   "source": [
    "### Working with HD5F file formats (output from Capriqorn [Köfinger2013])"
   ]
  },
  {
   "cell_type": "code",
   "execution_count": null,
   "metadata": {},
   "outputs": [],
   "source": []
  },
  {
   "cell_type": "code",
   "execution_count": null,
   "metadata": {},
   "outputs": [],
   "source": []
  },
  {
   "cell_type": "code",
   "execution_count": null,
   "metadata": {},
   "outputs": [],
   "source": []
  },
  {
   "cell_type": "code",
   "execution_count": null,
   "metadata": {},
   "outputs": [],
   "source": []
  },
  {
   "cell_type": "code",
   "execution_count": null,
   "metadata": {},
   "outputs": [],
   "source": []
  },
  {
   "cell_type": "markdown",
   "metadata": {},
   "source": [
    "# BioEn"
   ]
  },
  {
   "cell_type": "markdown",
   "metadata": {
    "collapsed": true
   },
   "source": [
    "## Settings and input parameters for BioEn"
   ]
  },
  {
   "cell_type": "code",
   "execution_count": 8,
   "metadata": {},
   "outputs": [],
   "source": [
    "# define theta series, bioen performs for each theta reweighting\n",
    "theta_series = [10e5, 10e4, 10e3, 10e2, 10e1, 10e0, 10e-1, 0]\n",
    "np.savetxt('theta.dat', np.array(theta_series))\n",
    "\n",
    "# number of ensemble members\n",
    "number_of_ensemble_members = len(model_ids)\n",
    "np.savetxt('{}/models_scattering.dat'.format(path_output_preparation), model_ids)\n",
    "\n",
    "# define path for the output of BioEn\n",
    "path_output_bioen = \"files/output_bioen\"\n",
    "! mkdir -p $path_output_bioen"
   ]
  },
  {
   "cell_type": "code",
   "execution_count": 9,
   "metadata": {},
   "outputs": [
    {
     "name": "stdout",
     "output_type": "stream",
     "text": [
      "INFO:root:BioEn weight refinement starts with\n",
      "INFO:root:    optimization method: log-weights\n",
      "INFO:root:    optimization algorithm: bfgs\n",
      "INFO:root:    optimization minimizer: scipy\n",
      "/home/tb/lustelzl/.local/lib/python2.7/site-packages/numpy/core/_methods.py:26: RuntimeWarning: invalid value encountered in reduce\n",
      "  return umr_maximum(a, axis, None, out, keepdims)\n",
      "/home/tb/lustelzl/.local/lib/python2.7/site-packages/bioen-0.1.0-py2.7-linux-x86_64.egg/bioen/optimize/log_weights.py:73: RuntimeWarning: overflow encountered in exp\n",
      "  tmp = np.exp(g)\n",
      "/home/tb/lustelzl/.local/lib/python2.7/site-packages/bioen-0.1.0-py2.7-linux-x86_64.egg/bioen/optimize/log_weights.py:75: RuntimeWarning: invalid value encountered in divide\n",
      "  w = (np.matrix(tmp / s))\n",
      "/home/tb/lustelzl/.local/lib/python2.7/site-packages/bioen-0.1.0-py2.7-linux-x86_64.egg/bioen/analyze/utils.py:83: RuntimeWarning: divide by zero encountered in log\n",
      "  return - np.sum(weights.T * np.log(weights / w0))\n",
      "INFO:root:BioEn finished weight refinement in 14.59 s.\n"
     ]
    }
   ],
   "source": [
    "\n",
    "! bash run_bioen_ipynb_scattering.sh $number_of_ensemble_members "
   ]
  },
  {
   "cell_type": "code",
   "execution_count": null,
   "metadata": {},
   "outputs": [],
   "source": []
  },
  {
   "cell_type": "code",
   "execution_count": null,
   "metadata": {},
   "outputs": [],
   "source": []
  },
  {
   "cell_type": "markdown",
   "metadata": {},
   "source": [
    "# Analysis"
   ]
  },
  {
   "cell_type": "markdown",
   "metadata": {
    "collapsed": true
   },
   "source": [
    "## Settings and input parameters for analysis of BioEn outputs"
   ]
  },
  {
   "cell_type": "code",
   "execution_count": 10,
   "metadata": {},
   "outputs": [],
   "source": [
    "# output of BioEn is a pkl file (contains all the necessary information)\n",
    "bioen_pkl = \"test-{}-scattering.pkl\".format(number_of_ensemble_members)\n",
    "df = pd.read_pickle(\"{}/{}\".format(path_output_bioen, bioen_pkl))\n",
    "bioen_data = df.to_dict()"
   ]
  },
  {
   "cell_type": "markdown",
   "metadata": {},
   "source": [
    "`bioen_data` contains all needed and useful information to analyse the BioEn calculations. <br>\n",
    "For each previously defined confidence value $\\theta$ (defined in the variable `theta_series`) a list of variables are available:\n",
    "\n",
    "**Experimental information**\n",
    "- **`exp`** <br> \n",
    "--> experimental DEER signals for each label <br>\n",
    "--> in case of DEER data, this variable contains time, DEER signal and polynomial fit of the DEER signal <br>\n",
    "--> time: `data['exp']['370-292'][:,0]` <br>\n",
    "--> DEER trace: `data['exp']['370-292'][:,1]` <br>\n",
    "--> polynomial fit of DEER trace: `data['exp']['370-292'][:,1]` <br>\n",
    "- **`exp_err`** <br>\n",
    "--> error/noise of each experimental data point defined in `exp`\n",
    "- **`nrestraints`** <br>\n",
    "--> number of data points ($M$)\n",
    "\n",
    "**Simulated data and parameters**\n",
    "- **`sim_init`** <br> \n",
    "--> initial ensemble averaged simulated DEER traces for each label (see above for exp)\n",
    "- **`sim_wopt`** <br>\n",
    "--> optimized ensemble averaged simulated DEER traces for each label and for a given confidence value $\\theta$\n",
    "- **`coefficient`** <br>\n",
    "--> coefficient of the optimized ensemble averaged simulated SAXS data \n",
    "- **`nmodels_list`** <br>\n",
    "--> list of model ids (extracted e.g. from models_370-292.dat)\n",
    "- **`nmodels`** <br>\n",
    "--> number of models ($N$), which is also the number of ensemble members (relevant in the BioEn context) <br>\n",
    "--> `nmodels` = `nrotamers` <br>\n",
    "--> number of rotamers, which is needed to backcalculate weights of rotamers of a spin-label position (relevant in the analysis contex) <br>\n",
    "\n",
    "**Free energy parameters**\n",
    "- **`theta`** <br>\n",
    "--> confidence parameter $\\theta$\n",
    "- **`chi2_init`** <br>\n",
    "--> deviation from the experimental data with the initial weight distribution <br>\n",
    "--> if you use `chi2_init` of the maximal value of $\\theta$, $\\chi^2$ is calculated with the prior weight distribution `w0`\n",
    "- **`chi2`** <br>\n",
    "--> optimal $\\chi^2$ calculated with optimal weight distribution `wopt`\n",
    "- **`S_init`** <br>\n",
    "--> initial relative entropy\n",
    "--> if you use `S_init` of the maximal value of $\\theta$, $S$ is equal to $0$\n",
    "- **`S`** <br>\n",
    "--> relative entropy of optimized weight distribution\n",
    "- **`w0`** <br>\n",
    "--> reference weight distribution\n",
    "- **`winit`** <br>\n",
    "--> initial weight distribution\n",
    "- **`wopt`** <br>\n",
    "--> optimal weight distribution <br>\n",
    "--> optimized for each $\\theta$\n",
    "\n",
    "**Misc**\n",
    "- **`len_sim`** <br>\n",
    "--> seconds it took for BioEn to optimize for a given value of $\\theta$\n",
    "- **`optimization_method`** <br>\n",
    "--> information about the optimization method: log-weights or forces\n",
    "- **`optimization_minimizer`** <br>\n",
    "--> information about the minimer: scipy, GSL, LBFGS\n",
    "- **`optimization_algorithm`** <br>\n",
    "--> information about the inimizer: <br>\n",
    "--> scipy: bfgs, lbfgs, cg <br>\n",
    "--> GSL: conjugate_fr, conjugate_pr, bfgs, bfgs, steepest_descent<br>\n",
    "--> LBFGS: lbfgs <br>\n",
    "\n",
    "\n",
    "Several default plots are provided in the following, so that the analysis is as intuitive as the preparation and running BioEn itself.\n"
   ]
  },
  {
   "cell_type": "code",
   "execution_count": 11,
   "metadata": {},
   "outputs": [],
   "source": [
    "# define path for the output of the analysis\n",
    "path_output_analysis = 'files/output_analysis'\n",
    "! mkdir -p $path_output_analysis"
   ]
  },
  {
   "cell_type": "code",
   "execution_count": null,
   "metadata": {},
   "outputs": [],
   "source": []
  },
  {
   "cell_type": "markdown",
   "metadata": {
    "collapsed": true
   },
   "source": [
    "### $\\chi^{2} vs. S_{\\mathrm{KL}}$\n",
    "\n",
    "the lower $\\theta$, the closer to experimental data"
   ]
  },
  {
   "cell_type": "code",
   "execution_count": 12,
   "metadata": {},
   "outputs": [],
   "source": [
    "def visualize_chi2_skl(bioen_data):\n",
    "    fs = 22\n",
    "    fig = plt.figure(figsize=[6,4])\n",
    "    ax = fig.add_subplot(111)\n",
    "    \n",
    "    for theta in theta_series:\n",
    "        chi2 = bioen_data[theta]['chi2'] / bioen_data[theta]['nrestraints']\n",
    "        skl = - bioen_data[theta]['S']\n",
    "        ax.scatter(skl, chi2, marker='^', s=160, label=theta)  \n",
    "    \n",
    "    #ax.set_xticks(range(-1,6,1))   \n",
    "    #ax.set_xticklabels(range(-1,6,1), fontsize=fs)\n",
    "    #ax.set_xlim(-0.4,5.5)\n",
    "    ax.set_xlabel(r'$S_{\\mathrm{KL}}$', fontsize=fs)\n",
    "\n",
    "    #ax.set_yticks(np.arange(0,10,1))   \n",
    "    #ax.set_yticklabels(np.arange(0,10,1), fontsize=fs)\n",
    "    #ax.set_ylim(-0.2, 4)\n",
    "    ax.set_ylabel(r'$\\chi^{2}$', fontsize=fs)    \n",
    "    \n",
    "    plt.grid()\n",
    "    \n",
    "    ax.legend(ncol=2, fontsize=10)\n",
    "    \n",
    "    plt.tight_layout()\n",
    "    plt.savefig(\"{}/bioen_chi2_skl.png\".format(path_output_analysis), dpi=400)\n",
    "    plt.show()\n",
    "    return"
   ]
  },
  {
   "cell_type": "code",
   "execution_count": 13,
   "metadata": {},
   "outputs": [
    {
     "data": {
      "image/png": "[encoded data removed]",
      "text/plain": [
       "<Figure size 432x288 with 1 Axes>"
      ]
     },
     "metadata": {},
     "output_type": "display_data"
    }
   ],
   "source": [
    "visualize_chi2_skl(bioen_data)"
   ]
  },
  {
   "cell_type": "code",
   "execution_count": null,
   "metadata": {},
   "outputs": [],
   "source": []
  },
  {
   "cell_type": "markdown",
   "metadata": {},
   "source": [
    "## Comparison experimental and weighted ensemble averaged DEER traces"
   ]
  },
  {
   "cell_type": "code",
   "execution_count": 14,
   "metadata": {},
   "outputs": [],
   "source": [
    "def visualize_scattering_data(theta, bioen_data):\n",
    "    fs = 22\n",
    "    fig = plt.figure(figsize=[6,4])\n",
    "    ax = fig.add_subplot(111)\n",
    "    \n",
    "    theta_max = np.max(bioen_data.keys())\n",
    "    \n",
    "    exp = bioen_data[theta]['exp']['scattering']\n",
    "    exp_err = bioen_data[theta]['exp_err']['scattering']\n",
    "    \n",
    "    sim_init = bioen_data[theta_max]['sim_init']['scattering']\n",
    "    sim = bioen_data[theta]['sim_wopt']['scattering']\n",
    "    \n",
    "    ax.plot(exp[:,0], exp[:,1], color='black', linewidth=1.5, label='Exp.',zorder=2)\n",
    "    ax.fill_between(exp[:,0], exp[:,1]-exp_err, exp[:,1]+exp_err, color='black', alpha=0.2, label='Error', linewidth=1.0, zorder=1)\n",
    "    ax.plot(exp[:,0], sim_init, color='green', linewidth=2.0, label=r\"w0\",zorder=0)\n",
    "    ax.plot(exp[:,0], sim, color='red', linewidth=2.0, label=r\"BioEn (wopt)\".format(theta),zorder=3)\n",
    "    \n",
    "    #ax.set_xticks(np.arange(0,4.0,1.0))\n",
    "    #ax.set_xticklabels(np.arange(0,4.0,1.0), fontsize=fs)\n",
    "    #ax.set_xlim(0,3.5)\n",
    "    ax.set_xlabel(r'q [${\\AA}^{-1}$]', fontsize=fs)\n",
    "\n",
    "    #ax.set_yticks(np.arange(-0.6,1.4,0.2))\n",
    "    #ax.set_yticklabels(np.arange(-0.6,1.4,0.2), fontsize=fs)\n",
    "    #ax.set_ylim(0.35,1.0)\n",
    "    ax.set_ylabel(r'I(q)', fontsize=fs)\n",
    "\n",
    "    ax.legend(loc=1, ncol=2, fontsize=10)\n",
    "    \n",
    "    plt.grid()\n",
    "    \n",
    "    plt.tight_layout()\n",
    "    plt.savefig(\"{}/bioen_scattering.png\".format(path_output_analysis), dpi=400)\n",
    "    plt.show()\n",
    "    return"
   ]
  },
  {
   "cell_type": "code",
   "execution_count": 15,
   "metadata": {},
   "outputs": [
    {
     "data": {
      "image/png": "[encoded data removed]",
      "text/plain": [
       "<Figure size 432x288 with 1 Axes>"
      ]
     },
     "metadata": {},
     "output_type": "display_data"
    }
   ],
   "source": [
    "theta = 1.0\n",
    "visualize_scattering_data(theta, bioen_data)"
   ]
  },
  {
   "cell_type": "code",
   "execution_count": 16,
   "metadata": {},
   "outputs": [],
   "source": [
    "def visualize_scattering_all_thetas(bioen_data):\n",
    "    fs = 22\n",
    "    fig = plt.figure(figsize=[6,4])\n",
    "    ax = fig.add_subplot(111)\n",
    "    \n",
    "    theta_max = np.max(bioen_data.keys())\n",
    "    \n",
    "    exp = bioen_data[theta_max]['exp']['scattering']\n",
    "    ax.plot(exp[:,0], exp[:,1], color='black', linewidth=1.5, label='Exp.',zorder=2)\n",
    "    \n",
    "    a = np.linspace(0.1, 0.7, num=len(theta_series))\n",
    "    for i, theta in enumerate(theta_series):\n",
    "        sim = bioen_data[theta]['sim_wopt']['scattering']\n",
    "        ax.plot(exp[:,0], sim, color='red', alpha=a[i], linewidth=2.0, label=r\"BioEn ($\\theta={}$)\".format(theta), zorder=3)\n",
    "    \n",
    "    #ax.set_xticks(np.arange(0,4.0,1.0))\n",
    "    #ax.set_xticklabels(np.arange(0,4.0,1.0), fontsize=fs)\n",
    "    #ax.set_xlim(0,3.5)\n",
    "    ax.set_xlabel(r'q [${\\AA}^{-1}$]', fontsize=fs+2)\n",
    "\n",
    "    #ax.set_yticks(np.arange(-0.6,1.4,0.2))\n",
    "    #ax.set_yticklabels(np.arange(-0.6,1.4,0.2), fontsize=fs)\n",
    "    #ax.set_ylim(0.35,1.0)\n",
    "    ax.set_ylabel(r'I(q)', fontsize=fs)\n",
    "\n",
    "    ax.legend(loc=1, ncol=2, fontsize=10)\n",
    "    \n",
    "    plt.grid()\n",
    "    \n",
    "    plt.tight_layout()\n",
    "    plt.savefig(\"{}/bioen_theta_series.png\".format(path_output_analysis), dpi=400)\n",
    "    plt.show()\n",
    "    return"
   ]
  },
  {
   "cell_type": "code",
   "execution_count": 17,
   "metadata": {},
   "outputs": [
    {
     "data": {
      "image/png": "[encoded data removed]",
      "text/plain": [
       "<Figure size 432x288 with 1 Axes>"
      ]
     },
     "metadata": {},
     "output_type": "display_data"
    }
   ],
   "source": [
    "visualize_scattering_all_thetas(bioen_data)"
   ]
  },
  {
   "cell_type": "code",
   "execution_count": null,
   "metadata": {},
   "outputs": [],
   "source": []
  },
  {
   "cell_type": "markdown",
   "metadata": {},
   "source": [
    "## Cummulative weight"
   ]
  },
  {
   "cell_type": "code",
   "execution_count": 18,
   "metadata": {},
   "outputs": [],
   "source": [
    "def visualize_cum_dist(theta, bioen_data):\n",
    "    fs = 22\n",
    "    fig = plt.figure(figsize=[6,4])\n",
    "    ax = fig.add_subplot(111)\n",
    "    \n",
    "    nmodels = bioen_data[theta][\"nmodels\"]\n",
    "    a = np.vstack((bioen_data[theta][\"nmodels_list\"], np.array(bioen_data[theta][\"wopt\"]).reshape(1,-1)))\n",
    "    \n",
    "    models = []\n",
    "    for i, id in enumerate(np.argsort(a[1,:])[::-1]):\n",
    "        if i == 0: models.append([a[:,id][0], float(a[:,id][1]), float(a[:,id][1])])\n",
    "        else: models.append([a[:,id][0], float(a[:,id][1]), models[-1][2]+float(a[:,id][1])])\n",
    "\n",
    "    models = np.array(models)\n",
    "    ax.scatter(range(1,nmodels+1), models[:,2], s=20, color='green', zorder=2)\n",
    "    ax.plot(range(1,nmodels+1), models[:,2], color='black', zorder=1)\n",
    "\n",
    "    ax.set_xticks([0.0, 10.0, 100.0, 1000.0, 10000.0])\n",
    "    ax.set_xticklabels([r'$10^{0}$', r'$10^{1}$', r'$10^{2}$', r'$10^{3}$', r'$10^{4}$'], fontsize=fs)\n",
    "    ax.set_xlabel(\"Fraction of configurations\", fontsize=fs)\n",
    "    ax.semilogx()\n",
    "    ax.set_yticklabels(np.arange(0,1.2,0.2), fontsize=fs)\n",
    "    ax.set_ylim(0,1)\n",
    "    ax.set_ylabel(\"Cumulative distribution\", fontsize=fs)\n",
    "    \n",
    "    ax.grid()\n",
    "    \n",
    "    plt.savefig('{}/bioen_cum_weights.png'.format(path_output_analysis), dpi=600, bbox_inches='tight')\n",
    "    return"
   ]
  },
  {
   "cell_type": "code",
   "execution_count": 19,
   "metadata": {},
   "outputs": [
    {
     "data": {
      "image/png": "[encoded data removed]",
      "text/plain": [
       "<Figure size 432x288 with 1 Axes>"
      ]
     },
     "metadata": {},
     "output_type": "display_data"
    }
   ],
   "source": [
    "theta = 10.0\n",
    "visualize_cum_dist(theta, bioen_data)"
   ]
  },
  {
   "cell_type": "code",
   "execution_count": null,
   "metadata": {},
   "outputs": [],
   "source": []
  },
  {
   "cell_type": "code",
   "execution_count": null,
   "metadata": {},
   "outputs": [],
   "source": []
  }
 ],
 "metadata": {
  "anaconda-cloud": {},
  "kernelspec": {
   "display_name": "Python 2",
   "language": "python",
   "name": "python2"
  },
  "language_info": {
   "codemirror_mode": {
    "name": "ipython",
    "version": 2
   },
   "file_extension": ".py",
   "mimetype": "text/x-python",
   "name": "python",
   "nbconvert_exporter": "python",
   "pygments_lexer": "ipython2",
   "version": "2.7.12"
  },
  "latex_envs": {
   "LaTeX_envs_menu_present": true,
   "autoclose": false,
   "autocomplete": true,
   "bibliofile": "biblio.bib",
   "cite_by": "apalike",
   "current_citInitial": 1,
   "eqLabelWithNumbers": true,
   "eqNumInitial": 1,
   "hotkeys": {
    "equation": "Ctrl-E",
    "itemize": "Ctrl-I"
   },
   "labels_anchors": false,
   "latex_user_defs": false,
   "report_style_numbering": true,
   "user_envs_cfg": false
  },
  "toc": {
   "nav_menu": {
    "height": "68px",
    "width": "252px"
   },
   "number_sections": true,
   "sideBar": true,
   "skip_h1_title": false,
   "title_cell": "Table of Contents",
   "title_sidebar": "Contents",
   "toc_cell": false,
   "toc_position": {},
   "toc_section_display": "block",
   "toc_window_display": false
  }
 },
 "nbformat": 4,
 "nbformat_minor": 1
}
